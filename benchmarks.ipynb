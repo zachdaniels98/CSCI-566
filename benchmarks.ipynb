{
 "cells": [
  {
   "cell_type": "code",
   "execution_count": 1,
   "id": "031557cd",
   "metadata": {},
   "outputs": [
    {
     "name": "stdout",
     "output_type": "stream",
     "text": [
      "🦥 Unsloth: Will patch your computer to enable 2x faster free finetuning.\n"
     ]
    },
    {
     "name": "stderr",
     "output_type": "stream",
     "text": [
      "WARNING[XFORMERS]: xFormers can't load C++/CUDA extensions. xFormers was built for:\n",
      "    PyTorch 2.6.0+cu124 with CUDA 1204 (you have 2.6.0+cu118)\n",
      "    Python  3.12.8 (you have 3.12.9)\n",
      "  Please reinstall xformers (see https://github.com/facebookresearch/xformers#installing-xformers)\n",
      "  Memory-efficient attention, SwiGLU, sparse and more won't be available.\n",
      "  Set XFORMERS_MORE_DETAILS=1 for more details\n"
     ]
    },
    {
     "name": "stdout",
     "output_type": "stream",
     "text": [
      "🦥 Unsloth Zoo will now patch everything to make training faster!\n"
     ]
    }
   ],
   "source": [
    "import unsloth\n",
    "from datasets import load_dataset\n",
    "from transformers import AutoTokenizer, TextStreamer\n",
    "from unsloth import FastLanguageModel\n",
    "import torch\n",
    "from transformers import AutoModelForCausalLM, AutoTokenizer\n",
    "from peft import PeftModel, PeftConfig\n",
    "import os\n",
    "from tqdm import tqdm"
   ]
  },
  {
   "cell_type": "code",
   "execution_count": 2,
   "id": "e114b9d2",
   "metadata": {},
   "outputs": [],
   "source": [
    "# Load test split\n",
    "dataset = load_dataset(\"json\", data_files=\"responses_10000.jsonl\", split=\"train\")\n",
    "# dataset = dataset[-1000:]"
   ]
  },
  {
   "cell_type": "code",
   "execution_count": 3,
   "id": "7ec7f279",
   "metadata": {},
   "outputs": [],
   "source": [
    "prompt_style = \"\"\"Below is an instruction that describes a task, paired with an input that provides further context.\n",
    "Write a response that appropriately completes the request.\n",
    "\n",
    "### Instruction:\n",
    "You are a legal expert. Provide accurate, well-reasoned legal insights using proper legal terminology.\n",
    "Maintain a professional, objective tone. Be specific about which laws or legal principles apply.\n",
    "Explain the person's rights, cite the relevant statute(s), and give a clear legal opinion.\n",
    "When unsure, advise consulting a qualified attorney.\n",
    "\n",
    "### Input:\n",
    "{}\n",
    "\n",
    "### Response:\n",
    "{}\"\"\"\n",
    "\n",
    "# Define the end-of-sequence token\n",
    "EOS_TOKEN = '<end>'"
   ]
  },
  {
   "cell_type": "code",
   "execution_count": 4,
   "id": "0f20775c",
   "metadata": {},
   "outputs": [],
   "source": [
    "def formatting_prompts_func(examples):\n",
    "    return {\n",
    "        'text': [\n",
    "            prompt_style.format(q, a) + EOS_TOKEN\n",
    "            for q, a in zip(examples['question'], examples['response'])\n",
    "        ]\n",
    "    }\n",
    "\n",
    "# Apply the function to format the dataset\n",
    "dataset_finetune = dataset.map(formatting_prompts_func)\n",
    "dataset_finetune = dataset_finetune.select(range(len(dataset_finetune) - 1000, len(dataset_finetune)))\n",
    "\n",
    "# Print the formatted text from the first example to verify\n",
    "# print(\"Formatted prompt example:\")\n",
    "# print(dataset_finetune[\"text\"][0])\n",
    "\n",
    "# dataset_finetune = dataset_finetune[-1000:]"
   ]
  },
  {
   "cell_type": "code",
   "execution_count": 5,
   "id": "8727d100",
   "metadata": {},
   "outputs": [
    {
     "name": "stderr",
     "output_type": "stream",
     "text": [
      "c:\\Users\\Zachary Daniels\\anaconda3\\envs\\ml\\Lib\\site-packages\\unsloth_zoo\\gradient_checkpointing.py:330: UserWarning: expandable_segments not supported on this platform (Triggered internally at C:\\actions-runner\\_work\\pytorch\\pytorch\\pytorch\\c10/cuda/CUDAAllocatorConfig.h:28.)\n",
      "  GPU_BUFFERS = tuple([torch.empty(2*256*2048, dtype = dtype, device = f\"cuda:{i}\") for i in range(n_gpus)])\n"
     ]
    },
    {
     "name": "stdout",
     "output_type": "stream",
     "text": [
      "==((====))==  Unsloth 2025.3.19: Fast Llama patching. Transformers: 4.49.0.\n",
      "   \\\\   /|    NVIDIA GeForce RTX 4070. Num GPUs = 1. Max memory: 11.994 GB. Platform: Windows.\n",
      "O^O/ \\_/ \\    Torch: 2.6.0+cu118. CUDA: 8.9. CUDA Toolkit: 11.8. Triton: 3.2.0\n",
      "\\        /    Bfloat16 = TRUE. FA [Xformers = None. FA2 = False]\n",
      " \"-____-\"     Free license: http://github.com/unslothai/unsloth\n",
      "Unsloth: Fast downloading is enabled - ignore downloading bars which are red colored!\n"
     ]
    },
    {
     "data": {
      "application/vnd.jupyter.widget-view+json": {
       "model_id": "e570c5a0f827492e8af1ffb7635fb3c4",
       "version_major": 2,
       "version_minor": 0
      },
      "text/plain": [
       "Loading checkpoint shards:   0%|          | 0/4 [00:00<?, ?it/s]"
      ]
     },
     "metadata": {},
     "output_type": "display_data"
    }
   ],
   "source": [
    "# Load fine-tuned model from Unsloth\n",
    "device = \"cuda\" if torch.cuda.is_available() else \"cpu\"\n",
    "\n",
    "model_path = \"llama3_gguf\"  # Folder containing config.json, pytorch_model.bin, etc.\n",
    "\n",
    "# Load the full fine-tuned model (no need to call load_adapter)\n",
    "model, tokenizer = FastLanguageModel.from_pretrained(\n",
    "    model_name=model_path,\n",
    "    max_seq_length=2048,\n",
    "    dtype=torch.float16,  # or torch.float16\n",
    "    load_in_4bit=True,  # if you want quantization (depends on your use case)\n",
    "    device_map=\"auto\",\n",
    ")\n",
    "\n",
    "# model = model.to(device)\n",
    "\n",
    "# Set to eval mode\n",
    "# model.eval()\n",
    "\n",
    "# Optional: Use a streamer to print generated text\n",
    "# streamer = TextStreamer(tokenizer)"
   ]
  },
  {
   "cell_type": "code",
   "execution_count": 6,
   "id": "d7cd718f",
   "metadata": {},
   "outputs": [],
   "source": [
    "model.load_adapter(\"unslothllama-3-8b-Instruct\")"
   ]
  },
  {
   "cell_type": "code",
   "execution_count": null,
   "id": "513050a0",
   "metadata": {},
   "outputs": [
    {
     "name": "stderr",
     "output_type": "stream",
     "text": [
      "Generating responses:   0%|          | 0/1000 [00:00<?, ?it/s]"
     ]
    }
   ],
   "source": [
    "import json\n",
    "\n",
    "results = []\n",
    "\n",
    "# Run inference on test set\n",
    "for example in tqdm(dataset_finetune, desc=\"Generating responses\"):\n",
    "    input_text = example[\"text\"]  # Adjust field name if needed\n",
    "    inputs = tokenizer(input_text, return_tensors=\"pt\", padding=True, truncation=True).to(model.device)\n",
    "\n",
    "    with torch.no_grad():\n",
    "        output = model.generate(\n",
    "            input_ids=inputs.input_ids,\n",
    "            attention_mask=inputs.attention_mask,\n",
    "            max_new_tokens=500\n",
    "        )\n",
    "        decoded_output = tokenizer.decode(output[0], skip_special_tokens=True)\n",
    "\n",
    "    # Store input-output pair\n",
    "    results.append({\n",
    "        \"input\": input_text,\n",
    "        \"output\": decoded_output\n",
    "    })\n",
    "\n",
    "# Save to JSON file\n",
    "with open(\"generated_outputs.json\", \"w\", encoding=\"utf-8\") as f:\n",
    "    json.dump(results, f, indent=2, ensure_ascii=False)\n"
   ]
  }
 ],
 "metadata": {
  "kernelspec": {
   "display_name": "ml",
   "language": "python",
   "name": "python3"
  },
  "language_info": {
   "codemirror_mode": {
    "name": "ipython",
    "version": 3
   },
   "file_extension": ".py",
   "mimetype": "text/x-python",
   "name": "python",
   "nbconvert_exporter": "python",
   "pygments_lexer": "ipython3",
   "version": "3.12.9"
  }
 },
 "nbformat": 4,
 "nbformat_minor": 5
}
