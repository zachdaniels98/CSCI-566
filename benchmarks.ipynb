{
 "cells": [
  {
   "cell_type": "code",
   "execution_count": 1,
   "id": "031557cd",
   "metadata": {},
   "outputs": [
    {
     "name": "stdout",
     "output_type": "stream",
     "text": [
      "🦥 Unsloth: Will patch your computer to enable 2x faster free finetuning.\n",
      "Unsloth: Failed to patch Gemma3ForConditionalGeneration.\n",
      "🦥 Unsloth Zoo will now patch everything to make training faster!\n"
     ]
    }
   ],
   "source": [
    "import unsloth\n",
    "from datasets import load_dataset\n",
    "from transformers import AutoTokenizer, TextStreamer\n",
    "from unsloth import FastLanguageModel\n",
    "import torch\n",
    "from transformers import AutoModelForCausalLM, AutoTokenizer\n",
    "from peft import PeftModel, PeftConfig\n",
    "import os\n",
    "from tqdm import tqdm"
   ]
  },
  {
   "cell_type": "code",
   "execution_count": 2,
   "id": "e114b9d2",
   "metadata": {},
   "outputs": [],
   "source": [
    "# Load test split\n",
    "dataset = load_dataset(\"json\", data_files=\"responses_10000.jsonl\", split=\"train\")\n",
    "# dataset = dataset[-1000:]"
   ]
  },
  {
   "cell_type": "code",
   "execution_count": 3,
   "id": "7ec7f279",
   "metadata": {},
   "outputs": [],
   "source": [
    "prompt_style = \"\"\"Below is an instruction that describes a task, paired with an input that provides further context.\n",
    "Write a response that appropriately completes the request.\n",
    "\n",
    "### Instruction:\n",
    "You are a legal expert. Provide accurate, well-reasoned legal insights using proper legal terminology.\n",
    "Maintain a professional, objective tone. Be specific about which laws or legal principles apply.\n",
    "Explain the person's rights, cite the relevant statute(s), and give a clear legal opinion.\n",
    "When unsure, advise consulting a qualified attorney.\n",
    "\n",
    "### Input:\n",
    "{}\n",
    "\n",
    "### Response:\n",
    "{}\"\"\"\n",
    "\n",
    "# Define the end-of-sequence token\n",
    "EOS_TOKEN = '<end>'"
   ]
  },
  {
   "cell_type": "code",
   "execution_count": 4,
   "id": "0f20775c",
   "metadata": {},
   "outputs": [],
   "source": [
    "def formatting_prompts_func(examples):\n",
    "    return {\n",
    "        'text': [\n",
    "            prompt_style.format(q, a) + EOS_TOKEN\n",
    "            for q, a in zip(examples['question'], examples['response'])\n",
    "        ]\n",
    "    }\n",
    "\n",
    "# Apply the function to format the dataset\n",
    "dataset_finetune = dataset.map(formatting_prompts_func)\n",
    "dataset_finetune = dataset_finetune.select(range(len(dataset_finetune) - 1000, len(dataset_finetune)))\n",
    "\n",
    "# Print the formatted text from the first example to verify\n",
    "# print(\"Formatted prompt example:\")\n",
    "# print(dataset_finetune[\"text\"][0])\n",
    "\n",
    "# dataset_finetune = dataset_finetune[-1000:]"
   ]
  },
  {
   "cell_type": "code",
   "execution_count": null,
   "id": "8727d100",
   "metadata": {},
   "outputs": [
    {
     "name": "stdout",
     "output_type": "stream",
     "text": [
      "==((====))==  Unsloth 2025.3.19: Fast Mistral patching. Transformers: 4.51.3.\n",
      "   \\\\   /|    NVIDIA GeForce RTX 4070 Laptop GPU. Num GPUs = 1. Max memory: 7.996 GB. Platform: Linux.\n",
      "O^O/ \\_/ \\    Torch: 2.7.0+cu126. CUDA: 8.9. CUDA Toolkit: 12.6. Triton: 3.3.0\n",
      "\\        /    Bfloat16 = TRUE. FA [Xformers = None. FA2 = False]\n",
      " \"-____-\"     Free license: http://github.com/unslothai/unsloth\n",
      "Unsloth: Fast downloading is enabled - ignore downloading bars which are red colored!\n"
     ]
    },
    {
     "data": {
      "application/vnd.jupyter.widget-view+json": {
       "model_id": "b7d27e70f6264b4c9da24d177c4221b0",
       "version_major": 2,
       "version_minor": 0
      },
      "text/plain": [
       "Loading checkpoint shards:   0%|          | 0/3 [00:00<?, ?it/s]"
      ]
     },
     "metadata": {},
     "output_type": "display_data"
    }
   ],
   "source": [
    "import os\n",
    "\n",
    "# Tell Unsloth not to use xformers (important: set before importing Unsloth)\n",
    "os.environ[\"USE_XFORMERS\"] = \"False\"\n",
    "device = \"cuda\" if torch.cuda.is_available() else \"cpu\"\n",
    "\n",
    "model_path = \"mistral_gguf\"  # Folder containing config.json, pytorch_model.bin, etc.\n",
    "\n",
    "# Load the full fine-tuned model (no need to call load_adapter)\n",
    "model, tokenizer = FastLanguageModel.from_pretrained(\n",
    "    model_name=model_path,\n",
    "    max_seq_length=2048,\n",
    "    dtype=torch.float16,  # or torch.float16\n",
    "    load_in_4bit=True,  # if you want quantization (depends on your use case)\n",
    "    device_map=\"auto\",\n",
    ")"
   ]
  },
  {
   "cell_type": "code",
   "execution_count": null,
   "id": "d7cd718f",
   "metadata": {},
   "outputs": [],
   "source": [
    "model.load_adapter(\"mistral_model\")"
   ]
  },
  {
   "cell_type": "code",
   "execution_count": null,
   "id": "513050a0",
   "metadata": {},
   "outputs": [],
   "source": [
    "import json\n",
    "\n",
    "results = []\n",
    "\n",
    "# Run inference on test set\n",
    "for example in tqdm(dataset_finetune, desc=\"Generating responses\"):\n",
    "    input_text = example[\"text\"]  # Adjust field name if needed\n",
    "    inputs = tokenizer(input_text, return_tensors=\"pt\", padding=True, truncation=True).to(model.device)\n",
    "\n",
    "    with torch.no_grad():\n",
    "        output = model.generate(\n",
    "            input_ids=inputs.input_ids,\n",
    "            attention_mask=inputs.attention_mask,\n",
    "            max_new_tokens=500\n",
    "        )\n",
    "        decoded_output = tokenizer.decode(output[0], skip_special_tokens=True)\n",
    "\n",
    "    # Store input-output pair\n",
    "    results.append({\n",
    "        \"input\": input_text,\n",
    "        \"output\": decoded_output\n",
    "    })\n",
    "\n",
    "# Save to JSON file\n",
    "with open(\"generated_outputs.json\", \"w\", encoding=\"utf-8\") as f:\n",
    "    json.dump(results, f, indent=2, ensure_ascii=False)\n"
   ]
  }
 ],
 "metadata": {
  "kernelspec": {
   "display_name": "base",
   "language": "python",
   "name": "python3"
  },
  "language_info": {
   "codemirror_mode": {
    "name": "ipython",
    "version": 3
   },
   "file_extension": ".py",
   "mimetype": "text/x-python",
   "name": "python",
   "nbconvert_exporter": "python",
   "pygments_lexer": "ipython3",
   "version": "3.11.5"
  }
 },
 "nbformat": 4,
 "nbformat_minor": 5
}
