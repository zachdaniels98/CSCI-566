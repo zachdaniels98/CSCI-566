{
  "nbformat": 4,
  "nbformat_minor": 0,
  "metadata": {
    "colab": {
      "provenance": [],
      "gpuType": "T4"
    },
    "kernelspec": {
      "name": "python3",
      "display_name": "Python 3"
    },
    "language_info": {
      "name": "python"
    },
    "accelerator": "GPU",
    "widgets": {
      "application/vnd.jupyter.widget-state+json": {
        "81ca94d0e9db4d1d80d4fb5dd5d7d967": {
          "model_module": "@jupyter-widgets/controls",
          "model_name": "HBoxModel",
          "model_module_version": "1.5.0",
          "state": {
            "_dom_classes": [],
            "_model_module": "@jupyter-widgets/controls",
            "_model_module_version": "1.5.0",
            "_model_name": "HBoxModel",
            "_view_count": null,
            "_view_module": "@jupyter-widgets/controls",
            "_view_module_version": "1.5.0",
            "_view_name": "HBoxView",
            "box_style": "",
            "children": [
              "IPY_MODEL_23731294a9ac4dbba4a77706f2a4ffb5",
              "IPY_MODEL_da7db8e1aa204063b295a6a07bd84f86",
              "IPY_MODEL_2f72d0374617494d9596ba8134cb7097"
            ],
            "layout": "IPY_MODEL_151770d97c404ab0af87d85c8f65d234"
          }
        },
        "23731294a9ac4dbba4a77706f2a4ffb5": {
          "model_module": "@jupyter-widgets/controls",
          "model_name": "HTMLModel",
          "model_module_version": "1.5.0",
          "state": {
            "_dom_classes": [],
            "_model_module": "@jupyter-widgets/controls",
            "_model_module_version": "1.5.0",
            "_model_name": "HTMLModel",
            "_view_count": null,
            "_view_module": "@jupyter-widgets/controls",
            "_view_module_version": "1.5.0",
            "_view_name": "HTMLView",
            "description": "",
            "description_tooltip": null,
            "layout": "IPY_MODEL_964a53318ce94cedb639bf1a0b092996",
            "placeholder": "​",
            "style": "IPY_MODEL_af51e1dad822452fb03542661d5476ad",
            "value": "model.safetensors: 100%"
          }
        },
        "da7db8e1aa204063b295a6a07bd84f86": {
          "model_module": "@jupyter-widgets/controls",
          "model_name": "FloatProgressModel",
          "model_module_version": "1.5.0",
          "state": {
            "_dom_classes": [],
            "_model_module": "@jupyter-widgets/controls",
            "_model_module_version": "1.5.0",
            "_model_name": "FloatProgressModel",
            "_view_count": null,
            "_view_module": "@jupyter-widgets/controls",
            "_view_module_version": "1.5.0",
            "_view_name": "ProgressView",
            "bar_style": "danger",
            "description": "",
            "description_tooltip": null,
            "layout": "IPY_MODEL_569b2a5c76e247f39cfe2eed3ac889a0",
            "max": 5964186418,
            "min": 0,
            "orientation": "horizontal",
            "style": "IPY_MODEL_35d330e65ff54d85984230207aed50c8",
            "value": 5964185850
          }
        },
        "2f72d0374617494d9596ba8134cb7097": {
          "model_module": "@jupyter-widgets/controls",
          "model_name": "HTMLModel",
          "model_module_version": "1.5.0",
          "state": {
            "_dom_classes": [],
            "_model_module": "@jupyter-widgets/controls",
            "_model_module_version": "1.5.0",
            "_model_name": "HTMLModel",
            "_view_count": null,
            "_view_module": "@jupyter-widgets/controls",
            "_view_module_version": "1.5.0",
            "_view_name": "HTMLView",
            "description": "",
            "description_tooltip": null,
            "layout": "IPY_MODEL_f16d8a38dbc348b99a51eba627c21e63",
            "placeholder": "​",
            "style": "IPY_MODEL_34d230f2aa674664ba1af9bce7acd78c",
            "value": " 5.96G/5.96G [01:01&lt;00:00, 175MB/s]"
          }
        },
        "151770d97c404ab0af87d85c8f65d234": {
          "model_module": "@jupyter-widgets/base",
          "model_name": "LayoutModel",
          "model_module_version": "1.2.0",
          "state": {
            "_model_module": "@jupyter-widgets/base",
            "_model_module_version": "1.2.0",
            "_model_name": "LayoutModel",
            "_view_count": null,
            "_view_module": "@jupyter-widgets/base",
            "_view_module_version": "1.2.0",
            "_view_name": "LayoutView",
            "align_content": null,
            "align_items": null,
            "align_self": null,
            "border": null,
            "bottom": null,
            "display": null,
            "flex": null,
            "flex_flow": null,
            "grid_area": null,
            "grid_auto_columns": null,
            "grid_auto_flow": null,
            "grid_auto_rows": null,
            "grid_column": null,
            "grid_gap": null,
            "grid_row": null,
            "grid_template_areas": null,
            "grid_template_columns": null,
            "grid_template_rows": null,
            "height": null,
            "justify_content": null,
            "justify_items": null,
            "left": null,
            "margin": null,
            "max_height": null,
            "max_width": null,
            "min_height": null,
            "min_width": null,
            "object_fit": null,
            "object_position": null,
            "order": null,
            "overflow": null,
            "overflow_x": null,
            "overflow_y": null,
            "padding": null,
            "right": null,
            "top": null,
            "visibility": null,
            "width": null
          }
        },
        "964a53318ce94cedb639bf1a0b092996": {
          "model_module": "@jupyter-widgets/base",
          "model_name": "LayoutModel",
          "model_module_version": "1.2.0",
          "state": {
            "_model_module": "@jupyter-widgets/base",
            "_model_module_version": "1.2.0",
            "_model_name": "LayoutModel",
            "_view_count": null,
            "_view_module": "@jupyter-widgets/base",
            "_view_module_version": "1.2.0",
            "_view_name": "LayoutView",
            "align_content": null,
            "align_items": null,
            "align_self": null,
            "border": null,
            "bottom": null,
            "display": null,
            "flex": null,
            "flex_flow": null,
            "grid_area": null,
            "grid_auto_columns": null,
            "grid_auto_flow": null,
            "grid_auto_rows": null,
            "grid_column": null,
            "grid_gap": null,
            "grid_row": null,
            "grid_template_areas": null,
            "grid_template_columns": null,
            "grid_template_rows": null,
            "height": null,
            "justify_content": null,
            "justify_items": null,
            "left": null,
            "margin": null,
            "max_height": null,
            "max_width": null,
            "min_height": null,
            "min_width": null,
            "object_fit": null,
            "object_position": null,
            "order": null,
            "overflow": null,
            "overflow_x": null,
            "overflow_y": null,
            "padding": null,
            "right": null,
            "top": null,
            "visibility": null,
            "width": null
          }
        },
        "af51e1dad822452fb03542661d5476ad": {
          "model_module": "@jupyter-widgets/controls",
          "model_name": "DescriptionStyleModel",
          "model_module_version": "1.5.0",
          "state": {
            "_model_module": "@jupyter-widgets/controls",
            "_model_module_version": "1.5.0",
            "_model_name": "DescriptionStyleModel",
            "_view_count": null,
            "_view_module": "@jupyter-widgets/base",
            "_view_module_version": "1.2.0",
            "_view_name": "StyleView",
            "description_width": ""
          }
        },
        "569b2a5c76e247f39cfe2eed3ac889a0": {
          "model_module": "@jupyter-widgets/base",
          "model_name": "LayoutModel",
          "model_module_version": "1.2.0",
          "state": {
            "_model_module": "@jupyter-widgets/base",
            "_model_module_version": "1.2.0",
            "_model_name": "LayoutModel",
            "_view_count": null,
            "_view_module": "@jupyter-widgets/base",
            "_view_module_version": "1.2.0",
            "_view_name": "LayoutView",
            "align_content": null,
            "align_items": null,
            "align_self": null,
            "border": null,
            "bottom": null,
            "display": null,
            "flex": null,
            "flex_flow": null,
            "grid_area": null,
            "grid_auto_columns": null,
            "grid_auto_flow": null,
            "grid_auto_rows": null,
            "grid_column": null,
            "grid_gap": null,
            "grid_row": null,
            "grid_template_areas": null,
            "grid_template_columns": null,
            "grid_template_rows": null,
            "height": null,
            "justify_content": null,
            "justify_items": null,
            "left": null,
            "margin": null,
            "max_height": null,
            "max_width": null,
            "min_height": null,
            "min_width": null,
            "object_fit": null,
            "object_position": null,
            "order": null,
            "overflow": null,
            "overflow_x": null,
            "overflow_y": null,
            "padding": null,
            "right": null,
            "top": null,
            "visibility": null,
            "width": null
          }
        },
        "35d330e65ff54d85984230207aed50c8": {
          "model_module": "@jupyter-widgets/controls",
          "model_name": "ProgressStyleModel",
          "model_module_version": "1.5.0",
          "state": {
            "_model_module": "@jupyter-widgets/controls",
            "_model_module_version": "1.5.0",
            "_model_name": "ProgressStyleModel",
            "_view_count": null,
            "_view_module": "@jupyter-widgets/base",
            "_view_module_version": "1.2.0",
            "_view_name": "StyleView",
            "bar_color": null,
            "description_width": ""
          }
        },
        "f16d8a38dbc348b99a51eba627c21e63": {
          "model_module": "@jupyter-widgets/base",
          "model_name": "LayoutModel",
          "model_module_version": "1.2.0",
          "state": {
            "_model_module": "@jupyter-widgets/base",
            "_model_module_version": "1.2.0",
            "_model_name": "LayoutModel",
            "_view_count": null,
            "_view_module": "@jupyter-widgets/base",
            "_view_module_version": "1.2.0",
            "_view_name": "LayoutView",
            "align_content": null,
            "align_items": null,
            "align_self": null,
            "border": null,
            "bottom": null,
            "display": null,
            "flex": null,
            "flex_flow": null,
            "grid_area": null,
            "grid_auto_columns": null,
            "grid_auto_flow": null,
            "grid_auto_rows": null,
            "grid_column": null,
            "grid_gap": null,
            "grid_row": null,
            "grid_template_areas": null,
            "grid_template_columns": null,
            "grid_template_rows": null,
            "height": null,
            "justify_content": null,
            "justify_items": null,
            "left": null,
            "margin": null,
            "max_height": null,
            "max_width": null,
            "min_height": null,
            "min_width": null,
            "object_fit": null,
            "object_position": null,
            "order": null,
            "overflow": null,
            "overflow_x": null,
            "overflow_y": null,
            "padding": null,
            "right": null,
            "top": null,
            "visibility": null,
            "width": null
          }
        },
        "34d230f2aa674664ba1af9bce7acd78c": {
          "model_module": "@jupyter-widgets/controls",
          "model_name": "DescriptionStyleModel",
          "model_module_version": "1.5.0",
          "state": {
            "_model_module": "@jupyter-widgets/controls",
            "_model_module_version": "1.5.0",
            "_model_name": "DescriptionStyleModel",
            "_view_count": null,
            "_view_module": "@jupyter-widgets/base",
            "_view_module_version": "1.2.0",
            "_view_name": "StyleView",
            "description_width": ""
          }
        },
        "ed69972a3a88458d8066308a44014471": {
          "model_module": "@jupyter-widgets/controls",
          "model_name": "HBoxModel",
          "model_module_version": "1.5.0",
          "state": {
            "_dom_classes": [],
            "_model_module": "@jupyter-widgets/controls",
            "_model_module_version": "1.5.0",
            "_model_name": "HBoxModel",
            "_view_count": null,
            "_view_module": "@jupyter-widgets/controls",
            "_view_module_version": "1.5.0",
            "_view_name": "HBoxView",
            "box_style": "",
            "children": [
              "IPY_MODEL_413865594ac04f6c97d740955f94c3c3",
              "IPY_MODEL_b44e72c83eb94596a381930ae15c7bae",
              "IPY_MODEL_2cd3df8c3270493589bbdd4b0a6b2dfe"
            ],
            "layout": "IPY_MODEL_e4c8316604ef4f4c9d91c9af9fa61b6a"
          }
        },
        "413865594ac04f6c97d740955f94c3c3": {
          "model_module": "@jupyter-widgets/controls",
          "model_name": "HTMLModel",
          "model_module_version": "1.5.0",
          "state": {
            "_dom_classes": [],
            "_model_module": "@jupyter-widgets/controls",
            "_model_module_version": "1.5.0",
            "_model_name": "HTMLModel",
            "_view_count": null,
            "_view_module": "@jupyter-widgets/controls",
            "_view_module_version": "1.5.0",
            "_view_name": "HTMLView",
            "description": "",
            "description_tooltip": null,
            "layout": "IPY_MODEL_26a0fd6f014e4414879fd70cc562892d",
            "placeholder": "​",
            "style": "IPY_MODEL_daf56b2d0c734cd89c7d901fd2105edf",
            "value": "generation_config.json: 100%"
          }
        },
        "b44e72c83eb94596a381930ae15c7bae": {
          "model_module": "@jupyter-widgets/controls",
          "model_name": "FloatProgressModel",
          "model_module_version": "1.5.0",
          "state": {
            "_dom_classes": [],
            "_model_module": "@jupyter-widgets/controls",
            "_model_module_version": "1.5.0",
            "_model_name": "FloatProgressModel",
            "_view_count": null,
            "_view_module": "@jupyter-widgets/controls",
            "_view_module_version": "1.5.0",
            "_view_name": "ProgressView",
            "bar_style": "success",
            "description": "",
            "description_tooltip": null,
            "layout": "IPY_MODEL_a777d40f067e42efb547343da2fb9a19",
            "max": 236,
            "min": 0,
            "orientation": "horizontal",
            "style": "IPY_MODEL_e6aebb1de89b40fba2f8b258740d408a",
            "value": 236
          }
        },
        "2cd3df8c3270493589bbdd4b0a6b2dfe": {
          "model_module": "@jupyter-widgets/controls",
          "model_name": "HTMLModel",
          "model_module_version": "1.5.0",
          "state": {
            "_dom_classes": [],
            "_model_module": "@jupyter-widgets/controls",
            "_model_module_version": "1.5.0",
            "_model_name": "HTMLModel",
            "_view_count": null,
            "_view_module": "@jupyter-widgets/controls",
            "_view_module_version": "1.5.0",
            "_view_name": "HTMLView",
            "description": "",
            "description_tooltip": null,
            "layout": "IPY_MODEL_6a37e59e0b0f45288e4c45fed8051997",
            "placeholder": "​",
            "style": "IPY_MODEL_1dff69ca62f246d3b0ee6379efea6e93",
            "value": " 236/236 [00:00&lt;00:00, 25.5kB/s]"
          }
        },
        "e4c8316604ef4f4c9d91c9af9fa61b6a": {
          "model_module": "@jupyter-widgets/base",
          "model_name": "LayoutModel",
          "model_module_version": "1.2.0",
          "state": {
            "_model_module": "@jupyter-widgets/base",
            "_model_module_version": "1.2.0",
            "_model_name": "LayoutModel",
            "_view_count": null,
            "_view_module": "@jupyter-widgets/base",
            "_view_module_version": "1.2.0",
            "_view_name": "LayoutView",
            "align_content": null,
            "align_items": null,
            "align_self": null,
            "border": null,
            "bottom": null,
            "display": null,
            "flex": null,
            "flex_flow": null,
            "grid_area": null,
            "grid_auto_columns": null,
            "grid_auto_flow": null,
            "grid_auto_rows": null,
            "grid_column": null,
            "grid_gap": null,
            "grid_row": null,
            "grid_template_areas": null,
            "grid_template_columns": null,
            "grid_template_rows": null,
            "height": null,
            "justify_content": null,
            "justify_items": null,
            "left": null,
            "margin": null,
            "max_height": null,
            "max_width": null,
            "min_height": null,
            "min_width": null,
            "object_fit": null,
            "object_position": null,
            "order": null,
            "overflow": null,
            "overflow_x": null,
            "overflow_y": null,
            "padding": null,
            "right": null,
            "top": null,
            "visibility": null,
            "width": null
          }
        },
        "26a0fd6f014e4414879fd70cc562892d": {
          "model_module": "@jupyter-widgets/base",
          "model_name": "LayoutModel",
          "model_module_version": "1.2.0",
          "state": {
            "_model_module": "@jupyter-widgets/base",
            "_model_module_version": "1.2.0",
            "_model_name": "LayoutModel",
            "_view_count": null,
            "_view_module": "@jupyter-widgets/base",
            "_view_module_version": "1.2.0",
            "_view_name": "LayoutView",
            "align_content": null,
            "align_items": null,
            "align_self": null,
            "border": null,
            "bottom": null,
            "display": null,
            "flex": null,
            "flex_flow": null,
            "grid_area": null,
            "grid_auto_columns": null,
            "grid_auto_flow": null,
            "grid_auto_rows": null,
            "grid_column": null,
            "grid_gap": null,
            "grid_row": null,
            "grid_template_areas": null,
            "grid_template_columns": null,
            "grid_template_rows": null,
            "height": null,
            "justify_content": null,
            "justify_items": null,
            "left": null,
            "margin": null,
            "max_height": null,
            "max_width": null,
            "min_height": null,
            "min_width": null,
            "object_fit": null,
            "object_position": null,
            "order": null,
            "overflow": null,
            "overflow_x": null,
            "overflow_y": null,
            "padding": null,
            "right": null,
            "top": null,
            "visibility": null,
            "width": null
          }
        },
        "daf56b2d0c734cd89c7d901fd2105edf": {
          "model_module": "@jupyter-widgets/controls",
          "model_name": "DescriptionStyleModel",
          "model_module_version": "1.5.0",
          "state": {
            "_model_module": "@jupyter-widgets/controls",
            "_model_module_version": "1.5.0",
            "_model_name": "DescriptionStyleModel",
            "_view_count": null,
            "_view_module": "@jupyter-widgets/base",
            "_view_module_version": "1.2.0",
            "_view_name": "StyleView",
            "description_width": ""
          }
        },
        "a777d40f067e42efb547343da2fb9a19": {
          "model_module": "@jupyter-widgets/base",
          "model_name": "LayoutModel",
          "model_module_version": "1.2.0",
          "state": {
            "_model_module": "@jupyter-widgets/base",
            "_model_module_version": "1.2.0",
            "_model_name": "LayoutModel",
            "_view_count": null,
            "_view_module": "@jupyter-widgets/base",
            "_view_module_version": "1.2.0",
            "_view_name": "LayoutView",
            "align_content": null,
            "align_items": null,
            "align_self": null,
            "border": null,
            "bottom": null,
            "display": null,
            "flex": null,
            "flex_flow": null,
            "grid_area": null,
            "grid_auto_columns": null,
            "grid_auto_flow": null,
            "grid_auto_rows": null,
            "grid_column": null,
            "grid_gap": null,
            "grid_row": null,
            "grid_template_areas": null,
            "grid_template_columns": null,
            "grid_template_rows": null,
            "height": null,
            "justify_content": null,
            "justify_items": null,
            "left": null,
            "margin": null,
            "max_height": null,
            "max_width": null,
            "min_height": null,
            "min_width": null,
            "object_fit": null,
            "object_position": null,
            "order": null,
            "overflow": null,
            "overflow_x": null,
            "overflow_y": null,
            "padding": null,
            "right": null,
            "top": null,
            "visibility": null,
            "width": null
          }
        },
        "e6aebb1de89b40fba2f8b258740d408a": {
          "model_module": "@jupyter-widgets/controls",
          "model_name": "ProgressStyleModel",
          "model_module_version": "1.5.0",
          "state": {
            "_model_module": "@jupyter-widgets/controls",
            "_model_module_version": "1.5.0",
            "_model_name": "ProgressStyleModel",
            "_view_count": null,
            "_view_module": "@jupyter-widgets/base",
            "_view_module_version": "1.2.0",
            "_view_name": "StyleView",
            "bar_color": null,
            "description_width": ""
          }
        },
        "6a37e59e0b0f45288e4c45fed8051997": {
          "model_module": "@jupyter-widgets/base",
          "model_name": "LayoutModel",
          "model_module_version": "1.2.0",
          "state": {
            "_model_module": "@jupyter-widgets/base",
            "_model_module_version": "1.2.0",
            "_model_name": "LayoutModel",
            "_view_count": null,
            "_view_module": "@jupyter-widgets/base",
            "_view_module_version": "1.2.0",
            "_view_name": "LayoutView",
            "align_content": null,
            "align_items": null,
            "align_self": null,
            "border": null,
            "bottom": null,
            "display": null,
            "flex": null,
            "flex_flow": null,
            "grid_area": null,
            "grid_auto_columns": null,
            "grid_auto_flow": null,
            "grid_auto_rows": null,
            "grid_column": null,
            "grid_gap": null,
            "grid_row": null,
            "grid_template_areas": null,
            "grid_template_columns": null,
            "grid_template_rows": null,
            "height": null,
            "justify_content": null,
            "justify_items": null,
            "left": null,
            "margin": null,
            "max_height": null,
            "max_width": null,
            "min_height": null,
            "min_width": null,
            "object_fit": null,
            "object_position": null,
            "order": null,
            "overflow": null,
            "overflow_x": null,
            "overflow_y": null,
            "padding": null,
            "right": null,
            "top": null,
            "visibility": null,
            "width": null
          }
        },
        "1dff69ca62f246d3b0ee6379efea6e93": {
          "model_module": "@jupyter-widgets/controls",
          "model_name": "DescriptionStyleModel",
          "model_module_version": "1.5.0",
          "state": {
            "_model_module": "@jupyter-widgets/controls",
            "_model_module_version": "1.5.0",
            "_model_name": "DescriptionStyleModel",
            "_view_count": null,
            "_view_module": "@jupyter-widgets/base",
            "_view_module_version": "1.2.0",
            "_view_name": "StyleView",
            "description_width": ""
          }
        },
        "87036b9a2ff8474f927ff087d51cffc8": {
          "model_module": "@jupyter-widgets/controls",
          "model_name": "HBoxModel",
          "model_module_version": "1.5.0",
          "state": {
            "_dom_classes": [],
            "_model_module": "@jupyter-widgets/controls",
            "_model_module_version": "1.5.0",
            "_model_name": "HBoxModel",
            "_view_count": null,
            "_view_module": "@jupyter-widgets/controls",
            "_view_module_version": "1.5.0",
            "_view_name": "HBoxView",
            "box_style": "",
            "children": [
              "IPY_MODEL_a70922a3a9a34c76afa59e3ccf9e7231",
              "IPY_MODEL_690bf67c779242cda5aee24abda6fda5",
              "IPY_MODEL_1319b1a2e9b54fdc8bd6674224c4346f"
            ],
            "layout": "IPY_MODEL_d0ec02d36e5a41ba9e339997d5da3664"
          }
        },
        "a70922a3a9a34c76afa59e3ccf9e7231": {
          "model_module": "@jupyter-widgets/controls",
          "model_name": "HTMLModel",
          "model_module_version": "1.5.0",
          "state": {
            "_dom_classes": [],
            "_model_module": "@jupyter-widgets/controls",
            "_model_module_version": "1.5.0",
            "_model_name": "HTMLModel",
            "_view_count": null,
            "_view_module": "@jupyter-widgets/controls",
            "_view_module_version": "1.5.0",
            "_view_name": "HTMLView",
            "description": "",
            "description_tooltip": null,
            "layout": "IPY_MODEL_dcd9fd9d1c294265b703f7e61c7bfa75",
            "placeholder": "​",
            "style": "IPY_MODEL_fc539400bc3346998bd41f65a1206048",
            "value": "tokenizer_config.json: 100%"
          }
        },
        "690bf67c779242cda5aee24abda6fda5": {
          "model_module": "@jupyter-widgets/controls",
          "model_name": "FloatProgressModel",
          "model_module_version": "1.5.0",
          "state": {
            "_dom_classes": [],
            "_model_module": "@jupyter-widgets/controls",
            "_model_module_version": "1.5.0",
            "_model_name": "FloatProgressModel",
            "_view_count": null,
            "_view_module": "@jupyter-widgets/controls",
            "_view_module_version": "1.5.0",
            "_view_name": "ProgressView",
            "bar_style": "success",
            "description": "",
            "description_tooltip": null,
            "layout": "IPY_MODEL_ab46a8306faa49b8aa80b15265b2ef57",
            "max": 52960,
            "min": 0,
            "orientation": "horizontal",
            "style": "IPY_MODEL_d60c3876d02f436396721a360d0cb758",
            "value": 52960
          }
        },
        "1319b1a2e9b54fdc8bd6674224c4346f": {
          "model_module": "@jupyter-widgets/controls",
          "model_name": "HTMLModel",
          "model_module_version": "1.5.0",
          "state": {
            "_dom_classes": [],
            "_model_module": "@jupyter-widgets/controls",
            "_model_module_version": "1.5.0",
            "_model_name": "HTMLModel",
            "_view_count": null,
            "_view_module": "@jupyter-widgets/controls",
            "_view_module_version": "1.5.0",
            "_view_name": "HTMLView",
            "description": "",
            "description_tooltip": null,
            "layout": "IPY_MODEL_c3b5fc44c72342c2a9a751e432637822",
            "placeholder": "​",
            "style": "IPY_MODEL_6f66fc126dee4750a9302e0ae0ecb00c",
            "value": " 53.0k/53.0k [00:00&lt;00:00, 3.15MB/s]"
          }
        },
        "d0ec02d36e5a41ba9e339997d5da3664": {
          "model_module": "@jupyter-widgets/base",
          "model_name": "LayoutModel",
          "model_module_version": "1.2.0",
          "state": {
            "_model_module": "@jupyter-widgets/base",
            "_model_module_version": "1.2.0",
            "_model_name": "LayoutModel",
            "_view_count": null,
            "_view_module": "@jupyter-widgets/base",
            "_view_module_version": "1.2.0",
            "_view_name": "LayoutView",
            "align_content": null,
            "align_items": null,
            "align_self": null,
            "border": null,
            "bottom": null,
            "display": null,
            "flex": null,
            "flex_flow": null,
            "grid_area": null,
            "grid_auto_columns": null,
            "grid_auto_flow": null,
            "grid_auto_rows": null,
            "grid_column": null,
            "grid_gap": null,
            "grid_row": null,
            "grid_template_areas": null,
            "grid_template_columns": null,
            "grid_template_rows": null,
            "height": null,
            "justify_content": null,
            "justify_items": null,
            "left": null,
            "margin": null,
            "max_height": null,
            "max_width": null,
            "min_height": null,
            "min_width": null,
            "object_fit": null,
            "object_position": null,
            "order": null,
            "overflow": null,
            "overflow_x": null,
            "overflow_y": null,
            "padding": null,
            "right": null,
            "top": null,
            "visibility": null,
            "width": null
          }
        },
        "dcd9fd9d1c294265b703f7e61c7bfa75": {
          "model_module": "@jupyter-widgets/base",
          "model_name": "LayoutModel",
          "model_module_version": "1.2.0",
          "state": {
            "_model_module": "@jupyter-widgets/base",
            "_model_module_version": "1.2.0",
            "_model_name": "LayoutModel",
            "_view_count": null,
            "_view_module": "@jupyter-widgets/base",
            "_view_module_version": "1.2.0",
            "_view_name": "LayoutView",
            "align_content": null,
            "align_items": null,
            "align_self": null,
            "border": null,
            "bottom": null,
            "display": null,
            "flex": null,
            "flex_flow": null,
            "grid_area": null,
            "grid_auto_columns": null,
            "grid_auto_flow": null,
            "grid_auto_rows": null,
            "grid_column": null,
            "grid_gap": null,
            "grid_row": null,
            "grid_template_areas": null,
            "grid_template_columns": null,
            "grid_template_rows": null,
            "height": null,
            "justify_content": null,
            "justify_items": null,
            "left": null,
            "margin": null,
            "max_height": null,
            "max_width": null,
            "min_height": null,
            "min_width": null,
            "object_fit": null,
            "object_position": null,
            "order": null,
            "overflow": null,
            "overflow_x": null,
            "overflow_y": null,
            "padding": null,
            "right": null,
            "top": null,
            "visibility": null,
            "width": null
          }
        },
        "fc539400bc3346998bd41f65a1206048": {
          "model_module": "@jupyter-widgets/controls",
          "model_name": "DescriptionStyleModel",
          "model_module_version": "1.5.0",
          "state": {
            "_model_module": "@jupyter-widgets/controls",
            "_model_module_version": "1.5.0",
            "_model_name": "DescriptionStyleModel",
            "_view_count": null,
            "_view_module": "@jupyter-widgets/base",
            "_view_module_version": "1.2.0",
            "_view_name": "StyleView",
            "description_width": ""
          }
        },
        "ab46a8306faa49b8aa80b15265b2ef57": {
          "model_module": "@jupyter-widgets/base",
          "model_name": "LayoutModel",
          "model_module_version": "1.2.0",
          "state": {
            "_model_module": "@jupyter-widgets/base",
            "_model_module_version": "1.2.0",
            "_model_name": "LayoutModel",
            "_view_count": null,
            "_view_module": "@jupyter-widgets/base",
            "_view_module_version": "1.2.0",
            "_view_name": "LayoutView",
            "align_content": null,
            "align_items": null,
            "align_self": null,
            "border": null,
            "bottom": null,
            "display": null,
            "flex": null,
            "flex_flow": null,
            "grid_area": null,
            "grid_auto_columns": null,
            "grid_auto_flow": null,
            "grid_auto_rows": null,
            "grid_column": null,
            "grid_gap": null,
            "grid_row": null,
            "grid_template_areas": null,
            "grid_template_columns": null,
            "grid_template_rows": null,
            "height": null,
            "justify_content": null,
            "justify_items": null,
            "left": null,
            "margin": null,
            "max_height": null,
            "max_width": null,
            "min_height": null,
            "min_width": null,
            "object_fit": null,
            "object_position": null,
            "order": null,
            "overflow": null,
            "overflow_x": null,
            "overflow_y": null,
            "padding": null,
            "right": null,
            "top": null,
            "visibility": null,
            "width": null
          }
        },
        "d60c3876d02f436396721a360d0cb758": {
          "model_module": "@jupyter-widgets/controls",
          "model_name": "ProgressStyleModel",
          "model_module_version": "1.5.0",
          "state": {
            "_model_module": "@jupyter-widgets/controls",
            "_model_module_version": "1.5.0",
            "_model_name": "ProgressStyleModel",
            "_view_count": null,
            "_view_module": "@jupyter-widgets/base",
            "_view_module_version": "1.2.0",
            "_view_name": "StyleView",
            "bar_color": null,
            "description_width": ""
          }
        },
        "c3b5fc44c72342c2a9a751e432637822": {
          "model_module": "@jupyter-widgets/base",
          "model_name": "LayoutModel",
          "model_module_version": "1.2.0",
          "state": {
            "_model_module": "@jupyter-widgets/base",
            "_model_module_version": "1.2.0",
            "_model_name": "LayoutModel",
            "_view_count": null,
            "_view_module": "@jupyter-widgets/base",
            "_view_module_version": "1.2.0",
            "_view_name": "LayoutView",
            "align_content": null,
            "align_items": null,
            "align_self": null,
            "border": null,
            "bottom": null,
            "display": null,
            "flex": null,
            "flex_flow": null,
            "grid_area": null,
            "grid_auto_columns": null,
            "grid_auto_flow": null,
            "grid_auto_rows": null,
            "grid_column": null,
            "grid_gap": null,
            "grid_row": null,
            "grid_template_areas": null,
            "grid_template_columns": null,
            "grid_template_rows": null,
            "height": null,
            "justify_content": null,
            "justify_items": null,
            "left": null,
            "margin": null,
            "max_height": null,
            "max_width": null,
            "min_height": null,
            "min_width": null,
            "object_fit": null,
            "object_position": null,
            "order": null,
            "overflow": null,
            "overflow_x": null,
            "overflow_y": null,
            "padding": null,
            "right": null,
            "top": null,
            "visibility": null,
            "width": null
          }
        },
        "6f66fc126dee4750a9302e0ae0ecb00c": {
          "model_module": "@jupyter-widgets/controls",
          "model_name": "DescriptionStyleModel",
          "model_module_version": "1.5.0",
          "state": {
            "_model_module": "@jupyter-widgets/controls",
            "_model_module_version": "1.5.0",
            "_model_name": "DescriptionStyleModel",
            "_view_count": null,
            "_view_module": "@jupyter-widgets/base",
            "_view_module_version": "1.2.0",
            "_view_name": "StyleView",
            "description_width": ""
          }
        },
        "1a55a43f0d8f4f21a7736b2eb099c77e": {
          "model_module": "@jupyter-widgets/controls",
          "model_name": "HBoxModel",
          "model_module_version": "1.5.0",
          "state": {
            "_dom_classes": [],
            "_model_module": "@jupyter-widgets/controls",
            "_model_module_version": "1.5.0",
            "_model_name": "HBoxModel",
            "_view_count": null,
            "_view_module": "@jupyter-widgets/controls",
            "_view_module_version": "1.5.0",
            "_view_name": "HBoxView",
            "box_style": "",
            "children": [
              "IPY_MODEL_31f1e6a1317d49959d9a590d23ae5f1d",
              "IPY_MODEL_1a0df108d3cc49d9babec141de802ab2",
              "IPY_MODEL_1b14ee330600438c91778afeb7e080e3"
            ],
            "layout": "IPY_MODEL_0792bdabfc1f44ff8821a25e43b5c85e"
          }
        },
        "31f1e6a1317d49959d9a590d23ae5f1d": {
          "model_module": "@jupyter-widgets/controls",
          "model_name": "HTMLModel",
          "model_module_version": "1.5.0",
          "state": {
            "_dom_classes": [],
            "_model_module": "@jupyter-widgets/controls",
            "_model_module_version": "1.5.0",
            "_model_name": "HTMLModel",
            "_view_count": null,
            "_view_module": "@jupyter-widgets/controls",
            "_view_module_version": "1.5.0",
            "_view_name": "HTMLView",
            "description": "",
            "description_tooltip": null,
            "layout": "IPY_MODEL_8380e33aee214de1b98002f7a625c9ce",
            "placeholder": "​",
            "style": "IPY_MODEL_ca49978b8cd248dd90becbaeb72b039a",
            "value": "tokenizer.json: 100%"
          }
        },
        "1a0df108d3cc49d9babec141de802ab2": {
          "model_module": "@jupyter-widgets/controls",
          "model_name": "FloatProgressModel",
          "model_module_version": "1.5.0",
          "state": {
            "_dom_classes": [],
            "_model_module": "@jupyter-widgets/controls",
            "_model_module_version": "1.5.0",
            "_model_name": "FloatProgressModel",
            "_view_count": null,
            "_view_module": "@jupyter-widgets/controls",
            "_view_module_version": "1.5.0",
            "_view_name": "ProgressView",
            "bar_style": "success",
            "description": "",
            "description_tooltip": null,
            "layout": "IPY_MODEL_571feff5aae744d6857a28418cd509f5",
            "max": 17209530,
            "min": 0,
            "orientation": "horizontal",
            "style": "IPY_MODEL_937c5848c6814605afb9e5ae03f02855",
            "value": 17209530
          }
        },
        "1b14ee330600438c91778afeb7e080e3": {
          "model_module": "@jupyter-widgets/controls",
          "model_name": "HTMLModel",
          "model_module_version": "1.5.0",
          "state": {
            "_dom_classes": [],
            "_model_module": "@jupyter-widgets/controls",
            "_model_module_version": "1.5.0",
            "_model_name": "HTMLModel",
            "_view_count": null,
            "_view_module": "@jupyter-widgets/controls",
            "_view_module_version": "1.5.0",
            "_view_name": "HTMLView",
            "description": "",
            "description_tooltip": null,
            "layout": "IPY_MODEL_8556810327c5483486fe18c91552c877",
            "placeholder": "​",
            "style": "IPY_MODEL_b18ae73d2b1b46c2bb6773fe2a6f36e6",
            "value": " 17.2M/17.2M [00:00&lt;00:00, 133MB/s]"
          }
        },
        "0792bdabfc1f44ff8821a25e43b5c85e": {
          "model_module": "@jupyter-widgets/base",
          "model_name": "LayoutModel",
          "model_module_version": "1.2.0",
          "state": {
            "_model_module": "@jupyter-widgets/base",
            "_model_module_version": "1.2.0",
            "_model_name": "LayoutModel",
            "_view_count": null,
            "_view_module": "@jupyter-widgets/base",
            "_view_module_version": "1.2.0",
            "_view_name": "LayoutView",
            "align_content": null,
            "align_items": null,
            "align_self": null,
            "border": null,
            "bottom": null,
            "display": null,
            "flex": null,
            "flex_flow": null,
            "grid_area": null,
            "grid_auto_columns": null,
            "grid_auto_flow": null,
            "grid_auto_rows": null,
            "grid_column": null,
            "grid_gap": null,
            "grid_row": null,
            "grid_template_areas": null,
            "grid_template_columns": null,
            "grid_template_rows": null,
            "height": null,
            "justify_content": null,
            "justify_items": null,
            "left": null,
            "margin": null,
            "max_height": null,
            "max_width": null,
            "min_height": null,
            "min_width": null,
            "object_fit": null,
            "object_position": null,
            "order": null,
            "overflow": null,
            "overflow_x": null,
            "overflow_y": null,
            "padding": null,
            "right": null,
            "top": null,
            "visibility": null,
            "width": null
          }
        },
        "8380e33aee214de1b98002f7a625c9ce": {
          "model_module": "@jupyter-widgets/base",
          "model_name": "LayoutModel",
          "model_module_version": "1.2.0",
          "state": {
            "_model_module": "@jupyter-widgets/base",
            "_model_module_version": "1.2.0",
            "_model_name": "LayoutModel",
            "_view_count": null,
            "_view_module": "@jupyter-widgets/base",
            "_view_module_version": "1.2.0",
            "_view_name": "LayoutView",
            "align_content": null,
            "align_items": null,
            "align_self": null,
            "border": null,
            "bottom": null,
            "display": null,
            "flex": null,
            "flex_flow": null,
            "grid_area": null,
            "grid_auto_columns": null,
            "grid_auto_flow": null,
            "grid_auto_rows": null,
            "grid_column": null,
            "grid_gap": null,
            "grid_row": null,
            "grid_template_areas": null,
            "grid_template_columns": null,
            "grid_template_rows": null,
            "height": null,
            "justify_content": null,
            "justify_items": null,
            "left": null,
            "margin": null,
            "max_height": null,
            "max_width": null,
            "min_height": null,
            "min_width": null,
            "object_fit": null,
            "object_position": null,
            "order": null,
            "overflow": null,
            "overflow_x": null,
            "overflow_y": null,
            "padding": null,
            "right": null,
            "top": null,
            "visibility": null,
            "width": null
          }
        },
        "ca49978b8cd248dd90becbaeb72b039a": {
          "model_module": "@jupyter-widgets/controls",
          "model_name": "DescriptionStyleModel",
          "model_module_version": "1.5.0",
          "state": {
            "_model_module": "@jupyter-widgets/controls",
            "_model_module_version": "1.5.0",
            "_model_name": "DescriptionStyleModel",
            "_view_count": null,
            "_view_module": "@jupyter-widgets/base",
            "_view_module_version": "1.2.0",
            "_view_name": "StyleView",
            "description_width": ""
          }
        },
        "571feff5aae744d6857a28418cd509f5": {
          "model_module": "@jupyter-widgets/base",
          "model_name": "LayoutModel",
          "model_module_version": "1.2.0",
          "state": {
            "_model_module": "@jupyter-widgets/base",
            "_model_module_version": "1.2.0",
            "_model_name": "LayoutModel",
            "_view_count": null,
            "_view_module": "@jupyter-widgets/base",
            "_view_module_version": "1.2.0",
            "_view_name": "LayoutView",
            "align_content": null,
            "align_items": null,
            "align_self": null,
            "border": null,
            "bottom": null,
            "display": null,
            "flex": null,
            "flex_flow": null,
            "grid_area": null,
            "grid_auto_columns": null,
            "grid_auto_flow": null,
            "grid_auto_rows": null,
            "grid_column": null,
            "grid_gap": null,
            "grid_row": null,
            "grid_template_areas": null,
            "grid_template_columns": null,
            "grid_template_rows": null,
            "height": null,
            "justify_content": null,
            "justify_items": null,
            "left": null,
            "margin": null,
            "max_height": null,
            "max_width": null,
            "min_height": null,
            "min_width": null,
            "object_fit": null,
            "object_position": null,
            "order": null,
            "overflow": null,
            "overflow_x": null,
            "overflow_y": null,
            "padding": null,
            "right": null,
            "top": null,
            "visibility": null,
            "width": null
          }
        },
        "937c5848c6814605afb9e5ae03f02855": {
          "model_module": "@jupyter-widgets/controls",
          "model_name": "ProgressStyleModel",
          "model_module_version": "1.5.0",
          "state": {
            "_model_module": "@jupyter-widgets/controls",
            "_model_module_version": "1.5.0",
            "_model_name": "ProgressStyleModel",
            "_view_count": null,
            "_view_module": "@jupyter-widgets/base",
            "_view_module_version": "1.2.0",
            "_view_name": "StyleView",
            "bar_color": null,
            "description_width": ""
          }
        },
        "8556810327c5483486fe18c91552c877": {
          "model_module": "@jupyter-widgets/base",
          "model_name": "LayoutModel",
          "model_module_version": "1.2.0",
          "state": {
            "_model_module": "@jupyter-widgets/base",
            "_model_module_version": "1.2.0",
            "_model_name": "LayoutModel",
            "_view_count": null,
            "_view_module": "@jupyter-widgets/base",
            "_view_module_version": "1.2.0",
            "_view_name": "LayoutView",
            "align_content": null,
            "align_items": null,
            "align_self": null,
            "border": null,
            "bottom": null,
            "display": null,
            "flex": null,
            "flex_flow": null,
            "grid_area": null,
            "grid_auto_columns": null,
            "grid_auto_flow": null,
            "grid_auto_rows": null,
            "grid_column": null,
            "grid_gap": null,
            "grid_row": null,
            "grid_template_areas": null,
            "grid_template_columns": null,
            "grid_template_rows": null,
            "height": null,
            "justify_content": null,
            "justify_items": null,
            "left": null,
            "margin": null,
            "max_height": null,
            "max_width": null,
            "min_height": null,
            "min_width": null,
            "object_fit": null,
            "object_position": null,
            "order": null,
            "overflow": null,
            "overflow_x": null,
            "overflow_y": null,
            "padding": null,
            "right": null,
            "top": null,
            "visibility": null,
            "width": null
          }
        },
        "b18ae73d2b1b46c2bb6773fe2a6f36e6": {
          "model_module": "@jupyter-widgets/controls",
          "model_name": "DescriptionStyleModel",
          "model_module_version": "1.5.0",
          "state": {
            "_model_module": "@jupyter-widgets/controls",
            "_model_module_version": "1.5.0",
            "_model_name": "DescriptionStyleModel",
            "_view_count": null,
            "_view_module": "@jupyter-widgets/base",
            "_view_module_version": "1.2.0",
            "_view_name": "StyleView",
            "description_width": ""
          }
        },
        "e5b99a82f38d42a080b92a176eabf0c7": {
          "model_module": "@jupyter-widgets/controls",
          "model_name": "HBoxModel",
          "model_module_version": "1.5.0",
          "state": {
            "_dom_classes": [],
            "_model_module": "@jupyter-widgets/controls",
            "_model_module_version": "1.5.0",
            "_model_name": "HBoxModel",
            "_view_count": null,
            "_view_module": "@jupyter-widgets/controls",
            "_view_module_version": "1.5.0",
            "_view_name": "HBoxView",
            "box_style": "",
            "children": [
              "IPY_MODEL_afbdf3bda7444ea687b27ff0219483bd",
              "IPY_MODEL_a9eabd3121b94397a813b49757b9231f",
              "IPY_MODEL_1dc231f3dfd445bf87781851022e75b6"
            ],
            "layout": "IPY_MODEL_c17d6a93e2304e9198bc3ef7d4c9ceae"
          }
        },
        "afbdf3bda7444ea687b27ff0219483bd": {
          "model_module": "@jupyter-widgets/controls",
          "model_name": "HTMLModel",
          "model_module_version": "1.5.0",
          "state": {
            "_dom_classes": [],
            "_model_module": "@jupyter-widgets/controls",
            "_model_module_version": "1.5.0",
            "_model_name": "HTMLModel",
            "_view_count": null,
            "_view_module": "@jupyter-widgets/controls",
            "_view_module_version": "1.5.0",
            "_view_name": "HTMLView",
            "description": "",
            "description_tooltip": null,
            "layout": "IPY_MODEL_c395fd5e8a004633b630eb9512c26e54",
            "placeholder": "​",
            "style": "IPY_MODEL_0b46beba1a264fa0be39da1601b1f706",
            "value": "special_tokens_map.json: 100%"
          }
        },
        "a9eabd3121b94397a813b49757b9231f": {
          "model_module": "@jupyter-widgets/controls",
          "model_name": "FloatProgressModel",
          "model_module_version": "1.5.0",
          "state": {
            "_dom_classes": [],
            "_model_module": "@jupyter-widgets/controls",
            "_model_module_version": "1.5.0",
            "_model_name": "FloatProgressModel",
            "_view_count": null,
            "_view_module": "@jupyter-widgets/controls",
            "_view_module_version": "1.5.0",
            "_view_name": "ProgressView",
            "bar_style": "success",
            "description": "",
            "description_tooltip": null,
            "layout": "IPY_MODEL_11352e4d061f4de48947d17aa697749a",
            "max": 483,
            "min": 0,
            "orientation": "horizontal",
            "style": "IPY_MODEL_bcb7fd9b9a8e48cb8e25f42e7c2bfa5c",
            "value": 483
          }
        },
        "1dc231f3dfd445bf87781851022e75b6": {
          "model_module": "@jupyter-widgets/controls",
          "model_name": "HTMLModel",
          "model_module_version": "1.5.0",
          "state": {
            "_dom_classes": [],
            "_model_module": "@jupyter-widgets/controls",
            "_model_module_version": "1.5.0",
            "_model_name": "HTMLModel",
            "_view_count": null,
            "_view_module": "@jupyter-widgets/controls",
            "_view_module_version": "1.5.0",
            "_view_name": "HTMLView",
            "description": "",
            "description_tooltip": null,
            "layout": "IPY_MODEL_117ddccf424c43298df338d77424cfa8",
            "placeholder": "​",
            "style": "IPY_MODEL_39e2af05ba8c4de3a389c4558ac23e94",
            "value": " 483/483 [00:00&lt;00:00, 43.1kB/s]"
          }
        },
        "c17d6a93e2304e9198bc3ef7d4c9ceae": {
          "model_module": "@jupyter-widgets/base",
          "model_name": "LayoutModel",
          "model_module_version": "1.2.0",
          "state": {
            "_model_module": "@jupyter-widgets/base",
            "_model_module_version": "1.2.0",
            "_model_name": "LayoutModel",
            "_view_count": null,
            "_view_module": "@jupyter-widgets/base",
            "_view_module_version": "1.2.0",
            "_view_name": "LayoutView",
            "align_content": null,
            "align_items": null,
            "align_self": null,
            "border": null,
            "bottom": null,
            "display": null,
            "flex": null,
            "flex_flow": null,
            "grid_area": null,
            "grid_auto_columns": null,
            "grid_auto_flow": null,
            "grid_auto_rows": null,
            "grid_column": null,
            "grid_gap": null,
            "grid_row": null,
            "grid_template_areas": null,
            "grid_template_columns": null,
            "grid_template_rows": null,
            "height": null,
            "justify_content": null,
            "justify_items": null,
            "left": null,
            "margin": null,
            "max_height": null,
            "max_width": null,
            "min_height": null,
            "min_width": null,
            "object_fit": null,
            "object_position": null,
            "order": null,
            "overflow": null,
            "overflow_x": null,
            "overflow_y": null,
            "padding": null,
            "right": null,
            "top": null,
            "visibility": null,
            "width": null
          }
        },
        "c395fd5e8a004633b630eb9512c26e54": {
          "model_module": "@jupyter-widgets/base",
          "model_name": "LayoutModel",
          "model_module_version": "1.2.0",
          "state": {
            "_model_module": "@jupyter-widgets/base",
            "_model_module_version": "1.2.0",
            "_model_name": "LayoutModel",
            "_view_count": null,
            "_view_module": "@jupyter-widgets/base",
            "_view_module_version": "1.2.0",
            "_view_name": "LayoutView",
            "align_content": null,
            "align_items": null,
            "align_self": null,
            "border": null,
            "bottom": null,
            "display": null,
            "flex": null,
            "flex_flow": null,
            "grid_area": null,
            "grid_auto_columns": null,
            "grid_auto_flow": null,
            "grid_auto_rows": null,
            "grid_column": null,
            "grid_gap": null,
            "grid_row": null,
            "grid_template_areas": null,
            "grid_template_columns": null,
            "grid_template_rows": null,
            "height": null,
            "justify_content": null,
            "justify_items": null,
            "left": null,
            "margin": null,
            "max_height": null,
            "max_width": null,
            "min_height": null,
            "min_width": null,
            "object_fit": null,
            "object_position": null,
            "order": null,
            "overflow": null,
            "overflow_x": null,
            "overflow_y": null,
            "padding": null,
            "right": null,
            "top": null,
            "visibility": null,
            "width": null
          }
        },
        "0b46beba1a264fa0be39da1601b1f706": {
          "model_module": "@jupyter-widgets/controls",
          "model_name": "DescriptionStyleModel",
          "model_module_version": "1.5.0",
          "state": {
            "_model_module": "@jupyter-widgets/controls",
            "_model_module_version": "1.5.0",
            "_model_name": "DescriptionStyleModel",
            "_view_count": null,
            "_view_module": "@jupyter-widgets/base",
            "_view_module_version": "1.2.0",
            "_view_name": "StyleView",
            "description_width": ""
          }
        },
        "11352e4d061f4de48947d17aa697749a": {
          "model_module": "@jupyter-widgets/base",
          "model_name": "LayoutModel",
          "model_module_version": "1.2.0",
          "state": {
            "_model_module": "@jupyter-widgets/base",
            "_model_module_version": "1.2.0",
            "_model_name": "LayoutModel",
            "_view_count": null,
            "_view_module": "@jupyter-widgets/base",
            "_view_module_version": "1.2.0",
            "_view_name": "LayoutView",
            "align_content": null,
            "align_items": null,
            "align_self": null,
            "border": null,
            "bottom": null,
            "display": null,
            "flex": null,
            "flex_flow": null,
            "grid_area": null,
            "grid_auto_columns": null,
            "grid_auto_flow": null,
            "grid_auto_rows": null,
            "grid_column": null,
            "grid_gap": null,
            "grid_row": null,
            "grid_template_areas": null,
            "grid_template_columns": null,
            "grid_template_rows": null,
            "height": null,
            "justify_content": null,
            "justify_items": null,
            "left": null,
            "margin": null,
            "max_height": null,
            "max_width": null,
            "min_height": null,
            "min_width": null,
            "object_fit": null,
            "object_position": null,
            "order": null,
            "overflow": null,
            "overflow_x": null,
            "overflow_y": null,
            "padding": null,
            "right": null,
            "top": null,
            "visibility": null,
            "width": null
          }
        },
        "bcb7fd9b9a8e48cb8e25f42e7c2bfa5c": {
          "model_module": "@jupyter-widgets/controls",
          "model_name": "ProgressStyleModel",
          "model_module_version": "1.5.0",
          "state": {
            "_model_module": "@jupyter-widgets/controls",
            "_model_module_version": "1.5.0",
            "_model_name": "ProgressStyleModel",
            "_view_count": null,
            "_view_module": "@jupyter-widgets/base",
            "_view_module_version": "1.2.0",
            "_view_name": "StyleView",
            "bar_color": null,
            "description_width": ""
          }
        },
        "117ddccf424c43298df338d77424cfa8": {
          "model_module": "@jupyter-widgets/base",
          "model_name": "LayoutModel",
          "model_module_version": "1.2.0",
          "state": {
            "_model_module": "@jupyter-widgets/base",
            "_model_module_version": "1.2.0",
            "_model_name": "LayoutModel",
            "_view_count": null,
            "_view_module": "@jupyter-widgets/base",
            "_view_module_version": "1.2.0",
            "_view_name": "LayoutView",
            "align_content": null,
            "align_items": null,
            "align_self": null,
            "border": null,
            "bottom": null,
            "display": null,
            "flex": null,
            "flex_flow": null,
            "grid_area": null,
            "grid_auto_columns": null,
            "grid_auto_flow": null,
            "grid_auto_rows": null,
            "grid_column": null,
            "grid_gap": null,
            "grid_row": null,
            "grid_template_areas": null,
            "grid_template_columns": null,
            "grid_template_rows": null,
            "height": null,
            "justify_content": null,
            "justify_items": null,
            "left": null,
            "margin": null,
            "max_height": null,
            "max_width": null,
            "min_height": null,
            "min_width": null,
            "object_fit": null,
            "object_position": null,
            "order": null,
            "overflow": null,
            "overflow_x": null,
            "overflow_y": null,
            "padding": null,
            "right": null,
            "top": null,
            "visibility": null,
            "width": null
          }
        },
        "39e2af05ba8c4de3a389c4558ac23e94": {
          "model_module": "@jupyter-widgets/controls",
          "model_name": "DescriptionStyleModel",
          "model_module_version": "1.5.0",
          "state": {
            "_model_module": "@jupyter-widgets/controls",
            "_model_module_version": "1.5.0",
            "_model_name": "DescriptionStyleModel",
            "_view_count": null,
            "_view_module": "@jupyter-widgets/base",
            "_view_module_version": "1.2.0",
            "_view_name": "StyleView",
            "description_width": ""
          }
        },
        "bd682fa36cfe48f3a4f2c85dd0cf366b": {
          "model_module": "@jupyter-widgets/controls",
          "model_name": "HBoxModel",
          "model_module_version": "1.5.0",
          "state": {
            "_dom_classes": [],
            "_model_module": "@jupyter-widgets/controls",
            "_model_module_version": "1.5.0",
            "_model_name": "HBoxModel",
            "_view_count": null,
            "_view_module": "@jupyter-widgets/controls",
            "_view_module_version": "1.5.0",
            "_view_name": "HBoxView",
            "box_style": "",
            "children": [
              "IPY_MODEL_9f9b716814874ce6b336dbaa49ac82af",
              "IPY_MODEL_503e79287eb24eb09fef27f423ece72c",
              "IPY_MODEL_51a52c657fc24c1fad3726b62bbf738d"
            ],
            "layout": "IPY_MODEL_473334fddd6e4084b2bcb10f66b36f6b"
          }
        },
        "9f9b716814874ce6b336dbaa49ac82af": {
          "model_module": "@jupyter-widgets/controls",
          "model_name": "HTMLModel",
          "model_module_version": "1.5.0",
          "state": {
            "_dom_classes": [],
            "_model_module": "@jupyter-widgets/controls",
            "_model_module_version": "1.5.0",
            "_model_name": "HTMLModel",
            "_view_count": null,
            "_view_module": "@jupyter-widgets/controls",
            "_view_module_version": "1.5.0",
            "_view_name": "HTMLView",
            "description": "",
            "description_tooltip": null,
            "layout": "IPY_MODEL_949606ac579041769e121125dd4c72b1",
            "placeholder": "​",
            "style": "IPY_MODEL_b2c4e4e363f14198bf7db7f729670491",
            "value": "Map: 100%"
          }
        },
        "503e79287eb24eb09fef27f423ece72c": {
          "model_module": "@jupyter-widgets/controls",
          "model_name": "FloatProgressModel",
          "model_module_version": "1.5.0",
          "state": {
            "_dom_classes": [],
            "_model_module": "@jupyter-widgets/controls",
            "_model_module_version": "1.5.0",
            "_model_name": "FloatProgressModel",
            "_view_count": null,
            "_view_module": "@jupyter-widgets/controls",
            "_view_module_version": "1.5.0",
            "_view_name": "ProgressView",
            "bar_style": "success",
            "description": "",
            "description_tooltip": null,
            "layout": "IPY_MODEL_791f424586e344809d884c248db8b7f7",
            "max": 500,
            "min": 0,
            "orientation": "horizontal",
            "style": "IPY_MODEL_1ad20243459e4015a26f5c6fbbcf3cb0",
            "value": 500
          }
        },
        "51a52c657fc24c1fad3726b62bbf738d": {
          "model_module": "@jupyter-widgets/controls",
          "model_name": "HTMLModel",
          "model_module_version": "1.5.0",
          "state": {
            "_dom_classes": [],
            "_model_module": "@jupyter-widgets/controls",
            "_model_module_version": "1.5.0",
            "_model_name": "HTMLModel",
            "_view_count": null,
            "_view_module": "@jupyter-widgets/controls",
            "_view_module_version": "1.5.0",
            "_view_name": "HTMLView",
            "description": "",
            "description_tooltip": null,
            "layout": "IPY_MODEL_2965d1ba31ac4cb7917d49e6f35c7380",
            "placeholder": "​",
            "style": "IPY_MODEL_5f99e5ba6af34ec69c606c80238bb065",
            "value": " 500/500 [00:00&lt;00:00, 8436.15 examples/s]"
          }
        },
        "473334fddd6e4084b2bcb10f66b36f6b": {
          "model_module": "@jupyter-widgets/base",
          "model_name": "LayoutModel",
          "model_module_version": "1.2.0",
          "state": {
            "_model_module": "@jupyter-widgets/base",
            "_model_module_version": "1.2.0",
            "_model_name": "LayoutModel",
            "_view_count": null,
            "_view_module": "@jupyter-widgets/base",
            "_view_module_version": "1.2.0",
            "_view_name": "LayoutView",
            "align_content": null,
            "align_items": null,
            "align_self": null,
            "border": null,
            "bottom": null,
            "display": null,
            "flex": null,
            "flex_flow": null,
            "grid_area": null,
            "grid_auto_columns": null,
            "grid_auto_flow": null,
            "grid_auto_rows": null,
            "grid_column": null,
            "grid_gap": null,
            "grid_row": null,
            "grid_template_areas": null,
            "grid_template_columns": null,
            "grid_template_rows": null,
            "height": null,
            "justify_content": null,
            "justify_items": null,
            "left": null,
            "margin": null,
            "max_height": null,
            "max_width": null,
            "min_height": null,
            "min_width": null,
            "object_fit": null,
            "object_position": null,
            "order": null,
            "overflow": null,
            "overflow_x": null,
            "overflow_y": null,
            "padding": null,
            "right": null,
            "top": null,
            "visibility": null,
            "width": null
          }
        },
        "949606ac579041769e121125dd4c72b1": {
          "model_module": "@jupyter-widgets/base",
          "model_name": "LayoutModel",
          "model_module_version": "1.2.0",
          "state": {
            "_model_module": "@jupyter-widgets/base",
            "_model_module_version": "1.2.0",
            "_model_name": "LayoutModel",
            "_view_count": null,
            "_view_module": "@jupyter-widgets/base",
            "_view_module_version": "1.2.0",
            "_view_name": "LayoutView",
            "align_content": null,
            "align_items": null,
            "align_self": null,
            "border": null,
            "bottom": null,
            "display": null,
            "flex": null,
            "flex_flow": null,
            "grid_area": null,
            "grid_auto_columns": null,
            "grid_auto_flow": null,
            "grid_auto_rows": null,
            "grid_column": null,
            "grid_gap": null,
            "grid_row": null,
            "grid_template_areas": null,
            "grid_template_columns": null,
            "grid_template_rows": null,
            "height": null,
            "justify_content": null,
            "justify_items": null,
            "left": null,
            "margin": null,
            "max_height": null,
            "max_width": null,
            "min_height": null,
            "min_width": null,
            "object_fit": null,
            "object_position": null,
            "order": null,
            "overflow": null,
            "overflow_x": null,
            "overflow_y": null,
            "padding": null,
            "right": null,
            "top": null,
            "visibility": null,
            "width": null
          }
        },
        "b2c4e4e363f14198bf7db7f729670491": {
          "model_module": "@jupyter-widgets/controls",
          "model_name": "DescriptionStyleModel",
          "model_module_version": "1.5.0",
          "state": {
            "_model_module": "@jupyter-widgets/controls",
            "_model_module_version": "1.5.0",
            "_model_name": "DescriptionStyleModel",
            "_view_count": null,
            "_view_module": "@jupyter-widgets/base",
            "_view_module_version": "1.2.0",
            "_view_name": "StyleView",
            "description_width": ""
          }
        },
        "791f424586e344809d884c248db8b7f7": {
          "model_module": "@jupyter-widgets/base",
          "model_name": "LayoutModel",
          "model_module_version": "1.2.0",
          "state": {
            "_model_module": "@jupyter-widgets/base",
            "_model_module_version": "1.2.0",
            "_model_name": "LayoutModel",
            "_view_count": null,
            "_view_module": "@jupyter-widgets/base",
            "_view_module_version": "1.2.0",
            "_view_name": "LayoutView",
            "align_content": null,
            "align_items": null,
            "align_self": null,
            "border": null,
            "bottom": null,
            "display": null,
            "flex": null,
            "flex_flow": null,
            "grid_area": null,
            "grid_auto_columns": null,
            "grid_auto_flow": null,
            "grid_auto_rows": null,
            "grid_column": null,
            "grid_gap": null,
            "grid_row": null,
            "grid_template_areas": null,
            "grid_template_columns": null,
            "grid_template_rows": null,
            "height": null,
            "justify_content": null,
            "justify_items": null,
            "left": null,
            "margin": null,
            "max_height": null,
            "max_width": null,
            "min_height": null,
            "min_width": null,
            "object_fit": null,
            "object_position": null,
            "order": null,
            "overflow": null,
            "overflow_x": null,
            "overflow_y": null,
            "padding": null,
            "right": null,
            "top": null,
            "visibility": null,
            "width": null
          }
        },
        "1ad20243459e4015a26f5c6fbbcf3cb0": {
          "model_module": "@jupyter-widgets/controls",
          "model_name": "ProgressStyleModel",
          "model_module_version": "1.5.0",
          "state": {
            "_model_module": "@jupyter-widgets/controls",
            "_model_module_version": "1.5.0",
            "_model_name": "ProgressStyleModel",
            "_view_count": null,
            "_view_module": "@jupyter-widgets/base",
            "_view_module_version": "1.2.0",
            "_view_name": "StyleView",
            "bar_color": null,
            "description_width": ""
          }
        },
        "2965d1ba31ac4cb7917d49e6f35c7380": {
          "model_module": "@jupyter-widgets/base",
          "model_name": "LayoutModel",
          "model_module_version": "1.2.0",
          "state": {
            "_model_module": "@jupyter-widgets/base",
            "_model_module_version": "1.2.0",
            "_model_name": "LayoutModel",
            "_view_count": null,
            "_view_module": "@jupyter-widgets/base",
            "_view_module_version": "1.2.0",
            "_view_name": "LayoutView",
            "align_content": null,
            "align_items": null,
            "align_self": null,
            "border": null,
            "bottom": null,
            "display": null,
            "flex": null,
            "flex_flow": null,
            "grid_area": null,
            "grid_auto_columns": null,
            "grid_auto_flow": null,
            "grid_auto_rows": null,
            "grid_column": null,
            "grid_gap": null,
            "grid_row": null,
            "grid_template_areas": null,
            "grid_template_columns": null,
            "grid_template_rows": null,
            "height": null,
            "justify_content": null,
            "justify_items": null,
            "left": null,
            "margin": null,
            "max_height": null,
            "max_width": null,
            "min_height": null,
            "min_width": null,
            "object_fit": null,
            "object_position": null,
            "order": null,
            "overflow": null,
            "overflow_x": null,
            "overflow_y": null,
            "padding": null,
            "right": null,
            "top": null,
            "visibility": null,
            "width": null
          }
        },
        "5f99e5ba6af34ec69c606c80238bb065": {
          "model_module": "@jupyter-widgets/controls",
          "model_name": "DescriptionStyleModel",
          "model_module_version": "1.5.0",
          "state": {
            "_model_module": "@jupyter-widgets/controls",
            "_model_module_version": "1.5.0",
            "_model_name": "DescriptionStyleModel",
            "_view_count": null,
            "_view_module": "@jupyter-widgets/base",
            "_view_module_version": "1.2.0",
            "_view_name": "StyleView",
            "description_width": ""
          }
        },
        "0cc156d142ff4da2be6afcf1e157aeac": {
          "model_module": "@jupyter-widgets/controls",
          "model_name": "HBoxModel",
          "model_module_version": "1.5.0",
          "state": {
            "_dom_classes": [],
            "_model_module": "@jupyter-widgets/controls",
            "_model_module_version": "1.5.0",
            "_model_name": "HBoxModel",
            "_view_count": null,
            "_view_module": "@jupyter-widgets/controls",
            "_view_module_version": "1.5.0",
            "_view_name": "HBoxView",
            "box_style": "",
            "children": [
              "IPY_MODEL_e4e9baa6357d4024a558ee736ef4c6c7",
              "IPY_MODEL_4a59b3c38cb447469de62ba4e8d2e136",
              "IPY_MODEL_388102bfe7c64400818ae88aeb979927"
            ],
            "layout": "IPY_MODEL_d5b472dd9e7248d68854605df85b5f88"
          }
        },
        "e4e9baa6357d4024a558ee736ef4c6c7": {
          "model_module": "@jupyter-widgets/controls",
          "model_name": "HTMLModel",
          "model_module_version": "1.5.0",
          "state": {
            "_dom_classes": [],
            "_model_module": "@jupyter-widgets/controls",
            "_model_module_version": "1.5.0",
            "_model_name": "HTMLModel",
            "_view_count": null,
            "_view_module": "@jupyter-widgets/controls",
            "_view_module_version": "1.5.0",
            "_view_name": "HTMLView",
            "description": "",
            "description_tooltip": null,
            "layout": "IPY_MODEL_b54118c67d3447b5b8553d0e34535764",
            "placeholder": "​",
            "style": "IPY_MODEL_a112d5a24af64b68859dd0d58dfa79e8",
            "value": "Unsloth: Tokenizing [&quot;text&quot;] (num_proc=2): 100%"
          }
        },
        "4a59b3c38cb447469de62ba4e8d2e136": {
          "model_module": "@jupyter-widgets/controls",
          "model_name": "FloatProgressModel",
          "model_module_version": "1.5.0",
          "state": {
            "_dom_classes": [],
            "_model_module": "@jupyter-widgets/controls",
            "_model_module_version": "1.5.0",
            "_model_name": "FloatProgressModel",
            "_view_count": null,
            "_view_module": "@jupyter-widgets/controls",
            "_view_module_version": "1.5.0",
            "_view_name": "ProgressView",
            "bar_style": "success",
            "description": "",
            "description_tooltip": null,
            "layout": "IPY_MODEL_6e56b449f9fe43fbbec780e8fed1f2c5",
            "max": 500,
            "min": 0,
            "orientation": "horizontal",
            "style": "IPY_MODEL_e68d61e0f48847d1a266cd55f91673af",
            "value": 500
          }
        },
        "388102bfe7c64400818ae88aeb979927": {
          "model_module": "@jupyter-widgets/controls",
          "model_name": "HTMLModel",
          "model_module_version": "1.5.0",
          "state": {
            "_dom_classes": [],
            "_model_module": "@jupyter-widgets/controls",
            "_model_module_version": "1.5.0",
            "_model_name": "HTMLModel",
            "_view_count": null,
            "_view_module": "@jupyter-widgets/controls",
            "_view_module_version": "1.5.0",
            "_view_name": "HTMLView",
            "description": "",
            "description_tooltip": null,
            "layout": "IPY_MODEL_1f996a93832143089d2d46a598941697",
            "placeholder": "​",
            "style": "IPY_MODEL_abad7bf050dc4aeba2636ecf6d3d6953",
            "value": " 500/500 [00:02&lt;00:00, 239.08 examples/s]"
          }
        },
        "d5b472dd9e7248d68854605df85b5f88": {
          "model_module": "@jupyter-widgets/base",
          "model_name": "LayoutModel",
          "model_module_version": "1.2.0",
          "state": {
            "_model_module": "@jupyter-widgets/base",
            "_model_module_version": "1.2.0",
            "_model_name": "LayoutModel",
            "_view_count": null,
            "_view_module": "@jupyter-widgets/base",
            "_view_module_version": "1.2.0",
            "_view_name": "LayoutView",
            "align_content": null,
            "align_items": null,
            "align_self": null,
            "border": null,
            "bottom": null,
            "display": null,
            "flex": null,
            "flex_flow": null,
            "grid_area": null,
            "grid_auto_columns": null,
            "grid_auto_flow": null,
            "grid_auto_rows": null,
            "grid_column": null,
            "grid_gap": null,
            "grid_row": null,
            "grid_template_areas": null,
            "grid_template_columns": null,
            "grid_template_rows": null,
            "height": null,
            "justify_content": null,
            "justify_items": null,
            "left": null,
            "margin": null,
            "max_height": null,
            "max_width": null,
            "min_height": null,
            "min_width": null,
            "object_fit": null,
            "object_position": null,
            "order": null,
            "overflow": null,
            "overflow_x": null,
            "overflow_y": null,
            "padding": null,
            "right": null,
            "top": null,
            "visibility": null,
            "width": null
          }
        },
        "b54118c67d3447b5b8553d0e34535764": {
          "model_module": "@jupyter-widgets/base",
          "model_name": "LayoutModel",
          "model_module_version": "1.2.0",
          "state": {
            "_model_module": "@jupyter-widgets/base",
            "_model_module_version": "1.2.0",
            "_model_name": "LayoutModel",
            "_view_count": null,
            "_view_module": "@jupyter-widgets/base",
            "_view_module_version": "1.2.0",
            "_view_name": "LayoutView",
            "align_content": null,
            "align_items": null,
            "align_self": null,
            "border": null,
            "bottom": null,
            "display": null,
            "flex": null,
            "flex_flow": null,
            "grid_area": null,
            "grid_auto_columns": null,
            "grid_auto_flow": null,
            "grid_auto_rows": null,
            "grid_column": null,
            "grid_gap": null,
            "grid_row": null,
            "grid_template_areas": null,
            "grid_template_columns": null,
            "grid_template_rows": null,
            "height": null,
            "justify_content": null,
            "justify_items": null,
            "left": null,
            "margin": null,
            "max_height": null,
            "max_width": null,
            "min_height": null,
            "min_width": null,
            "object_fit": null,
            "object_position": null,
            "order": null,
            "overflow": null,
            "overflow_x": null,
            "overflow_y": null,
            "padding": null,
            "right": null,
            "top": null,
            "visibility": null,
            "width": null
          }
        },
        "a112d5a24af64b68859dd0d58dfa79e8": {
          "model_module": "@jupyter-widgets/controls",
          "model_name": "DescriptionStyleModel",
          "model_module_version": "1.5.0",
          "state": {
            "_model_module": "@jupyter-widgets/controls",
            "_model_module_version": "1.5.0",
            "_model_name": "DescriptionStyleModel",
            "_view_count": null,
            "_view_module": "@jupyter-widgets/base",
            "_view_module_version": "1.2.0",
            "_view_name": "StyleView",
            "description_width": ""
          }
        },
        "6e56b449f9fe43fbbec780e8fed1f2c5": {
          "model_module": "@jupyter-widgets/base",
          "model_name": "LayoutModel",
          "model_module_version": "1.2.0",
          "state": {
            "_model_module": "@jupyter-widgets/base",
            "_model_module_version": "1.2.0",
            "_model_name": "LayoutModel",
            "_view_count": null,
            "_view_module": "@jupyter-widgets/base",
            "_view_module_version": "1.2.0",
            "_view_name": "LayoutView",
            "align_content": null,
            "align_items": null,
            "align_self": null,
            "border": null,
            "bottom": null,
            "display": null,
            "flex": null,
            "flex_flow": null,
            "grid_area": null,
            "grid_auto_columns": null,
            "grid_auto_flow": null,
            "grid_auto_rows": null,
            "grid_column": null,
            "grid_gap": null,
            "grid_row": null,
            "grid_template_areas": null,
            "grid_template_columns": null,
            "grid_template_rows": null,
            "height": null,
            "justify_content": null,
            "justify_items": null,
            "left": null,
            "margin": null,
            "max_height": null,
            "max_width": null,
            "min_height": null,
            "min_width": null,
            "object_fit": null,
            "object_position": null,
            "order": null,
            "overflow": null,
            "overflow_x": null,
            "overflow_y": null,
            "padding": null,
            "right": null,
            "top": null,
            "visibility": null,
            "width": null
          }
        },
        "e68d61e0f48847d1a266cd55f91673af": {
          "model_module": "@jupyter-widgets/controls",
          "model_name": "ProgressStyleModel",
          "model_module_version": "1.5.0",
          "state": {
            "_model_module": "@jupyter-widgets/controls",
            "_model_module_version": "1.5.0",
            "_model_name": "ProgressStyleModel",
            "_view_count": null,
            "_view_module": "@jupyter-widgets/base",
            "_view_module_version": "1.2.0",
            "_view_name": "StyleView",
            "bar_color": null,
            "description_width": ""
          }
        },
        "1f996a93832143089d2d46a598941697": {
          "model_module": "@jupyter-widgets/base",
          "model_name": "LayoutModel",
          "model_module_version": "1.2.0",
          "state": {
            "_model_module": "@jupyter-widgets/base",
            "_model_module_version": "1.2.0",
            "_model_name": "LayoutModel",
            "_view_count": null,
            "_view_module": "@jupyter-widgets/base",
            "_view_module_version": "1.2.0",
            "_view_name": "LayoutView",
            "align_content": null,
            "align_items": null,
            "align_self": null,
            "border": null,
            "bottom": null,
            "display": null,
            "flex": null,
            "flex_flow": null,
            "grid_area": null,
            "grid_auto_columns": null,
            "grid_auto_flow": null,
            "grid_auto_rows": null,
            "grid_column": null,
            "grid_gap": null,
            "grid_row": null,
            "grid_template_areas": null,
            "grid_template_columns": null,
            "grid_template_rows": null,
            "height": null,
            "justify_content": null,
            "justify_items": null,
            "left": null,
            "margin": null,
            "max_height": null,
            "max_width": null,
            "min_height": null,
            "min_width": null,
            "object_fit": null,
            "object_position": null,
            "order": null,
            "overflow": null,
            "overflow_x": null,
            "overflow_y": null,
            "padding": null,
            "right": null,
            "top": null,
            "visibility": null,
            "width": null
          }
        },
        "abad7bf050dc4aeba2636ecf6d3d6953": {
          "model_module": "@jupyter-widgets/controls",
          "model_name": "DescriptionStyleModel",
          "model_module_version": "1.5.0",
          "state": {
            "_model_module": "@jupyter-widgets/controls",
            "_model_module_version": "1.5.0",
            "_model_name": "DescriptionStyleModel",
            "_view_count": null,
            "_view_module": "@jupyter-widgets/base",
            "_view_module_version": "1.2.0",
            "_view_name": "StyleView",
            "description_width": ""
          }
        }
      }
    }
  },
  "cells": [
    {
      "cell_type": "code",
      "execution_count": null,
      "metadata": {
        "id": "KA0LIo-Asl_c",
        "colab": {
          "base_uri": "https://localhost:8080/",
          "height": 1000
        },
        "outputId": "f6a57eab-cf81-400f-8221-2d11fe11c479"
      },
      "outputs": [
        {
          "output_type": "stream",
          "name": "stdout",
          "text": [
            "Collecting unsloth\n",
            "  Downloading unsloth-2025.3.19-py3-none-any.whl.metadata (46 kB)\n",
            "\u001b[?25l     \u001b[90m━━━━━━━━━━━━━━━━━━━━━━━━━━━━━━━━━━━━━━━━\u001b[0m \u001b[32m0.0/46.2 kB\u001b[0m \u001b[31m?\u001b[0m eta \u001b[36m-:--:--\u001b[0m\r\u001b[2K     \u001b[90m━━━━━━━━━━━━━━━━━━━━━━━━━━━━━━━━━━━━━━━━\u001b[0m \u001b[32m46.2/46.2 kB\u001b[0m \u001b[31m2.7 MB/s\u001b[0m eta \u001b[36m0:00:00\u001b[0m\n",
            "\u001b[?25hCollecting unsloth_zoo>=2025.3.17 (from unsloth)\n",
            "  Downloading unsloth_zoo-2025.3.17-py3-none-any.whl.metadata (8.0 kB)\n",
            "Requirement already satisfied: torch>=2.4.0 in /usr/local/lib/python3.11/dist-packages (from unsloth) (2.6.0+cu124)\n",
            "Collecting xformers>=0.0.27.post2 (from unsloth)\n",
            "  Downloading xformers-0.0.29.post3-cp311-cp311-manylinux_2_28_x86_64.whl.metadata (1.0 kB)\n",
            "Collecting bitsandbytes (from unsloth)\n",
            "  Downloading bitsandbytes-0.45.4-py3-none-manylinux_2_24_x86_64.whl.metadata (5.0 kB)\n",
            "Requirement already satisfied: triton>=3.0.0 in /usr/local/lib/python3.11/dist-packages (from unsloth) (3.2.0)\n",
            "Requirement already satisfied: packaging in /usr/local/lib/python3.11/dist-packages (from unsloth) (24.2)\n",
            "Collecting tyro (from unsloth)\n",
            "  Downloading tyro-0.9.18-py3-none-any.whl.metadata (9.2 kB)\n",
            "Requirement already satisfied: transformers!=4.47.0,>=4.46.1 in /usr/local/lib/python3.11/dist-packages (from unsloth) (4.50.0)\n",
            "Collecting datasets>=2.16.0 (from unsloth)\n",
            "  Downloading datasets-3.5.0-py3-none-any.whl.metadata (19 kB)\n",
            "Requirement already satisfied: sentencepiece>=0.2.0 in /usr/local/lib/python3.11/dist-packages (from unsloth) (0.2.0)\n",
            "Requirement already satisfied: tqdm in /usr/local/lib/python3.11/dist-packages (from unsloth) (4.67.1)\n",
            "Requirement already satisfied: psutil in /usr/local/lib/python3.11/dist-packages (from unsloth) (5.9.5)\n",
            "Requirement already satisfied: wheel>=0.42.0 in /usr/local/lib/python3.11/dist-packages (from unsloth) (0.45.1)\n",
            "Requirement already satisfied: numpy in /usr/local/lib/python3.11/dist-packages (from unsloth) (2.0.2)\n",
            "Requirement already satisfied: accelerate>=0.34.1 in /usr/local/lib/python3.11/dist-packages (from unsloth) (1.5.2)\n",
            "Collecting trl!=0.15.0,!=0.9.0,!=0.9.1,!=0.9.2,!=0.9.3,<=0.15.2,>=0.7.9 (from unsloth)\n",
            "  Downloading trl-0.15.2-py3-none-any.whl.metadata (11 kB)\n",
            "Requirement already satisfied: peft!=0.11.0,>=0.7.1 in /usr/local/lib/python3.11/dist-packages (from unsloth) (0.14.0)\n",
            "Collecting protobuf<4.0.0 (from unsloth)\n",
            "  Downloading protobuf-3.20.3-py2.py3-none-any.whl.metadata (720 bytes)\n",
            "Requirement already satisfied: huggingface_hub in /usr/local/lib/python3.11/dist-packages (from unsloth) (0.29.3)\n",
            "Collecting hf_transfer (from unsloth)\n",
            "  Downloading hf_transfer-0.1.9-cp38-abi3-manylinux_2_17_x86_64.manylinux2014_x86_64.whl.metadata (1.7 kB)\n",
            "Requirement already satisfied: diffusers in /usr/local/lib/python3.11/dist-packages (from unsloth) (0.32.2)\n",
            "Requirement already satisfied: torchvision in /usr/local/lib/python3.11/dist-packages (from unsloth) (0.21.0+cu124)\n",
            "Requirement already satisfied: pyyaml in /usr/local/lib/python3.11/dist-packages (from accelerate>=0.34.1->unsloth) (6.0.2)\n",
            "Requirement already satisfied: safetensors>=0.4.3 in /usr/local/lib/python3.11/dist-packages (from accelerate>=0.34.1->unsloth) (0.5.3)\n",
            "Requirement already satisfied: filelock in /usr/local/lib/python3.11/dist-packages (from datasets>=2.16.0->unsloth) (3.18.0)\n",
            "Requirement already satisfied: pyarrow>=15.0.0 in /usr/local/lib/python3.11/dist-packages (from datasets>=2.16.0->unsloth) (18.1.0)\n",
            "Collecting dill<0.3.9,>=0.3.0 (from datasets>=2.16.0->unsloth)\n",
            "  Downloading dill-0.3.8-py3-none-any.whl.metadata (10 kB)\n",
            "Requirement already satisfied: pandas in /usr/local/lib/python3.11/dist-packages (from datasets>=2.16.0->unsloth) (2.2.2)\n",
            "Requirement already satisfied: requests>=2.32.2 in /usr/local/lib/python3.11/dist-packages (from datasets>=2.16.0->unsloth) (2.32.3)\n",
            "Collecting xxhash (from datasets>=2.16.0->unsloth)\n",
            "  Downloading xxhash-3.5.0-cp311-cp311-manylinux_2_17_x86_64.manylinux2014_x86_64.whl.metadata (12 kB)\n",
            "Collecting multiprocess<0.70.17 (from datasets>=2.16.0->unsloth)\n",
            "  Downloading multiprocess-0.70.16-py311-none-any.whl.metadata (7.2 kB)\n",
            "Collecting fsspec<=2024.12.0,>=2023.1.0 (from fsspec[http]<=2024.12.0,>=2023.1.0->datasets>=2.16.0->unsloth)\n",
            "  Downloading fsspec-2024.12.0-py3-none-any.whl.metadata (11 kB)\n",
            "Requirement already satisfied: aiohttp in /usr/local/lib/python3.11/dist-packages (from datasets>=2.16.0->unsloth) (3.11.14)\n",
            "Requirement already satisfied: typing-extensions>=3.7.4.3 in /usr/local/lib/python3.11/dist-packages (from huggingface_hub->unsloth) (4.12.2)\n",
            "Requirement already satisfied: networkx in /usr/local/lib/python3.11/dist-packages (from torch>=2.4.0->unsloth) (3.4.2)\n",
            "Requirement already satisfied: jinja2 in /usr/local/lib/python3.11/dist-packages (from torch>=2.4.0->unsloth) (3.1.6)\n",
            "Collecting nvidia-cuda-nvrtc-cu12==12.4.127 (from torch>=2.4.0->unsloth)\n",
            "  Downloading nvidia_cuda_nvrtc_cu12-12.4.127-py3-none-manylinux2014_x86_64.whl.metadata (1.5 kB)\n",
            "Collecting nvidia-cuda-runtime-cu12==12.4.127 (from torch>=2.4.0->unsloth)\n",
            "  Downloading nvidia_cuda_runtime_cu12-12.4.127-py3-none-manylinux2014_x86_64.whl.metadata (1.5 kB)\n",
            "Collecting nvidia-cuda-cupti-cu12==12.4.127 (from torch>=2.4.0->unsloth)\n",
            "  Downloading nvidia_cuda_cupti_cu12-12.4.127-py3-none-manylinux2014_x86_64.whl.metadata (1.6 kB)\n",
            "Collecting nvidia-cudnn-cu12==9.1.0.70 (from torch>=2.4.0->unsloth)\n",
            "  Downloading nvidia_cudnn_cu12-9.1.0.70-py3-none-manylinux2014_x86_64.whl.metadata (1.6 kB)\n",
            "Collecting nvidia-cublas-cu12==12.4.5.8 (from torch>=2.4.0->unsloth)\n",
            "  Downloading nvidia_cublas_cu12-12.4.5.8-py3-none-manylinux2014_x86_64.whl.metadata (1.5 kB)\n",
            "Collecting nvidia-cufft-cu12==11.2.1.3 (from torch>=2.4.0->unsloth)\n",
            "  Downloading nvidia_cufft_cu12-11.2.1.3-py3-none-manylinux2014_x86_64.whl.metadata (1.5 kB)\n",
            "Collecting nvidia-curand-cu12==10.3.5.147 (from torch>=2.4.0->unsloth)\n",
            "  Downloading nvidia_curand_cu12-10.3.5.147-py3-none-manylinux2014_x86_64.whl.metadata (1.5 kB)\n",
            "Collecting nvidia-cusolver-cu12==11.6.1.9 (from torch>=2.4.0->unsloth)\n",
            "  Downloading nvidia_cusolver_cu12-11.6.1.9-py3-none-manylinux2014_x86_64.whl.metadata (1.6 kB)\n",
            "Collecting nvidia-cusparse-cu12==12.3.1.170 (from torch>=2.4.0->unsloth)\n",
            "  Downloading nvidia_cusparse_cu12-12.3.1.170-py3-none-manylinux2014_x86_64.whl.metadata (1.6 kB)\n",
            "Requirement already satisfied: nvidia-cusparselt-cu12==0.6.2 in /usr/local/lib/python3.11/dist-packages (from torch>=2.4.0->unsloth) (0.6.2)\n",
            "Requirement already satisfied: nvidia-nccl-cu12==2.21.5 in /usr/local/lib/python3.11/dist-packages (from torch>=2.4.0->unsloth) (2.21.5)\n",
            "Requirement already satisfied: nvidia-nvtx-cu12==12.4.127 in /usr/local/lib/python3.11/dist-packages (from torch>=2.4.0->unsloth) (12.4.127)\n",
            "Collecting nvidia-nvjitlink-cu12==12.4.127 (from torch>=2.4.0->unsloth)\n",
            "  Downloading nvidia_nvjitlink_cu12-12.4.127-py3-none-manylinux2014_x86_64.whl.metadata (1.5 kB)\n",
            "Requirement already satisfied: sympy==1.13.1 in /usr/local/lib/python3.11/dist-packages (from torch>=2.4.0->unsloth) (1.13.1)\n",
            "Requirement already satisfied: mpmath<1.4,>=1.1.0 in /usr/local/lib/python3.11/dist-packages (from sympy==1.13.1->torch>=2.4.0->unsloth) (1.3.0)\n",
            "Requirement already satisfied: regex!=2019.12.17 in /usr/local/lib/python3.11/dist-packages (from transformers!=4.47.0,>=4.46.1->unsloth) (2024.11.6)\n",
            "Requirement already satisfied: tokenizers<0.22,>=0.21 in /usr/local/lib/python3.11/dist-packages (from transformers!=4.47.0,>=4.46.1->unsloth) (0.21.1)\n",
            "Requirement already satisfied: rich in /usr/local/lib/python3.11/dist-packages (from trl!=0.15.0,!=0.9.0,!=0.9.1,!=0.9.2,!=0.9.3,<=0.15.2,>=0.7.9->unsloth) (13.9.4)\n",
            "Collecting cut_cross_entropy (from unsloth_zoo>=2025.3.17->unsloth)\n",
            "  Downloading cut_cross_entropy-25.1.1-py3-none-any.whl.metadata (9.3 kB)\n",
            "Requirement already satisfied: pillow in /usr/local/lib/python3.11/dist-packages (from unsloth_zoo>=2025.3.17->unsloth) (11.1.0)\n",
            "Requirement already satisfied: importlib-metadata in /usr/local/lib/python3.11/dist-packages (from diffusers->unsloth) (8.6.1)\n",
            "Requirement already satisfied: docstring-parser>=0.15 in /usr/local/lib/python3.11/dist-packages (from tyro->unsloth) (0.16)\n",
            "Collecting shtab>=1.5.6 (from tyro->unsloth)\n",
            "  Downloading shtab-1.7.1-py3-none-any.whl.metadata (7.3 kB)\n",
            "Requirement already satisfied: typeguard>=4.0.0 in /usr/local/lib/python3.11/dist-packages (from tyro->unsloth) (4.4.2)\n",
            "Collecting typing-extensions>=3.7.4.3 (from huggingface_hub->unsloth)\n",
            "  Downloading typing_extensions-4.13.0-py3-none-any.whl.metadata (3.0 kB)\n",
            "Requirement already satisfied: aiohappyeyeballs>=2.3.0 in /usr/local/lib/python3.11/dist-packages (from aiohttp->datasets>=2.16.0->unsloth) (2.6.1)\n",
            "Requirement already satisfied: aiosignal>=1.1.2 in /usr/local/lib/python3.11/dist-packages (from aiohttp->datasets>=2.16.0->unsloth) (1.3.2)\n",
            "Requirement already satisfied: attrs>=17.3.0 in /usr/local/lib/python3.11/dist-packages (from aiohttp->datasets>=2.16.0->unsloth) (25.3.0)\n",
            "Requirement already satisfied: frozenlist>=1.1.1 in /usr/local/lib/python3.11/dist-packages (from aiohttp->datasets>=2.16.0->unsloth) (1.5.0)\n",
            "Requirement already satisfied: multidict<7.0,>=4.5 in /usr/local/lib/python3.11/dist-packages (from aiohttp->datasets>=2.16.0->unsloth) (6.2.0)\n",
            "Requirement already satisfied: propcache>=0.2.0 in /usr/local/lib/python3.11/dist-packages (from aiohttp->datasets>=2.16.0->unsloth) (0.3.0)\n",
            "Requirement already satisfied: yarl<2.0,>=1.17.0 in /usr/local/lib/python3.11/dist-packages (from aiohttp->datasets>=2.16.0->unsloth) (1.18.3)\n",
            "Requirement already satisfied: charset-normalizer<4,>=2 in /usr/local/lib/python3.11/dist-packages (from requests>=2.32.2->datasets>=2.16.0->unsloth) (3.4.1)\n",
            "Requirement already satisfied: idna<4,>=2.5 in /usr/local/lib/python3.11/dist-packages (from requests>=2.32.2->datasets>=2.16.0->unsloth) (3.10)\n",
            "Requirement already satisfied: urllib3<3,>=1.21.1 in /usr/local/lib/python3.11/dist-packages (from requests>=2.32.2->datasets>=2.16.0->unsloth) (2.3.0)\n",
            "Requirement already satisfied: certifi>=2017.4.17 in /usr/local/lib/python3.11/dist-packages (from requests>=2.32.2->datasets>=2.16.0->unsloth) (2025.1.31)\n",
            "Requirement already satisfied: markdown-it-py>=2.2.0 in /usr/local/lib/python3.11/dist-packages (from rich->trl!=0.15.0,!=0.9.0,!=0.9.1,!=0.9.2,!=0.9.3,<=0.15.2,>=0.7.9->unsloth) (3.0.0)\n",
            "Requirement already satisfied: pygments<3.0.0,>=2.13.0 in /usr/local/lib/python3.11/dist-packages (from rich->trl!=0.15.0,!=0.9.0,!=0.9.1,!=0.9.2,!=0.9.3,<=0.15.2,>=0.7.9->unsloth) (2.18.0)\n",
            "Requirement already satisfied: zipp>=3.20 in /usr/local/lib/python3.11/dist-packages (from importlib-metadata->diffusers->unsloth) (3.21.0)\n",
            "Requirement already satisfied: MarkupSafe>=2.0 in /usr/local/lib/python3.11/dist-packages (from jinja2->torch>=2.4.0->unsloth) (3.0.2)\n",
            "Requirement already satisfied: python-dateutil>=2.8.2 in /usr/local/lib/python3.11/dist-packages (from pandas->datasets>=2.16.0->unsloth) (2.8.2)\n",
            "Requirement already satisfied: pytz>=2020.1 in /usr/local/lib/python3.11/dist-packages (from pandas->datasets>=2.16.0->unsloth) (2025.1)\n",
            "Requirement already satisfied: tzdata>=2022.7 in /usr/local/lib/python3.11/dist-packages (from pandas->datasets>=2.16.0->unsloth) (2025.1)\n",
            "Requirement already satisfied: mdurl~=0.1 in /usr/local/lib/python3.11/dist-packages (from markdown-it-py>=2.2.0->rich->trl!=0.15.0,!=0.9.0,!=0.9.1,!=0.9.2,!=0.9.3,<=0.15.2,>=0.7.9->unsloth) (0.1.2)\n",
            "Requirement already satisfied: six>=1.5 in /usr/local/lib/python3.11/dist-packages (from python-dateutil>=2.8.2->pandas->datasets>=2.16.0->unsloth) (1.17.0)\n",
            "Downloading unsloth-2025.3.19-py3-none-any.whl (192 kB)\n",
            "\u001b[2K   \u001b[90m━━━━━━━━━━━━━━━━━━━━━━━━━━━━━━━━━━━━━━━━\u001b[0m \u001b[32m192.7/192.7 kB\u001b[0m \u001b[31m15.6 MB/s\u001b[0m eta \u001b[36m0:00:00\u001b[0m\n",
            "\u001b[?25hDownloading datasets-3.5.0-py3-none-any.whl (491 kB)\n",
            "\u001b[2K   \u001b[90m━━━━━━━━━━━━━━━━━━━━━━━━━━━━━━━━━━━━━━━━\u001b[0m \u001b[32m491.2/491.2 kB\u001b[0m \u001b[31m34.3 MB/s\u001b[0m eta \u001b[36m0:00:00\u001b[0m\n",
            "\u001b[?25hDownloading protobuf-3.20.3-py2.py3-none-any.whl (162 kB)\n",
            "\u001b[2K   \u001b[90m━━━━━━━━━━━━━━━━━━━━━━━━━━━━━━━━━━━━━━━━\u001b[0m \u001b[32m162.1/162.1 kB\u001b[0m \u001b[31m15.2 MB/s\u001b[0m eta \u001b[36m0:00:00\u001b[0m\n",
            "\u001b[?25hDownloading nvidia_cublas_cu12-12.4.5.8-py3-none-manylinux2014_x86_64.whl (363.4 MB)\n",
            "\u001b[2K   \u001b[90m━━━━━━━━━━━━━━━━━━━━━━━━━━━━━━━━━━━━━━━━\u001b[0m \u001b[32m363.4/363.4 MB\u001b[0m \u001b[31m4.3 MB/s\u001b[0m eta \u001b[36m0:00:00\u001b[0m\n",
            "\u001b[?25hDownloading nvidia_cuda_cupti_cu12-12.4.127-py3-none-manylinux2014_x86_64.whl (13.8 MB)\n",
            "\u001b[2K   \u001b[90m━━━━━━━━━━━━━━━━━━━━━━━━━━━━━━━━━━━━━━━━\u001b[0m \u001b[32m13.8/13.8 MB\u001b[0m \u001b[31m101.4 MB/s\u001b[0m eta \u001b[36m0:00:00\u001b[0m\n",
            "\u001b[?25hDownloading nvidia_cuda_nvrtc_cu12-12.4.127-py3-none-manylinux2014_x86_64.whl (24.6 MB)\n",
            "\u001b[2K   \u001b[90m━━━━━━━━━━━━━━━━━━━━━━━━━━━━━━━━━━━━━━━━\u001b[0m \u001b[32m24.6/24.6 MB\u001b[0m \u001b[31m80.4 MB/s\u001b[0m eta \u001b[36m0:00:00\u001b[0m\n",
            "\u001b[?25hDownloading nvidia_cuda_runtime_cu12-12.4.127-py3-none-manylinux2014_x86_64.whl (883 kB)\n",
            "\u001b[2K   \u001b[90m━━━━━━━━━━━━━━━━━━━━━━━━━━━━━━━━━━━━━━━━\u001b[0m \u001b[32m883.7/883.7 kB\u001b[0m \u001b[31m50.7 MB/s\u001b[0m eta \u001b[36m0:00:00\u001b[0m\n",
            "\u001b[?25hDownloading nvidia_cudnn_cu12-9.1.0.70-py3-none-manylinux2014_x86_64.whl (664.8 MB)\n",
            "\u001b[2K   \u001b[90m━━━━━━━━━━━━━━━━━━━━━━━━━━━━━━━━━━━━━━━━\u001b[0m \u001b[32m664.8/664.8 MB\u001b[0m \u001b[31m1.2 MB/s\u001b[0m eta \u001b[36m0:00:00\u001b[0m\n",
            "\u001b[?25hDownloading nvidia_cufft_cu12-11.2.1.3-py3-none-manylinux2014_x86_64.whl (211.5 MB)\n",
            "\u001b[2K   \u001b[90m━━━━━━━━━━━━━━━━━━━━━━━━━━━━━━━━━━━━━━━━\u001b[0m \u001b[32m211.5/211.5 MB\u001b[0m \u001b[31m4.9 MB/s\u001b[0m eta \u001b[36m0:00:00\u001b[0m\n",
            "\u001b[?25hDownloading nvidia_curand_cu12-10.3.5.147-py3-none-manylinux2014_x86_64.whl (56.3 MB)\n",
            "\u001b[2K   \u001b[90m━━━━━━━━━━━━━━━━━━━━━━━━━━━━━━━━━━━━━━━━\u001b[0m \u001b[32m56.3/56.3 MB\u001b[0m \u001b[31m12.2 MB/s\u001b[0m eta \u001b[36m0:00:00\u001b[0m\n",
            "\u001b[?25hDownloading nvidia_cusolver_cu12-11.6.1.9-py3-none-manylinux2014_x86_64.whl (127.9 MB)\n",
            "\u001b[2K   \u001b[90m━━━━━━━━━━━━━━━━━━━━━━━━━━━━━━━━━━━━━━━━\u001b[0m \u001b[32m127.9/127.9 MB\u001b[0m \u001b[31m7.3 MB/s\u001b[0m eta \u001b[36m0:00:00\u001b[0m\n",
            "\u001b[?25hDownloading nvidia_cusparse_cu12-12.3.1.170-py3-none-manylinux2014_x86_64.whl (207.5 MB)\n",
            "\u001b[2K   \u001b[90m━━━━━━━━━━━━━━━━━━━━━━━━━━━━━━━━━━━━━━━━\u001b[0m \u001b[32m207.5/207.5 MB\u001b[0m \u001b[31m5.7 MB/s\u001b[0m eta \u001b[36m0:00:00\u001b[0m\n",
            "\u001b[?25hDownloading nvidia_nvjitlink_cu12-12.4.127-py3-none-manylinux2014_x86_64.whl (21.1 MB)\n",
            "\u001b[2K   \u001b[90m━━━━━━━━━━━━━━━━━━━━━━━━━━━━━━━━━━━━━━━━\u001b[0m \u001b[32m21.1/21.1 MB\u001b[0m \u001b[31m65.8 MB/s\u001b[0m eta \u001b[36m0:00:00\u001b[0m\n",
            "\u001b[?25hDownloading trl-0.15.2-py3-none-any.whl (318 kB)\n",
            "\u001b[2K   \u001b[90m━━━━━━━━━━━━━━━━━━━━━━━━━━━━━━━━━━━━━━━━\u001b[0m \u001b[32m318.9/318.9 kB\u001b[0m \u001b[31m24.9 MB/s\u001b[0m eta \u001b[36m0:00:00\u001b[0m\n",
            "\u001b[?25hDownloading unsloth_zoo-2025.3.17-py3-none-any.whl (127 kB)\n",
            "\u001b[2K   \u001b[90m━━━━━━━━━━━━━━━━━━━━━━━━━━━━━━━━━━━━━━━━\u001b[0m \u001b[32m127.8/127.8 kB\u001b[0m \u001b[31m11.2 MB/s\u001b[0m eta \u001b[36m0:00:00\u001b[0m\n",
            "\u001b[?25hDownloading xformers-0.0.29.post3-cp311-cp311-manylinux_2_28_x86_64.whl (43.4 MB)\n",
            "\u001b[2K   \u001b[90m━━━━━━━━━━━━━━━━━━━━━━━━━━━━━━━━━━━━━━━━\u001b[0m \u001b[32m43.4/43.4 MB\u001b[0m \u001b[31m12.9 MB/s\u001b[0m eta \u001b[36m0:00:00\u001b[0m\n",
            "\u001b[?25hDownloading bitsandbytes-0.45.4-py3-none-manylinux_2_24_x86_64.whl (76.0 MB)\n",
            "\u001b[2K   \u001b[90m━━━━━━━━━━━━━━━━━━━━━━━━━━━━━━━━━━━━━━━━\u001b[0m \u001b[32m76.0/76.0 MB\u001b[0m \u001b[31m10.7 MB/s\u001b[0m eta \u001b[36m0:00:00\u001b[0m\n",
            "\u001b[?25hDownloading hf_transfer-0.1.9-cp38-abi3-manylinux_2_17_x86_64.manylinux2014_x86_64.whl (3.6 MB)\n",
            "\u001b[2K   \u001b[90m━━━━━━━━━━━━━━━━━━━━━━━━━━━━━━━━━━━━━━━━\u001b[0m \u001b[32m3.6/3.6 MB\u001b[0m \u001b[31m93.4 MB/s\u001b[0m eta \u001b[36m0:00:00\u001b[0m\n",
            "\u001b[?25hDownloading tyro-0.9.18-py3-none-any.whl (123 kB)\n",
            "\u001b[2K   \u001b[90m━━━━━━━━━━━━━━━━━━━━━━━━━━━━━━━━━━━━━━━━\u001b[0m \u001b[32m123.6/123.6 kB\u001b[0m \u001b[31m11.0 MB/s\u001b[0m eta \u001b[36m0:00:00\u001b[0m\n",
            "\u001b[?25hDownloading dill-0.3.8-py3-none-any.whl (116 kB)\n",
            "\u001b[2K   \u001b[90m━━━━━━━━━━━━━━━━━━━━━━━━━━━━━━━━━━━━━━━━\u001b[0m \u001b[32m116.3/116.3 kB\u001b[0m \u001b[31m10.2 MB/s\u001b[0m eta \u001b[36m0:00:00\u001b[0m\n",
            "\u001b[?25hDownloading fsspec-2024.12.0-py3-none-any.whl (183 kB)\n",
            "\u001b[2K   \u001b[90m━━━━━━━━━━━━━━━━━━━━━━━━━━━━━━━━━━━━━━━━\u001b[0m \u001b[32m183.9/183.9 kB\u001b[0m \u001b[31m16.8 MB/s\u001b[0m eta \u001b[36m0:00:00\u001b[0m\n",
            "\u001b[?25hDownloading multiprocess-0.70.16-py311-none-any.whl (143 kB)\n",
            "\u001b[2K   \u001b[90m━━━━━━━━━━━━━━━━━━━━━━━━━━━━━━━━━━━━━━━━\u001b[0m \u001b[32m143.5/143.5 kB\u001b[0m \u001b[31m14.2 MB/s\u001b[0m eta \u001b[36m0:00:00\u001b[0m\n",
            "\u001b[?25hDownloading shtab-1.7.1-py3-none-any.whl (14 kB)\n",
            "Downloading typing_extensions-4.13.0-py3-none-any.whl (45 kB)\n",
            "\u001b[2K   \u001b[90m━━━━━━━━━━━━━━━━━━━━━━━━━━━━━━━━━━━━━━━━\u001b[0m \u001b[32m45.7/45.7 kB\u001b[0m \u001b[31m3.8 MB/s\u001b[0m eta \u001b[36m0:00:00\u001b[0m\n",
            "\u001b[?25hDownloading cut_cross_entropy-25.1.1-py3-none-any.whl (22 kB)\n",
            "Downloading xxhash-3.5.0-cp311-cp311-manylinux_2_17_x86_64.manylinux2014_x86_64.whl (194 kB)\n",
            "\u001b[2K   \u001b[90m━━━━━━━━━━━━━━━━━━━━━━━━━━━━━━━━━━━━━━━━\u001b[0m \u001b[32m194.8/194.8 kB\u001b[0m \u001b[31m16.8 MB/s\u001b[0m eta \u001b[36m0:00:00\u001b[0m\n",
            "\u001b[?25hInstalling collected packages: xxhash, typing-extensions, shtab, protobuf, nvidia-nvjitlink-cu12, nvidia-curand-cu12, nvidia-cufft-cu12, nvidia-cuda-runtime-cu12, nvidia-cuda-nvrtc-cu12, nvidia-cuda-cupti-cu12, nvidia-cublas-cu12, hf_transfer, fsspec, dill, nvidia-cusparse-cu12, nvidia-cudnn-cu12, multiprocess, tyro, nvidia-cusolver-cu12, datasets, xformers, cut_cross_entropy, bitsandbytes, trl, unsloth_zoo, unsloth\n",
            "  Attempting uninstall: typing-extensions\n",
            "    Found existing installation: typing_extensions 4.12.2\n",
            "    Uninstalling typing_extensions-4.12.2:\n",
            "      Successfully uninstalled typing_extensions-4.12.2\n",
            "  Attempting uninstall: protobuf\n",
            "    Found existing installation: protobuf 5.29.4\n",
            "    Uninstalling protobuf-5.29.4:\n",
            "      Successfully uninstalled protobuf-5.29.4\n",
            "  Attempting uninstall: nvidia-nvjitlink-cu12\n",
            "    Found existing installation: nvidia-nvjitlink-cu12 12.5.82\n",
            "    Uninstalling nvidia-nvjitlink-cu12-12.5.82:\n",
            "      Successfully uninstalled nvidia-nvjitlink-cu12-12.5.82\n",
            "  Attempting uninstall: nvidia-curand-cu12\n",
            "    Found existing installation: nvidia-curand-cu12 10.3.6.82\n",
            "    Uninstalling nvidia-curand-cu12-10.3.6.82:\n",
            "      Successfully uninstalled nvidia-curand-cu12-10.3.6.82\n",
            "  Attempting uninstall: nvidia-cufft-cu12\n",
            "    Found existing installation: nvidia-cufft-cu12 11.2.3.61\n",
            "    Uninstalling nvidia-cufft-cu12-11.2.3.61:\n",
            "      Successfully uninstalled nvidia-cufft-cu12-11.2.3.61\n",
            "  Attempting uninstall: nvidia-cuda-runtime-cu12\n",
            "    Found existing installation: nvidia-cuda-runtime-cu12 12.5.82\n",
            "    Uninstalling nvidia-cuda-runtime-cu12-12.5.82:\n",
            "      Successfully uninstalled nvidia-cuda-runtime-cu12-12.5.82\n",
            "  Attempting uninstall: nvidia-cuda-nvrtc-cu12\n",
            "    Found existing installation: nvidia-cuda-nvrtc-cu12 12.5.82\n",
            "    Uninstalling nvidia-cuda-nvrtc-cu12-12.5.82:\n",
            "      Successfully uninstalled nvidia-cuda-nvrtc-cu12-12.5.82\n",
            "  Attempting uninstall: nvidia-cuda-cupti-cu12\n",
            "    Found existing installation: nvidia-cuda-cupti-cu12 12.5.82\n",
            "    Uninstalling nvidia-cuda-cupti-cu12-12.5.82:\n",
            "      Successfully uninstalled nvidia-cuda-cupti-cu12-12.5.82\n",
            "  Attempting uninstall: nvidia-cublas-cu12\n",
            "    Found existing installation: nvidia-cublas-cu12 12.5.3.2\n",
            "    Uninstalling nvidia-cublas-cu12-12.5.3.2:\n",
            "      Successfully uninstalled nvidia-cublas-cu12-12.5.3.2\n",
            "  Attempting uninstall: fsspec\n",
            "    Found existing installation: fsspec 2025.3.0\n",
            "    Uninstalling fsspec-2025.3.0:\n",
            "      Successfully uninstalled fsspec-2025.3.0\n",
            "  Attempting uninstall: nvidia-cusparse-cu12\n",
            "    Found existing installation: nvidia-cusparse-cu12 12.5.1.3\n",
            "    Uninstalling nvidia-cusparse-cu12-12.5.1.3:\n",
            "      Successfully uninstalled nvidia-cusparse-cu12-12.5.1.3\n",
            "  Attempting uninstall: nvidia-cudnn-cu12\n",
            "    Found existing installation: nvidia-cudnn-cu12 9.3.0.75\n",
            "    Uninstalling nvidia-cudnn-cu12-9.3.0.75:\n",
            "      Successfully uninstalled nvidia-cudnn-cu12-9.3.0.75\n",
            "  Attempting uninstall: nvidia-cusolver-cu12\n",
            "    Found existing installation: nvidia-cusolver-cu12 11.6.3.83\n",
            "    Uninstalling nvidia-cusolver-cu12-11.6.3.83:\n",
            "      Successfully uninstalled nvidia-cusolver-cu12-11.6.3.83\n",
            "\u001b[31mERROR: pip's dependency resolver does not currently take into account all the packages that are installed. This behaviour is the source of the following dependency conflicts.\n",
            "grpcio-status 1.71.0 requires protobuf<6.0dev,>=5.26.1, but you have protobuf 3.20.3 which is incompatible.\n",
            "gcsfs 2025.3.0 requires fsspec==2025.3.0, but you have fsspec 2024.12.0 which is incompatible.\n",
            "tensorflow-metadata 1.16.1 requires protobuf<6.0.0dev,>=4.25.2; python_version >= \"3.11\", but you have protobuf 3.20.3 which is incompatible.\u001b[0m\u001b[31m\n",
            "\u001b[0mSuccessfully installed bitsandbytes-0.45.4 cut_cross_entropy-25.1.1 datasets-3.5.0 dill-0.3.8 fsspec-2024.12.0 hf_transfer-0.1.9 multiprocess-0.70.16 nvidia-cublas-cu12-12.4.5.8 nvidia-cuda-cupti-cu12-12.4.127 nvidia-cuda-nvrtc-cu12-12.4.127 nvidia-cuda-runtime-cu12-12.4.127 nvidia-cudnn-cu12-9.1.0.70 nvidia-cufft-cu12-11.2.1.3 nvidia-curand-cu12-10.3.5.147 nvidia-cusolver-cu12-11.6.1.9 nvidia-cusparse-cu12-12.3.1.170 nvidia-nvjitlink-cu12-12.4.127 protobuf-3.20.3 shtab-1.7.1 trl-0.15.2 typing-extensions-4.13.0 tyro-0.9.18 unsloth-2025.3.19 unsloth_zoo-2025.3.17 xformers-0.0.29.post3 xxhash-3.5.0\n"
          ]
        },
        {
          "output_type": "display_data",
          "data": {
            "application/vnd.colab-display-data+json": {
              "pip_warning": {
                "packages": [
                  "google"
                ]
              },
              "id": "946c89b4bf07438aad7e43d47ef45d33"
            }
          },
          "metadata": {}
        },
        {
          "output_type": "stream",
          "name": "stdout",
          "text": [
            "Collecting git+https://github.com/unslothai/unsloth.git\n",
            "  Cloning https://github.com/unslothai/unsloth.git to /tmp/pip-req-build-_59l3_w6\n",
            "  Running command git clone --filter=blob:none --quiet https://github.com/unslothai/unsloth.git /tmp/pip-req-build-_59l3_w6\n",
            "  Resolved https://github.com/unslothai/unsloth.git to commit 2ff5dc1a8de1614994a275785b7b64fb4db8cb5d\n",
            "  Installing build dependencies ... \u001b[?25l\u001b[?25hdone\n",
            "  Getting requirements to build wheel ... \u001b[?25l\u001b[?25hdone\n",
            "  Preparing metadata (pyproject.toml) ... \u001b[?25l\u001b[?25hdone\n",
            "Building wheels for collected packages: unsloth\n",
            "  Building wheel for unsloth (pyproject.toml) ... \u001b[?25l\u001b[?25hdone\n",
            "  Created wheel for unsloth: filename=unsloth-2025.3.19-py3-none-any.whl size=192249 sha256=01c9635cb115702b315be792db20643e1378c71f558296d9477a1329ad02e90f\n",
            "  Stored in directory: /tmp/pip-ephem-wheel-cache-t8etdnk2/wheels/d1/17/05/850ab10c33284a4763b0595cd8ea9d01fce6e221cac24b3c01\n",
            "Successfully built unsloth\n",
            "Installing collected packages: unsloth\n",
            "  Attempting uninstall: unsloth\n",
            "    Found existing installation: unsloth 2025.3.19\n",
            "    Uninstalling unsloth-2025.3.19:\n",
            "      Successfully uninstalled unsloth-2025.3.19\n",
            "Successfully installed unsloth-2025.3.19\n"
          ]
        }
      ],
      "source": [
        "# %%capture\n",
        "\n",
        "!pip install unsloth # install unsloth\n",
        "!pip install --force-reinstall --no-cache-dir --no-deps git+https://github.com/unslothai/unsloth.git # Also get the latest version Unsloth!"
      ]
    },
    {
      "cell_type": "code",
      "source": [
        "!pip install datasets"
      ],
      "metadata": {
        "colab": {
          "base_uri": "https://localhost:8080/"
        },
        "collapsed": true,
        "id": "bU-kBe7sbdMf",
        "outputId": "2eb3a112-ef93-4aa1-8381-434f0d32fe8f"
      },
      "execution_count": null,
      "outputs": [
        {
          "output_type": "stream",
          "name": "stdout",
          "text": [
            "Requirement already satisfied: datasets in /usr/local/lib/python3.11/dist-packages (3.5.0)\n",
            "Requirement already satisfied: filelock in /usr/local/lib/python3.11/dist-packages (from datasets) (3.18.0)\n",
            "Requirement already satisfied: numpy>=1.17 in /usr/local/lib/python3.11/dist-packages (from datasets) (2.0.2)\n",
            "Requirement already satisfied: pyarrow>=15.0.0 in /usr/local/lib/python3.11/dist-packages (from datasets) (18.1.0)\n",
            "Requirement already satisfied: dill<0.3.9,>=0.3.0 in /usr/local/lib/python3.11/dist-packages (from datasets) (0.3.8)\n",
            "Requirement already satisfied: pandas in /usr/local/lib/python3.11/dist-packages (from datasets) (2.2.2)\n",
            "Requirement already satisfied: requests>=2.32.2 in /usr/local/lib/python3.11/dist-packages (from datasets) (2.32.3)\n",
            "Requirement already satisfied: tqdm>=4.66.3 in /usr/local/lib/python3.11/dist-packages (from datasets) (4.67.1)\n",
            "Requirement already satisfied: xxhash in /usr/local/lib/python3.11/dist-packages (from datasets) (3.5.0)\n",
            "Requirement already satisfied: multiprocess<0.70.17 in /usr/local/lib/python3.11/dist-packages (from datasets) (0.70.16)\n",
            "Requirement already satisfied: fsspec<=2024.12.0,>=2023.1.0 in /usr/local/lib/python3.11/dist-packages (from fsspec[http]<=2024.12.0,>=2023.1.0->datasets) (2024.12.0)\n",
            "Requirement already satisfied: aiohttp in /usr/local/lib/python3.11/dist-packages (from datasets) (3.11.14)\n",
            "Requirement already satisfied: huggingface-hub>=0.24.0 in /usr/local/lib/python3.11/dist-packages (from datasets) (0.29.3)\n",
            "Requirement already satisfied: packaging in /usr/local/lib/python3.11/dist-packages (from datasets) (24.2)\n",
            "Requirement already satisfied: pyyaml>=5.1 in /usr/local/lib/python3.11/dist-packages (from datasets) (6.0.2)\n",
            "Requirement already satisfied: aiohappyeyeballs>=2.3.0 in /usr/local/lib/python3.11/dist-packages (from aiohttp->datasets) (2.6.1)\n",
            "Requirement already satisfied: aiosignal>=1.1.2 in /usr/local/lib/python3.11/dist-packages (from aiohttp->datasets) (1.3.2)\n",
            "Requirement already satisfied: attrs>=17.3.0 in /usr/local/lib/python3.11/dist-packages (from aiohttp->datasets) (25.3.0)\n",
            "Requirement already satisfied: frozenlist>=1.1.1 in /usr/local/lib/python3.11/dist-packages (from aiohttp->datasets) (1.5.0)\n",
            "Requirement already satisfied: multidict<7.0,>=4.5 in /usr/local/lib/python3.11/dist-packages (from aiohttp->datasets) (6.2.0)\n",
            "Requirement already satisfied: propcache>=0.2.0 in /usr/local/lib/python3.11/dist-packages (from aiohttp->datasets) (0.3.0)\n",
            "Requirement already satisfied: yarl<2.0,>=1.17.0 in /usr/local/lib/python3.11/dist-packages (from aiohttp->datasets) (1.18.3)\n",
            "Requirement already satisfied: typing-extensions>=3.7.4.3 in /usr/local/lib/python3.11/dist-packages (from huggingface-hub>=0.24.0->datasets) (4.13.0)\n",
            "Requirement already satisfied: charset-normalizer<4,>=2 in /usr/local/lib/python3.11/dist-packages (from requests>=2.32.2->datasets) (3.4.1)\n",
            "Requirement already satisfied: idna<4,>=2.5 in /usr/local/lib/python3.11/dist-packages (from requests>=2.32.2->datasets) (3.10)\n",
            "Requirement already satisfied: urllib3<3,>=1.21.1 in /usr/local/lib/python3.11/dist-packages (from requests>=2.32.2->datasets) (2.3.0)\n",
            "Requirement already satisfied: certifi>=2017.4.17 in /usr/local/lib/python3.11/dist-packages (from requests>=2.32.2->datasets) (2025.1.31)\n",
            "Requirement already satisfied: python-dateutil>=2.8.2 in /usr/local/lib/python3.11/dist-packages (from pandas->datasets) (2.8.2)\n",
            "Requirement already satisfied: pytz>=2020.1 in /usr/local/lib/python3.11/dist-packages (from pandas->datasets) (2025.1)\n",
            "Requirement already satisfied: tzdata>=2022.7 in /usr/local/lib/python3.11/dist-packages (from pandas->datasets) (2025.1)\n",
            "Requirement already satisfied: six>=1.5 in /usr/local/lib/python3.11/dist-packages (from python-dateutil>=2.8.2->pandas->datasets) (1.17.0)\n"
          ]
        }
      ]
    },
    {
      "cell_type": "code",
      "source": [
        "# Modules for fine-tuning\n",
        "from unsloth import FastLanguageModel\n",
        "import torch # Import PyTorch\n",
        "from trl import SFTTrainer # Trainer for supervised fine-tuning (SFT)\n",
        "from unsloth import is_bfloat16_supported # Checks if the hardware supports bfloat16 precision\n",
        "# Hugging Face modules\n",
        "from huggingface_hub import login # Lets you login to API\n",
        "from transformers import TrainingArguments # Defines training hyperparameters\n",
        "from datasets import load_dataset # Lets you load fine-tuning datasets\n",
        "# Import weights and biases\n",
        "import wandb\n",
        "# Import kaggle secrets\n",
        "#from kaggle_secrets import UserSecretsClient"
      ],
      "metadata": {
        "id": "YsG_7ttBssu7"
      },
      "execution_count": null,
      "outputs": []
    },
    {
      "cell_type": "code",
      "source": [
        "from datasets import load_dataset"
      ],
      "metadata": {
        "id": "_SUSr7clbWIl"
      },
      "execution_count": null,
      "outputs": []
    },
    {
      "cell_type": "code",
      "source": [
        "# Set parameters\n",
        "max_seq_length = 2048 # Define the maximum sequence length a model can handle (i.e. how many tokens can be processed at once)\n",
        "dtype = None # Set to default\n",
        "load_in_4bit = True # Enables 4 bit quantization — a memory saving optimization\n",
        "\n",
        "# Load the DeepSeek R1 model and tokenizer using unsloth — imported using: from unsloth import FastLanguageModel\n",
        "model, tokenizer = FastLanguageModel.from_pretrained(\n",
        "    model_name=\"unsloth/DeepSeek-R1-Distill-Llama-8B\",  # Load the pre-trained DeepSeek R1 model (8B parameter version)\n",
        "    max_seq_length=max_seq_length, # Ensure the model can process up to 2048 tokens at once\n",
        "    dtype=dtype, # Use the default data type (e.g., FP16 or BF16 depending on hardware support)\n",
        "    load_in_4bit=load_in_4bit # Load the model in 4-bit quantization to save memory\n",
        ")"
      ],
      "metadata": {
        "colab": {
          "base_uri": "https://localhost:8080/",
          "height": 281,
          "referenced_widgets": [
            "81ca94d0e9db4d1d80d4fb5dd5d7d967",
            "23731294a9ac4dbba4a77706f2a4ffb5",
            "da7db8e1aa204063b295a6a07bd84f86",
            "2f72d0374617494d9596ba8134cb7097",
            "151770d97c404ab0af87d85c8f65d234",
            "964a53318ce94cedb639bf1a0b092996",
            "af51e1dad822452fb03542661d5476ad",
            "569b2a5c76e247f39cfe2eed3ac889a0",
            "35d330e65ff54d85984230207aed50c8",
            "f16d8a38dbc348b99a51eba627c21e63",
            "34d230f2aa674664ba1af9bce7acd78c",
            "ed69972a3a88458d8066308a44014471",
            "413865594ac04f6c97d740955f94c3c3",
            "b44e72c83eb94596a381930ae15c7bae",
            "2cd3df8c3270493589bbdd4b0a6b2dfe",
            "e4c8316604ef4f4c9d91c9af9fa61b6a",
            "26a0fd6f014e4414879fd70cc562892d",
            "daf56b2d0c734cd89c7d901fd2105edf",
            "a777d40f067e42efb547343da2fb9a19",
            "e6aebb1de89b40fba2f8b258740d408a",
            "6a37e59e0b0f45288e4c45fed8051997",
            "1dff69ca62f246d3b0ee6379efea6e93",
            "87036b9a2ff8474f927ff087d51cffc8",
            "a70922a3a9a34c76afa59e3ccf9e7231",
            "690bf67c779242cda5aee24abda6fda5",
            "1319b1a2e9b54fdc8bd6674224c4346f",
            "d0ec02d36e5a41ba9e339997d5da3664",
            "dcd9fd9d1c294265b703f7e61c7bfa75",
            "fc539400bc3346998bd41f65a1206048",
            "ab46a8306faa49b8aa80b15265b2ef57",
            "d60c3876d02f436396721a360d0cb758",
            "c3b5fc44c72342c2a9a751e432637822",
            "6f66fc126dee4750a9302e0ae0ecb00c",
            "1a55a43f0d8f4f21a7736b2eb099c77e",
            "31f1e6a1317d49959d9a590d23ae5f1d",
            "1a0df108d3cc49d9babec141de802ab2",
            "1b14ee330600438c91778afeb7e080e3",
            "0792bdabfc1f44ff8821a25e43b5c85e",
            "8380e33aee214de1b98002f7a625c9ce",
            "ca49978b8cd248dd90becbaeb72b039a",
            "571feff5aae744d6857a28418cd509f5",
            "937c5848c6814605afb9e5ae03f02855",
            "8556810327c5483486fe18c91552c877",
            "b18ae73d2b1b46c2bb6773fe2a6f36e6",
            "e5b99a82f38d42a080b92a176eabf0c7",
            "afbdf3bda7444ea687b27ff0219483bd",
            "a9eabd3121b94397a813b49757b9231f",
            "1dc231f3dfd445bf87781851022e75b6",
            "c17d6a93e2304e9198bc3ef7d4c9ceae",
            "c395fd5e8a004633b630eb9512c26e54",
            "0b46beba1a264fa0be39da1601b1f706",
            "11352e4d061f4de48947d17aa697749a",
            "bcb7fd9b9a8e48cb8e25f42e7c2bfa5c",
            "117ddccf424c43298df338d77424cfa8",
            "39e2af05ba8c4de3a389c4558ac23e94"
          ]
        },
        "id": "-TkGJHfQs7D6",
        "outputId": "06cffdba-7224-413b-fb02-9905c128051f"
      },
      "execution_count": null,
      "outputs": [
        {
          "output_type": "stream",
          "name": "stdout",
          "text": [
            "==((====))==  Unsloth 2025.3.18: Fast Llama patching. Transformers: 4.50.0.\n",
            "   \\\\   /|    Tesla T4. Num GPUs = 1. Max memory: 14.741 GB. Platform: Linux.\n",
            "O^O/ \\_/ \\    Torch: 2.6.0+cu124. CUDA: 7.5. CUDA Toolkit: 12.4. Triton: 3.2.0\n",
            "\\        /    Bfloat16 = FALSE. FA [Xformers = 0.0.29.post3. FA2 = False]\n",
            " \"-____-\"     Free license: http://github.com/unslothai/unsloth\n",
            "Unsloth: Fast downloading is enabled - ignore downloading bars which are red colored!\n"
          ]
        },
        {
          "output_type": "display_data",
          "data": {
            "text/plain": [
              "model.safetensors:   0%|          | 0.00/5.96G [00:00<?, ?B/s]"
            ],
            "application/vnd.jupyter.widget-view+json": {
              "version_major": 2,
              "version_minor": 0,
              "model_id": "81ca94d0e9db4d1d80d4fb5dd5d7d967"
            }
          },
          "metadata": {}
        },
        {
          "output_type": "display_data",
          "data": {
            "text/plain": [
              "generation_config.json:   0%|          | 0.00/236 [00:00<?, ?B/s]"
            ],
            "application/vnd.jupyter.widget-view+json": {
              "version_major": 2,
              "version_minor": 0,
              "model_id": "ed69972a3a88458d8066308a44014471"
            }
          },
          "metadata": {}
        },
        {
          "output_type": "display_data",
          "data": {
            "text/plain": [
              "tokenizer_config.json:   0%|          | 0.00/53.0k [00:00<?, ?B/s]"
            ],
            "application/vnd.jupyter.widget-view+json": {
              "version_major": 2,
              "version_minor": 0,
              "model_id": "87036b9a2ff8474f927ff087d51cffc8"
            }
          },
          "metadata": {}
        },
        {
          "output_type": "display_data",
          "data": {
            "text/plain": [
              "tokenizer.json:   0%|          | 0.00/17.2M [00:00<?, ?B/s]"
            ],
            "application/vnd.jupyter.widget-view+json": {
              "version_major": 2,
              "version_minor": 0,
              "model_id": "1a55a43f0d8f4f21a7736b2eb099c77e"
            }
          },
          "metadata": {}
        },
        {
          "output_type": "display_data",
          "data": {
            "text/plain": [
              "special_tokens_map.json:   0%|          | 0.00/483 [00:00<?, ?B/s]"
            ],
            "application/vnd.jupyter.widget-view+json": {
              "version_major": 2,
              "version_minor": 0,
              "model_id": "e5b99a82f38d42a080b92a176eabf0c7"
            }
          },
          "metadata": {}
        }
      ]
    },
    {
      "cell_type": "code",
      "source": [
        "# Define a system prompt under prompt_style\n",
        "prompt_style = \"\"\"Below is an instruction that describes a task, paired with an input that provides further context.\n",
        "Write a response that appropriately completes the request.\n",
        "Before answering, think carefully about the question and create a step-by-step chain of thoughts to ensure a logical and accurate response.\n",
        "\n",
        "### Instruction:\n",
        "You are a legal expert. Provide accurate, well-reasoned legal insights using proper legal terminology.\n",
        "Maintain a professional, objective tone. Be specific about which laws or legal principles apply.\n",
        "Explain the tenant's rights, cite the relevant statute(s), and give a clear legal opinion.\n",
        "When unsure, advise consulting a qualified attorney.\n",
        "\n",
        "### Question:\n",
        "{}\n",
        "\n",
        "### Response:\n",
        "<think>{}\"\"\""
      ],
      "metadata": {
        "id": "OUmGV0hHs_is"
      },
      "execution_count": null,
      "outputs": []
    },
    {
      "cell_type": "code",
      "source": [
        "# Creating a test medical question for inference\n",
        "question = \"\"\"I am in full term employment in the UK. My notice period set out in my contract is 3 months. There is no probation period (I know this is unusual).\n",
        "I have only been working for 10 weeks and have handed in my notice. My employer is insisting I work for the full 3 months to hire my replacement.\n",
        "There is someone else in my team at the same level who does the same job. Do I have any options to work a shorter notice period?\"\"\"\n",
        "\n",
        "# Enable optimized inference mode for Unsloth models (improves speed and efficiency)\n",
        "FastLanguageModel.for_inference(model)  # Unsloth has 2x faster inference!\n",
        "\n",
        "# Format the question using the structured prompt (`prompt_style`) and tokenize it\n",
        "inputs = tokenizer([prompt_style.format(question, \"\")], return_tensors=\"pt\").to(\"cuda\")  # Convert input to PyTorch tensor & move to GPU\n",
        "\n",
        "# Generate a response using the model\n",
        "outputs = model.generate(\n",
        "    input_ids=inputs.input_ids, # Tokenized input question\n",
        "    attention_mask=inputs.attention_mask, # Attention mask to handle padding\n",
        "    max_new_tokens=1200, # Limit response length to 1200 tokens (to prevent excessive output)\n",
        "    use_cache=True, # Enable caching for faster inference\n",
        ")\n",
        "\n",
        "# Decode the generated output tokens into human-readable text\n",
        "response = tokenizer.batch_decode(outputs)\n",
        "\n",
        "# Extract and print only the relevant response part (after \"### Response:\")\n",
        "print(response[0].split(\"### Response:\")[1])"
      ],
      "metadata": {
        "colab": {
          "base_uri": "https://localhost:8080/"
        },
        "id": "a83aWnIUt5Tm",
        "outputId": "e23af3ef-ccd0-4bdd-f347-8305846ad054"
      },
      "execution_count": null,
      "outputs": [
        {
          "output_type": "stream",
          "name": "stdout",
          "text": [
            "\n",
            "<think>\n",
            "Okay, so I'm trying to help this user who's in a bit of a tough spot with their employer in the UK. Let me break down their situation and figure out the best way to advise them.\n",
            "\n",
            "First, the user is in full-term employment with a 3-month notice period. They've only been working for 10 weeks and have already given their notice. However, their employer is insisting they work the full 3 months to hire their replacement. That seems a bit harsh, especially since the user mentions there's another team member at the same level doing the same job. \n",
            "\n",
            "I know that in the UK, employment contracts are usually governed by the Employment Rights Act 1998. The key here is to see if the notice period can be considered a fixed term or if it's a basic employment contract. If it's a fixed-term contract, the employer might have more leeway to require the employee to work the full notice period. But if it's a basic contract, the employer might not be able to enforce the full notice if the employee has already given notice.\n",
            "\n",
            "Another angle is the concept of 'entire agreement' clauses. If the contract specifies that the notice period is non-extendable, the employer might argue that the employee must fulfill it. However, the user's mention of another colleague doing the same job suggests that there might be a case for arguing that the notice period isn't strictly necessary because the role can be covered by others, potentially weakening the employer's stance.\n",
            "\n",
            "I also need to consider whether the employer's insistence is fair. If the employer is refusing to let the user leave early, they might be trying to avoid the costs of hiring a replacement, which could be a reason to push for the full notice period. But legally, the user might have the right to leave as per their notice, especially if the employer can easily cover the role with another employee.\n",
            "\n",
            "It's important to remind the user to check their contract for any specific clauses about notice periods and whether it's a fixed-term or permanent contract. They should also document any communications with their employer, in case they need to escalate the issue.\n",
            "\n",
            "If the user is unsure, suggesting they consult an employment lawyer would be a good step, as legal advice can provide tailored guidance based on their specific situation.\n",
            "\n",
            "So, putting this all together, the user has some options, but it's not straightforward. They might be able to leave as per their notice, especially if the employer can cover the role. They should check their contract and consider talking to a lawyer to explore their options further.\n",
            "</think>\n",
            "\n",
            "In your situation, you may have several options to explore, particularly given that another colleague performs the same role. Here's a structured approach to consider:\n",
            "\n",
            "1. **Review Your Contract**: Examine the specific terms of your employment contract, including whether it is a fixed-term or permanent contract, and whether the notice period is non-extendable. If it's a fixed-term contract, your employer may have more flexibility to require the full notice period.\n",
            "\n",
            "2. **Entire Agreement Clause**: Check for any 'entire agreement' clauses that might state the notice period is non-extendable. However, the presence of another colleague performing the same role may weaken the employer's argument.\n",
            "\n",
            "3. **Fairness Consideration**: Consider whether your employer's stance is fair, as they may be avoiding the cost of hiring a replacement. You may argue that the role can be covered by existing employees, potentially allowing you to leave early.\n",
            "\n",
            "4. **Document Communication**: Keep a record of all communications with your employer regarding your notice period. This documentation could be crucial if you need to escalate the issue.\n",
            "\n",
            "5. **Consult an Employment Lawyer**: Given the complexity, consulting a lawyer can provide tailored advice specific to your situation and help determine your best course of action.\n",
            "\n",
            "In summary, you may have the right to leave as per your notice, especially if the employer can cover the role. However, consulting a lawyer is advisable to explore all options fully.<｜end▁of▁sentence｜>\n"
          ]
        }
      ]
    },
    {
      "cell_type": "code",
      "source": [
        "# Updated training prompt style to add </think> tag\n",
        "train_prompt_style = \"\"\"Below is an instruction that describes a task, paired with an input that provides further context.\n",
        "Write a response that appropriately completes the request.\n",
        "Before answering, think carefully about the question and create a step-by-step chain of thoughts to ensure a logical and accurate response.\n",
        "\n",
        "### Instruction:\n",
        "You are a legal expert. Read the tenant's legal question and provide an answer based on applicable laws.\n",
        "Be specific about which laws or legal principles apply.\n",
        "Explain the tenant's rights, cite the relevant statute(s), and give a clear legal opinion.\n",
        "When unsure, advise consulting a qualified attorney.\n",
        "\n",
        "### Question:\n",
        "{}\n",
        "\n",
        "### Response:\n",
        "<think>{}\"\"\""
      ],
      "metadata": {
        "id": "1cOg2R3fuhBq"
      },
      "execution_count": null,
      "outputs": []
    },
    {
      "cell_type": "code",
      "source": [
        "!pip install hf_transfer"
      ],
      "metadata": {
        "colab": {
          "base_uri": "https://localhost:8080/"
        },
        "id": "WqyMVBQBbmTN",
        "outputId": "e32c3625-8f60-4fea-e36c-2618c33404ad"
      },
      "execution_count": null,
      "outputs": [
        {
          "output_type": "stream",
          "name": "stdout",
          "text": [
            "Requirement already satisfied: hf_transfer in /usr/local/lib/python3.11/dist-packages (0.1.9)\n"
          ]
        }
      ]
    },
    {
      "cell_type": "code",
      "source": [
        "# Download the dataset using Hugging Face — function imported using from datasets import load_dataset\n",
        "# ['all', 'r_legaladvice', 'courtlistener_docket_entry_documents', 'atticus_contracts', 'courtlistener_opinions', 'federal_register',\n",
        "# 'bva_opinions', 'us_bills', 'cc_casebooks', 'tos', 'euro_parl', 'nlrb_decisions', 'scotus_oral_arguments', 'cfr', 'state_codes', 'scotus_filings',\n",
        "# 'exam_outlines', 'edgar', 'cfpb_creditcard_contracts', 'constitutions', 'congressional_hearings', 'oig', 'olc_memos', 'uscode', 'founding_docs',\n",
        "# 'ftc_advisory_opinions', 'echr', 'eurlex', 'tax_rulings', 'un_debates', 'fre', 'frcp', 'canadian_decisions', 'eoir', 'dol_ecab', 'icj-pcij', 'uspto_office_actions',\n",
        "# 'ed_policy_guidance', 'acus_reports', 'hhs_alj_opinions', 'sec_administrative_proceedings', 'fmshrc_bluebooks', 'resource_contracts', 'medicaid_policy_guidance',\n",
        "# 'irs_legal_advice_memos', 'doj_guidance_documents']\n",
        "dataset = load_dataset(\"pile-of-law/pile-of-law\", 'r_legaladvice', split = \"train[0:10000]\",trust_remote_code=True)\n",
        "dataset"
      ],
      "metadata": {
        "colab": {
          "base_uri": "https://localhost:8080/"
        },
        "id": "CH4vLyBFukvD",
        "outputId": "0b7f88b4-c5bd-4b82-c9ae-6b4a6dfd8d83"
      },
      "execution_count": null,
      "outputs": [
        {
          "output_type": "stream",
          "name": "stderr",
          "text": [
            "Loading Dataset Infos from /root/.cache/huggingface/modules/datasets_modules/datasets/pile-of-law--pile-of-law/c1090502f95031ebfad49ede680394da5532909fa46b7a0452be8cddecc9fa60\n",
            "INFO:datasets.info:Loading Dataset Infos from /root/.cache/huggingface/modules/datasets_modules/datasets/pile-of-law--pile-of-law/c1090502f95031ebfad49ede680394da5532909fa46b7a0452be8cddecc9fa60\n",
            "Overwrite dataset info from restored data version if exists.\n",
            "INFO:datasets.builder:Overwrite dataset info from restored data version if exists.\n",
            "Loading Dataset info from /root/.cache/huggingface/datasets/pile-of-law___pile-of-law/r_legaladvice/0.0.0/c1090502f95031ebfad49ede680394da5532909fa46b7a0452be8cddecc9fa60\n",
            "INFO:datasets.info:Loading Dataset info from /root/.cache/huggingface/datasets/pile-of-law___pile-of-law/r_legaladvice/0.0.0/c1090502f95031ebfad49ede680394da5532909fa46b7a0452be8cddecc9fa60\n",
            "Found cached dataset pile-of-law (/root/.cache/huggingface/datasets/pile-of-law___pile-of-law/r_legaladvice/0.0.0/c1090502f95031ebfad49ede680394da5532909fa46b7a0452be8cddecc9fa60)\n",
            "INFO:datasets.builder:Found cached dataset pile-of-law (/root/.cache/huggingface/datasets/pile-of-law___pile-of-law/r_legaladvice/0.0.0/c1090502f95031ebfad49ede680394da5532909fa46b7a0452be8cddecc9fa60)\n",
            "Loading Dataset info from /root/.cache/huggingface/datasets/pile-of-law___pile-of-law/r_legaladvice/0.0.0/c1090502f95031ebfad49ede680394da5532909fa46b7a0452be8cddecc9fa60\n",
            "INFO:datasets.info:Loading Dataset info from /root/.cache/huggingface/datasets/pile-of-law___pile-of-law/r_legaladvice/0.0.0/c1090502f95031ebfad49ede680394da5532909fa46b7a0452be8cddecc9fa60\n"
          ]
        },
        {
          "output_type": "execute_result",
          "data": {
            "text/plain": [
              "Dataset({\n",
              "    features: ['text', 'created_timestamp', 'downloaded_timestamp', 'url'],\n",
              "    num_rows: 10000\n",
              "})"
            ]
          },
          "metadata": {},
          "execution_count": 72
        }
      ]
    },
    {
      "cell_type": "code",
      "source": [
        "dataset['text'][9999]"
      ],
      "metadata": {
        "colab": {
          "base_uri": "https://localhost:8080/",
          "height": 164
        },
        "id": "KEZ2RVIIvIgz",
        "outputId": "7da16312-25fd-4ddd-b884-946de19209d5"
      },
      "execution_count": null,
      "outputs": [
        {
          "output_type": "execute_result",
          "data": {
            "text/plain": [
              "'Title: Please help us help my father. Arrested off international flight, taken.\\nQuestion:My father was returning from an international trip with my brother, his wife and my mother.  When they reached customs after touching down in Chicago, an Officer ask him to produce ID, then took him.  He texted my mom shortly after:\\n\\n\"being held for extradition to Virginia for charges, go on, i love you\"\\n\\nThat was Friday at 4PM.  All he has is a bag of dirty clothes and diapers for my niece.  He doesn\\'t have his medications!!\\n\\nSat at 11PM - he calls me collect from cook county jail.  he knows NOTHING.\\n\\nSun 6AM - he calls my mom, pleading to help him, he\\'s terrified, apparently still in chicago prison\\n\\nI\\'ve emailed his attorney to no effect (will obv try to keep calling)  I did some research and it looks like Virginia sent him a summons for a Grand Jury on 8/14.  They send it to an old address of his, so he was out of the country when the event occurred, making him look like he was on the lamb.\\n\\nWe know NOTHING else.  My brothers and Mom and I complete wrecks.  My father is 68 years old, NO PRIORS, COMBAT WOUNDED VETERAN.  He has very little money.  He\\'s selling his house, because he cannot pay all of his back taxes and monthly bills.  Our plan is to get an apartment together, just to make ends meet.\\n\\nWhat is going on???  What should we do?  When do I get to see my dad again?\\nAnswer #1: He\\'ll likely have a waiver hearing tommorrow. If he doesn\\'t waive extradition, he can post bail (assuming the judge doesn\\'t hold without bail). Contact a bail bondsman now. \\nAnswer #2: &gt; Sat at 11PM - he calls me collect from cook county jail. he knows NOTHING. \\n\\n1. Stop talking to your father on the phone. For the time being, your father\\'s only communication\\'s should only be between him and an attorney. \\n\\n2. Do not talk about your father\\'s case with anyone.Answer #3: was he asked to serve on a grand jury or appear in front of one? also, is this a state or federal grand jury?'"
            ],
            "application/vnd.google.colaboratory.intrinsic+json": {
              "type": "string"
            }
          },
          "metadata": {},
          "execution_count": 73
        }
      ]
    },
    {
      "cell_type": "code",
      "source": [
        "import re\n",
        "from collections import Counter\n",
        "import numpy as np\n",
        "\n",
        "def extract_location_geotext(text):\n",
        "    places = GeoText(text)\n",
        "    return places.cities[0] if places.cities else None  # Keep only the first location found\n",
        "\n",
        "def extract_location_info(dataset):\n",
        "    locations = []\n",
        "\n",
        "    for entry in dataset:\n",
        "        text = entry.get('text', '')  # Get text, default to empty string if missing\n",
        "        match = extract_location_geotext(text)\n",
        "\n",
        "        if match:\n",
        "            locations.append(match)\n",
        "\n",
        "    return locations\n",
        "\n",
        "def count_location_instances(dataset):\n",
        "    locations = extract_location_info(dataset)\n",
        "    return Counter(locations)\n",
        "\n",
        "locations = extract_location_info(dataset)\n",
        "location_counts = count_location_instances(dataset)\n",
        "print(location_counts)  # Output: Counter({'New York': X, 'Los Angeles': Y, 'Chicago': Z})"
      ],
      "metadata": {
        "colab": {
          "base_uri": "https://localhost:8080/"
        },
        "id": "xaJ5nu2-b_GB",
        "outputId": "01e19d4a-0f7b-4b7f-9482-a47c3364cc9d"
      },
      "execution_count": null,
      "outputs": [
        {
          "output_type": "stream",
          "name": "stdout",
          "text": [
            "Counter({'Texas': 325, 'Florida': 316, 'Most': 212, 'Of': 160, 'New York': 155, 'Michigan': 130, 'Ontario': 121, 'Virginia': 119, 'Oregon': 101, 'Colorado': 98, 'Police': 96, 'March': 96, 'Washington': 95, 'Best': 77, 'Missouri': 75, 'Chicago': 69, 'Maryland': 63, 'Los Angeles': 56, 'Oklahoma': 43, 'University': 43, 'Kansas': 39, 'Iowa': 33, 'Federal': 29, 'Same': 28, 'Houston': 28, 'Seattle': 23, 'Austin': 22, 'Atlanta': 21, 'San Diego': 20, 'Philadelphia': 20, 'Bay': 19, 'Man': 18, 'Along': 17, 'Much': 17, 'Denver': 16, 'Montana': 16, 'Miami': 15, 'Dallas': 14, 'Toronto': 14, 'Las Vegas': 13, 'Delaware': 13, 'Portland': 13, 'Boston': 13, 'Bar': 12, 'Brooklyn': 12, 'Baltimore': 12, 'Phoenix': 11, 'Union': 11, 'San Francisco': 11, 'Buy': 11, 'London': 10, 'Male': 9, 'Columbus': 9, 'York': 9, 'Honda': 9, 'Minneapolis': 9, 'Mobile': 9, 'Victoria': 9, 'Wyoming': 8, 'Pittsburgh': 8, 'Indianapolis': 8, 'Spring': 8, 'Reading': 8, 'Toyota': 8, 'Manhattan': 7, 'Kansas City': 7, 'Oakland': 7, 'Cincinnati': 7, 'New Orleans': 7, 'Date': 7, 'Batman': 7, 'Tucson': 7, 'Johnson': 6, 'Nashville': 6, 'Deal': 6, 'Charlotte': 6, 'Hollywood': 6, 'Nice': 6, 'San Antonio': 6, 'Orlando': 6, 'Raleigh': 5, 'Omaha': 5, 'Colorado Springs': 5, 'Vancouver': 5, 'Charleston': 5, 'Wedding': 5, 'Tampa': 5, 'San Jose': 5, 'Cali': 5, 'Carolina': 5, 'Salt Lake': 5, 'Sale': 5, 'Melbourne': 4, 'Columbia': 4, 'Fort Worth': 4, 'Young': 4, 'Cleveland': 4, 'Normal': 4, 'Orange': 4, 'George': 4, 'Rome': 4, 'Surprise': 4, 'Santa Clara': 4, 'Detroit': 4, 'Bo': 4, 'Richmond': 3, 'Buffalo': 3, 'Goes': 3, 'Bellingham': 3, 'Jacksonville': 3, 'Anchorage': 3, 'Vic': 3, 'Oklahoma City': 3, 'Milwaukee': 3, 'Allentown': 3, 'Toledo': 3, 'Mon': 3, 'Ottawa': 3, 'Gay': 3, 'Gilbert': 3, 'Albuquerque': 3, 'Mercedes': 3, 'Virginia Beach': 3, 'Birmingham': 3, 'Born': 3, 'Wichita': 3, 'Charlottesville': 3, 'Delta': 3, 'Madison': 3, 'Long Island': 3, 'Rochester': 3, 'Foster': 3, 'Bear': 2, 'Saint Paul': 2, 'Athens': 2, 'Obama': 2, 'Westchester': 2, 'Ventura': 2, 'Berkeley': 2, 'Springfield': 2, 'Boise': 2, 'Tyler': 2, 'Liberty': 2, 'Ho': 2, 'Tacoma': 2, 'Nancy': 2, 'Montgomery': 2, 'Kyle': 2, 'Kent': 2, 'Albany': 2, 'Hoboken': 2, 'Aurora': 2, 'Chihuahua': 2, 'Shelby': 2, 'Mountain View': 2, 'Santa Monica': 2, 'Montclair': 2, 'Manchester': 2, 'Calgary': 2, 'Alexandria': 2, 'Murphy': 2, 'Santa Cruz': 2, 'Central': 2, 'Parole': 2, 'Florence': 2, 'New Haven': 2, 'New Brunswick': 2, 'Lansing': 2, 'Fairbanks': 2, 'Sacramento': 2, 'Boulder': 2, 'Anthem': 2, 'Bakersfield': 2, 'Grand Rapids': 2, 'Tallahassee': 2, 'Louisville': 2, 'Sarasota': 2, 'Oral': 2, 'Brussels': 2, 'Anaheim': 2, 'Stafford': 2, 'Regina': 2, 'Québec': 2, 'Beijing': 2, 'Ann Arbor': 2, 'Memphis': 2, 'Paris': 2, 'Holiday': 2, 'San Luis': 2, 'Anderson': 2, 'Waco': 2, 'Grapevine': 1, 'Mustang': 1, 'Middletown': 1, 'Garfield': 1, 'Ada': 1, 'Tucker': 1, 'Gap': 1, 'Rock Hill': 1, 'Tempe': 1, 'Copenhagen': 1, 'Yuma': 1, 'Milton': 1, 'Silver Spring': 1, 'Des Moines': 1, 'Holland': 1, 'Cerritos': 1, 'Madrid': 1, 'Burbank': 1, 'Montréal': 1, 'Gardena': 1, 'Latina': 1, 'Kalamazoo': 1, 'Ramsey': 1, 'Willoughby': 1, 'Attleboro': 1, 'El Monte': 1, 'Wil': 1, 'Scottsbluff': 1, 'Nelson': 1, 'Lafayette': 1, 'Mississauga': 1, 'Fort Bragg': 1, 'Palo Alto': 1, 'Trenton': 1, 'Appleton': 1, 'Atlantis': 1, 'Hopkins': 1, 'La Jolla': 1, 'Beverly Hills': 1, 'Cordova': 1, 'Wildwood': 1, 'Beaverton': 1, 'Spartanburg': 1, 'Napa': 1, 'Brad': 1, 'Bath': 1, 'Mentor': 1, 'Fairfax': 1, 'Norfolk': 1, 'Sugar Land': 1, 'Pickerington': 1, 'Roanoke': 1, 'Teaneck': 1, 'Hyde': 1, 'Bozeman': 1, 'Banning': 1, 'Coachella': 1, 'Oceanside': 1, 'Donna': 1, 'Nutley': 1, 'Lancaster': 1, 'Durham': 1, 'Moncton': 1, 'Bury': 1, 'Aloha': 1, 'Yellowknife': 1, 'Santander': 1, 'Perm': 1, 'Boom': 1, 'FLorida': 1, 'Paducah': 1, 'Tara': 1, 'Sayreville': 1, 'Bowie': 1, 'Cambridge': 1, 'Saint Charles': 1, 'Longmont': 1, 'Jackson': 1, 'Amsterdam': 1, 'Moe': 1, 'Palo': 1, 'Providence': 1, 'Roman': 1, 'Somerville': 1, 'Scottsdale': 1, 'Belfast': 1, 'Beaver dam': 1, 'Lubbock': 1, 'Murfreesboro': 1, 'Mumbai': 1, 'Santiago de Querétaro': 1, 'Norco': 1, 'Johannesburg': 1, 'Columbine': 1, 'Centurion': 1, 'Easton': 1, 'San Clemente': 1, 'Harrisburg': 1, 'Marshall': 1, 'Moore': 1, 'Chester': 1, 'Pompano Beach': 1, 'Berlin': 1, 'Woodstock': 1, 'Wilmington': 1, 'Linda': 1, 'Sheboygan': 1, 'Towson': 1, 'Budapest': 1, 'Worcester': 1, 'Country Club': 1, 'Hartford': 1, 'Asia': 1, 'Orem': 1, 'Dubai': 1, 'Fort Collins': 1, 'College Station': 1, 'Carmel': 1, 'Fort Thomas': 1, 'Palm Springs': 1, 'Hyattsville': 1, 'Geneva': 1, 'Sydney': 1, 'Pembroke Pines': 1, 'Newcastle': 1, 'Goole': 1, 'Burlington': 1, 'Layton': 1, 'Naperville': 1, 'Glendale': 1, 'Gainesville': 1, 'Clinton': 1, 'Lynnwood': 1, 'Jersey City': 1, 'Irvine': 1, 'Carmichael': 1, 'Arlington': 1, 'Monroe': 1, 'Poughkeepsie': 1, 'Walnut': 1, 'Lawrence': 1, 'Perth': 1, 'Enterprise': 1, 'Fresno': 1, 'Slidell': 1, 'Piqua': 1, 'Santa Barbara': 1, 'Brampton': 1, 'Mason': 1, 'Surrey': 1, 'Fall River': 1, 'Iowa City': 1, 'Norwalk': 1, 'Hebron': 1, 'Fremont': 1, 'Slough': 1, 'Bellevue': 1, 'Palm Desert': 1, 'Nikki': 1, 'Superior': 1, 'Calabasas': 1, 'Tuscaloosa': 1, 'Manila': 1, 'Waterbury': 1, 'Paradise': 1, 'Bell': 1, 'Auburn': 1, 'Henderson': 1, 'Marina': 1, 'Coquitlam': 1, 'Hillsboro': 1, 'Newton': 1, 'Brent': 1, 'Hatfield': 1, 'Pottstown': 1, 'Norfolk County': 1, 'Griffin': 1, 'DeLand': 1, 'Medellín': 1, 'Castle Rock': 1, 'Gary': 1, 'Glasgow': 1, 'Wa': 1, 'Sunnyvale': 1, 'Ocala': 1, 'Hoffman Estates': 1, 'Marks': 1, 'Sparks': 1, 'Asheville': 1, 'Jefferson': 1, 'Compton': 1, 'Torrent': 1, 'Honolulu': 1, 'Huntsville': 1, 'Cooper': 1, 'Canberra': 1, 'Split': 1, 'Edmonton': 1, 'Olive Branch': 1, 'Boca Raton': 1, 'Monsanto': 1, 'Allen': 1, 'Cartersville': 1, 'Kawasaki': 1, 'Shirley': 1, 'Yukon': 1, 'Lahore': 1, 'Provo': 1, 'Baghdad': 1, 'Newark': 1, 'Carbondale': 1, 'Carson': 1, 'Redlands': 1, 'Bentonville': 1, 'David': 1, 'Mansfield': 1, 'Palmdale': 1, 'The Hague': 1, 'Springs': 1, 'Claremont': 1, 'Junction City': 1, 'Marysville': 1, 'Van Buren': 1, 'Pen': 1, 'Munich': 1, 'VIrginia': 1, 'Petersburg': 1, 'San Lorenzo': 1, 'Pensacola': 1, 'Key West': 1, 'Brookline': 1, 'Hillside': 1, 'Azusa': 1})\n"
          ]
        }
      ]
    },
    {
      "cell_type": "code",
      "source": [
        "!pip install gpd"
      ],
      "metadata": {
        "colab": {
          "base_uri": "https://localhost:8080/"
        },
        "id": "WEKHz3Zg02ou",
        "outputId": "14bb4e0f-12b4-423a-f7dc-210026c82337"
      },
      "execution_count": null,
      "outputs": [
        {
          "output_type": "stream",
          "name": "stdout",
          "text": [
            "Collecting gpd\n",
            "  Downloading gpd-1.1.1-py3-none-any.whl.metadata (6.0 kB)\n",
            "Collecting bs4<0.0.2,>=0.0.1 (from gpd)\n",
            "  Downloading bs4-0.0.1.tar.gz (1.1 kB)\n",
            "  Preparing metadata (setup.py) ... \u001b[?25l\u001b[?25hdone\n",
            "Collecting diskcache<6.0.0,>=5.4.0 (from gpd)\n",
            "  Downloading diskcache-5.6.3-py3-none-any.whl.metadata (20 kB)\n",
            "Collecting loguru<0.7.0,>=0.6.0 (from gpd)\n",
            "  Downloading loguru-0.6.0-py3-none-any.whl.metadata (21 kB)\n",
            "Collecting pydantic<2.0.0,>=1.9.1 (from gpd)\n",
            "  Downloading pydantic-1.10.21-cp311-cp311-manylinux_2_17_x86_64.manylinux2014_x86_64.whl.metadata (153 kB)\n",
            "\u001b[2K     \u001b[90m━━━━━━━━━━━━━━━━━━━━━━━━━━━━━━━━━━━━━━━━\u001b[0m \u001b[32m153.9/153.9 kB\u001b[0m \u001b[31m12.8 MB/s\u001b[0m eta \u001b[36m0:00:00\u001b[0m\n",
            "\u001b[?25hRequirement already satisfied: requests<3.0.0,>=2.27.1 in /usr/local/lib/python3.11/dist-packages (from gpd) (2.32.3)\n",
            "Collecting tabulate<0.9.0,>=0.8.9 (from gpd)\n",
            "  Downloading tabulate-0.8.10-py3-none-any.whl.metadata (25 kB)\n",
            "Requirement already satisfied: tqdm<5.0.0,>=4.64.0 in /usr/local/lib/python3.11/dist-packages (from gpd) (4.67.1)\n",
            "Requirement already satisfied: beautifulsoup4 in /usr/local/lib/python3.11/dist-packages (from bs4<0.0.2,>=0.0.1->gpd) (4.13.3)\n",
            "Requirement already satisfied: typing-extensions>=4.2.0 in /usr/local/lib/python3.11/dist-packages (from pydantic<2.0.0,>=1.9.1->gpd) (4.13.0)\n",
            "Requirement already satisfied: charset-normalizer<4,>=2 in /usr/local/lib/python3.11/dist-packages (from requests<3.0.0,>=2.27.1->gpd) (3.4.1)\n",
            "Requirement already satisfied: idna<4,>=2.5 in /usr/local/lib/python3.11/dist-packages (from requests<3.0.0,>=2.27.1->gpd) (3.10)\n",
            "Requirement already satisfied: urllib3<3,>=1.21.1 in /usr/local/lib/python3.11/dist-packages (from requests<3.0.0,>=2.27.1->gpd) (2.3.0)\n",
            "Requirement already satisfied: certifi>=2017.4.17 in /usr/local/lib/python3.11/dist-packages (from requests<3.0.0,>=2.27.1->gpd) (2025.1.31)\n",
            "Requirement already satisfied: soupsieve>1.2 in /usr/local/lib/python3.11/dist-packages (from beautifulsoup4->bs4<0.0.2,>=0.0.1->gpd) (2.6)\n",
            "Downloading gpd-1.1.1-py3-none-any.whl (10 kB)\n",
            "Downloading diskcache-5.6.3-py3-none-any.whl (45 kB)\n",
            "\u001b[2K   \u001b[90m━━━━━━━━━━━━━━━━━━━━━━━━━━━━━━━━━━━━━━━━\u001b[0m \u001b[32m45.5/45.5 kB\u001b[0m \u001b[31m3.5 MB/s\u001b[0m eta \u001b[36m0:00:00\u001b[0m\n",
            "\u001b[?25hDownloading loguru-0.6.0-py3-none-any.whl (58 kB)\n",
            "\u001b[2K   \u001b[90m━━━━━━━━━━━━━━━━━━━━━━━━━━━━━━━━━━━━━━━━\u001b[0m \u001b[32m58.3/58.3 kB\u001b[0m \u001b[31m5.1 MB/s\u001b[0m eta \u001b[36m0:00:00\u001b[0m\n",
            "\u001b[?25hDownloading pydantic-1.10.21-cp311-cp311-manylinux_2_17_x86_64.manylinux2014_x86_64.whl (3.1 MB)\n",
            "\u001b[2K   \u001b[90m━━━━━━━━━━━━━━━━━━━━━━━━━━━━━━━━━━━━━━━━\u001b[0m \u001b[32m3.1/3.1 MB\u001b[0m \u001b[31m64.4 MB/s\u001b[0m eta \u001b[36m0:00:00\u001b[0m\n",
            "\u001b[?25hDownloading tabulate-0.8.10-py3-none-any.whl (29 kB)\n",
            "Building wheels for collected packages: bs4\n",
            "  Building wheel for bs4 (setup.py) ... \u001b[?25l\u001b[?25hdone\n",
            "  Created wheel for bs4: filename=bs4-0.0.1-py3-none-any.whl size=1256 sha256=8ca9dd2708af78b2e06545297d04392a3583d02122557dc4a390370138b73b39\n",
            "  Stored in directory: /root/.cache/pip/wheels/d4/c8/5b/b5be9c20e5e4503d04a6eac8a3cd5c2393505c29f02bea0960\n",
            "Successfully built bs4\n",
            "Installing collected packages: tabulate, pydantic, loguru, diskcache, bs4, gpd\n",
            "  Attempting uninstall: tabulate\n",
            "    Found existing installation: tabulate 0.9.0\n",
            "    Uninstalling tabulate-0.9.0:\n",
            "      Successfully uninstalled tabulate-0.9.0\n",
            "  Attempting uninstall: pydantic\n",
            "    Found existing installation: pydantic 2.10.6\n",
            "    Uninstalling pydantic-2.10.6:\n",
            "      Successfully uninstalled pydantic-2.10.6\n",
            "\u001b[31mERROR: pip's dependency resolver does not currently take into account all the packages that are installed. This behaviour is the source of the following dependency conflicts.\n",
            "langchain 0.3.21 requires pydantic<3.0.0,>=2.7.4, but you have pydantic 1.10.21 which is incompatible.\n",
            "bigframes 1.41.0 requires tabulate>=0.9, but you have tabulate 0.8.10 which is incompatible.\n",
            "google-genai 1.7.0 requires pydantic<3.0.0,>=2.0.0, but you have pydantic 1.10.21 which is incompatible.\n",
            "wandb 0.19.8 requires pydantic<3,>=2.6, but you have pydantic 1.10.21 which is incompatible.\n",
            "langchain-core 0.3.47 requires pydantic<3.0.0,>=2.5.2; python_full_version < \"3.12.4\", but you have pydantic 1.10.21 which is incompatible.\n",
            "albumentations 2.0.5 requires pydantic>=2.9.2, but you have pydantic 1.10.21 which is incompatible.\u001b[0m\u001b[31m\n",
            "\u001b[0mSuccessfully installed bs4-0.0.1 diskcache-5.6.3 gpd-1.1.1 loguru-0.6.0 pydantic-1.10.21 tabulate-0.8.10\n"
          ]
        }
      ]
    },
    {
      "cell_type": "code",
      "source": [
        "def plot_location_bar_chart(dataset):\n",
        "    location_counts = count_location_instances(dataset)\n",
        "    filtered_location_counts = {location: count for location, count in location_counts.items() if count > 25 and location not in ['March', 'Man', 'Male', 'Most', 'Of', 'Best', 'Bar', 'Same', 'Along', 'Peace', 'Federal', 'Police']}\n",
        "\n",
        "    if not filtered_location_counts:\n",
        "        print(\"No location appears more than once.\")\n",
        "        return\n",
        "\n",
        "    # Sort by count in descending order\n",
        "    sorted_location_counts = dict(sorted(filtered_location_counts.items(), key=lambda item: item[1], reverse=True))\n",
        "\n",
        "    locations, counts = zip(*sorted_location_counts.items())\n",
        "\n",
        "    plt.figure(figsize=(10, 5))\n",
        "    plt.barh(locations, counts, color='skyblue')\n",
        "    plt.xlabel(\"Frequency\")\n",
        "    plt.ylabel(\"Locations\")\n",
        "    plt.title(\"Most Common Locations in Dataset (Appearing More Than Once)\")\n",
        "    plt.gca().invert_yaxis()\n",
        "    plt.show()\n",
        "\n",
        "# Example usage:\n",
        "plot_location_bar_chart(dataset)\n"
      ],
      "metadata": {
        "colab": {
          "base_uri": "https://localhost:8080/",
          "height": 487
        },
        "id": "d81kNn0u0sOm",
        "outputId": "f081da73-b9ca-4b36-b84c-99ebb84fb045"
      },
      "execution_count": null,
      "outputs": [
        {
          "output_type": "display_data",
          "data": {
            "text/plain": [
              "<Figure size 1000x500 with 1 Axes>"
            ],
            "image/png": "[encoded data removed]"
          },
          "metadata": {}
        }
      ]
    },
    {
      "cell_type": "code",
      "source": [
        "import re\n",
        "from collections import Counter\n",
        "from geotext import GeoText\n",
        "from wordcloud import WordCloud\n",
        "import matplotlib.pyplot as plt\n",
        "from nltk.corpus import stopwords\n",
        "from nltk import pos_tag, word_tokenize\n",
        "import nltk\n",
        "\n",
        "nltk.download('stopwords')\n",
        "nltk.download('averaged_perceptron_tagger_eng')\n",
        "nltk.download('punkt')\n",
        "nltk.download('punkt_tab')\n",
        "\n",
        "def extract_text_before_answer(text):\n",
        "    return text.split('Answer')[0].strip() if 'Answer' in text else text\n",
        "\n",
        "def extract_location_geotext(text):\n",
        "    places = GeoText(text)\n",
        "    return places.cities[0] if places.cities else None  # Keep only the first location found\n",
        "\n",
        "def extract_location_info(dataset):\n",
        "    locations = []\n",
        "\n",
        "    for entry in dataset:\n",
        "        text = extract_text_before_answer(entry.get('text', ''))  # Extract text before 'Answer'\n",
        "        match = extract_location_geotext(text)\n",
        "\n",
        "        if match:\n",
        "            locations.append(match)\n",
        "\n",
        "    return locations\n",
        "\n",
        "def count_location_instances(dataset):\n",
        "    locations = extract_location_info(dataset)\n",
        "    return Counter(locations)\n",
        "\n",
        "def extract_focus_word(text):\n",
        "    stop_words = set(stopwords.words('english')) | {'question', 'date', 'title', 'day', 'year', 'month', 'time', 'week', 'years', 'days', 'thing', 'anything', 'months', 'people', 'someone', 'help', 'lawyer', 'law', 'something', 'state', 'nothing', 'get'}\n",
        "    words = word_tokenize(extract_text_before_answer(text).lower())\n",
        "    words = [word for word in words if word.isalpha() and word not in stop_words]  # Remove non-alphabetic words and stopwords\n",
        "    nouns = [word for word, pos in pos_tag(words) if pos in ['NN', 'NNS']]  # Keep only nouns\n",
        "    word_counts = Counter(nouns)\n",
        "    return word_counts.most_common(1)[0][0] if word_counts else None\n",
        "\n",
        "def get_focus_per_sample(dataset):\n",
        "    return [extract_focus_word(entry.get('text', '')) for entry in dataset]\n",
        "\n",
        "def plot_wordcloud(dataset):\n",
        "    all_text = ' '.join(extract_text_before_answer(entry.get('text', '')) for entry in dataset)\n",
        "    stop_words = set(stopwords.words('english')) | {'question', 'date', 'title', 'day', 'year', 'month', 'time', 'week', 'years', 'days', 'thing', 'anything', 'months', 'people', 'someone', 'help', 'lawyer', 'law', 'something', 'state', 'nothing', 'get'}\n",
        "    words = word_tokenize(all_text.lower())\n",
        "    words = [word for word in words if word.isalpha() and word not in stop_words]  # Remove non-alphabetic words and stopwords\n",
        "    nouns = [word for word, pos in pos_tag(words) if pos in ['NN', 'NNS']]  # Keep only nouns\n",
        "    wordcloud = WordCloud(stopwords=stop_words, background_color='white').generate(' '.join(nouns))\n",
        "\n",
        "    plt.figure(figsize=(10, 5))\n",
        "    plt.imshow(wordcloud, interpolation='bilinear')\n",
        "    plt.axis(\"off\")\n",
        "    plt.show()\n",
        "\n",
        "# Example usage\n",
        "datas = [\n",
        "    {'text': 'This legal case involves contract disputes and obligations under federal law. Answer: The ruling was based on prior cases.'},\n",
        "    {'text': 'Intellectual property rights are the main concern in this lawsuit. Answer: The defendant won the case.'},\n",
        "    {'text': 'The focus is on criminal law and prosecution procedures. Answer: Sentencing was determined by precedent.'},\n",
        "    {'text': 'Employment law violations are discussed in this case. Answer: The court ruled in favor of the plaintiff.'},\n",
        "    {'text': 'A dispute over property law and ownership rights is at stake. Answer: The judge dismissed the claim.'}\n",
        "]\n",
        "\n",
        "focus_words = get_focus_per_sample(dataset)\n",
        "print(focus_words)  # Outputs the main focus word per sample\n",
        "\n",
        "plot_wordcloud(dataset)\n"
      ],
      "metadata": {
        "colab": {
          "base_uri": "https://localhost:8080/",
          "height": 643
        },
        "id": "4CWWdVElyFZg",
        "outputId": "e52f3695-c2aa-4e89-dc7f-c6f15c1aaa73"
      },
      "execution_count": null,
      "outputs": [
        {
          "output_type": "stream",
          "name": "stderr",
          "text": [
            "[nltk_data] Downloading package stopwords to /root/nltk_data...\n",
            "[nltk_data]   Package stopwords is already up-to-date!\n",
            "[nltk_data] Downloading package averaged_perceptron_tagger_eng to\n",
            "[nltk_data]     /root/nltk_data...\n",
            "[nltk_data]   Package averaged_perceptron_tagger_eng is already up-to-\n",
            "[nltk_data]       date!\n",
            "[nltk_data] Downloading package punkt to /root/nltk_data...\n",
            "[nltk_data]   Package punkt is already up-to-date!\n",
            "[nltk_data] Downloading package punkt_tab to /root/nltk_data...\n",
            "[nltk_data]   Package punkt_tab is already up-to-date!\n"
          ]
        },
        {
          "output_type": "stream",
          "name": "stdout",
          "text": [
            "['landlord', 'car', 'lot', 'dog', 'hair', 'child', 'paycheck', 'airport', 'edit', 'gt', 'coworker', 'case', 'opinions', 'classes', 'friend', 'girlfriend', 'mom', 'friend', 'property', 'night', 'dog', 'release', 'cousin', 'car', 'books', 'lights', 'job', 'rx', 'relationship', 'summons', 'partnership', 'cemetery', 'wife', 'registration', 'court', 'suspension', 'record', 'shepherd', 'college', 'building', 'pets', 'store', 'poster', 'property', 'dj', 'talk', 'letter', 'job', 'death', 'contract', 'electricity', 'case', 'report', 'caught', 'police', 'price', 'details', 'room', 'stuff', 'glasses', 'maternity', 'check', 'receptionists', 'car', 'name', 'posts', 'house', 'company', 'insurance', 'company', 'car', 'school', 'cps', 'visits', 'car', 'phone', 'sign', 'driver', 'vaccines', 'cps', 'insurance', 'rehearsal', 'messages', 'rent', 'hours', 'pension', 'life', 'unemployment', 'school', 'clock', 'extension', 'lease', 'company', 'volunteer', 'husband', 'stepdad', 'cops', 'guidance', 'phone', 'swim', 'mike', 'mother', 'plan', 'lease', 'fl', 'manager', 'cash', 'dog', 'apartment', 'house', 'money', 'media', 'neighbor', 'car', 'mom', 'phone', 'account', 'places', 'road', 'mother', 'item', 'car', 'kill', 'school', 'dog', 'order', 'mn', 'ticket', 'money', 'search', 'hr', 'beers', 'convention', 'copyright', 'car', 'photos', 'apartment', 'hall', 'goods', 'states', 'money', 'house', 'california', 'son', 'wife', 'ticket', 'sign', 'body', 'proxy', 'store', 'delivery', 'girlfriend', 'dog', 'ice', 'home', 'contract', 'bitcoins', 'warhammer', 'crimes', 'men', 'size', 'information', 'hormones', 'structure', 'sit', 'friends', 'dna', 'harassment', 'company', 'husband', 'partner', 'foreclosure', 'phone', 'vehicle', 'information', 'case', 'fall', 'challenge', 'house', 'check', 'park', 'paycheck', 'amp', 'insurance', 'wife', 'school', 'chimp', 'job', 'tx', 'restaurant', 'trees', 'absences', 'officer', 'pay', 'school', 'wife', 'divorce', 'way', 'uncle', 'business', 'questioning', 'lounge', 'hour', 'guy', 'bird', 'name', 'bird', 'car', 'work', 'vote', 'pay', 'parents', 'dad', 'ticket', 'lease', 'attorney', 'property', 'home', 'room', 'handrail', 'wife', 'attorney', 'merchant', 'burglary', 'please', 'release', 'onstar', 'money', 'probation', 'battery', 'parking', 'college', 'students', 'person', 'domain', 'proof', 'possession', 'manager', 'kids', 'employer', 'friend', 'membership', 'cones', 'baby', 'california', 'move', 'case', 'son', 'company', 'chargers', 'mom', 'accounts', 'coverage', 'roommate', 'superhero', 'delivery', 'phone', 'money', 'restraining', 'house', 'home', 'landlord', 'claims', 'team', 'friend', 'tires', 'money', 'home', 'officer', 'daycare', 'messages', 'techniques', 'cops', 'car', 'divorce', 'call', 'school', 'class', 'brother', 'tickets', 'windshield', 'spy', 'letter', 'log', 'trash', 'cult', 'parent', 'drunk', 'money', 'name', 'camera', 'car', 'bank', 'man', 'employee', 'attorneys', 'convention', 'lungs', 'school', 'house', 'room', 'contract', 'house', 'cop', 'ticket', 'mother', 'attorney', 'property', 'officer', 'school', 'security', 'isp', 'jail', 'weeks', 'room', 'online', 'husband', 'number', 'cat', 'grounds', 'water', 'car', 'movie', 'landlord', 'car', 'support', 'charges', 'dcfs', 'hood', 'living', 'company', 'company', 'address', 'problems', 'person', 'database', 'insurance', 'government', 'dentist', 'topic', 'child', 'parents', 'los', 'ticket', 'girlfriend', 'dog', 'car', 'blender', 'front', 'friend', 'rent', 'job', 'money', 'girl', 'police', 'house', 'casino', 'money', 'landlord', 'rape', 'name', 'hoa', 'flood', 'businesses', 'lights', 'conversation', 'business', 'custody', 'countertop', 'somebody', 'carpentry', 'fumes', 'gas', 'policy', 'mi', 'lane', 'home', 'release', 'facebook', 'number', 'acd', 'member', 'country', 'cat', 'road', 'opinion', 'credit', 'passenger', 'ad', 'scrapes', 'officer', 'roommate', 'sovereign', 'software', 'car', 'gun', 'girlfriend', 'staff', 'phone', 'records', 'phone', 'contract', 'unit', 'mailbox', 'fiverr', 'government', 'loans', 'license', 'school', 'car', 'school', 'name', 'drivers', 'company', 'company', 'alimony', 'race', 'april', 'value', 'dui', 'family', 'store', 'scene', 'charge', 'housemate', 'prosecution', 'argument', 'ants', 'harassment', 'hip', 'police', 'mom', 'got', 'car', 'job', 'coworker', 'line', 'friend', 'amp', 'windows', 'house', 'lady', 'phone', 'uncle', 'water', 'friend', 'image', 'parents', 'hours', 'room', 'fiance', 'use', 'check', 'daughter', 'shop', 'price', 'peacocks', 'job', 'business', 'share', 'way', 'insurance', 'custody', 'rent', 'support', 'bills', 'today', 'rent', 'shoot', 'mi', 'house', 'california', 'abortion', 'room', 'work', 'daughter', 'union', 'house', 'software', 'wife', 'mirabelle', 'lease', 'child', 'deposit', 'life', 'apartment', 'police', 'sister', 'wife', 'psychiatrist', 'rabbits', 'job', 'dog', 'ticket', 'marriage', 'position', 'house', 'warrant', 'states', 'work', 'person', 'drive', 'mom', 'wife', 'rights', 'adoption', 'roommate', 'debt', 'pa', 'house', 'attorney', 'work', 'school', 'campaign', 'account', 'newspapers', 'tickets', 'water', 'board', 'prescription', 'canada', 'lease', 'wife', 'lawn', 'cat', 'cops', 'daughter', 'letter', 'son', 'cross', 'hoa', 'college', 'lap', 'apple', 'work', 'case', 'city', 'landlord', 'wife', 'war', 'opinions', 'account', 'position', 'son', 'sale', 'daisy', 'restitution', 'agreement', 'students', 'hounds', 'divorce', 'daughter', 'house', 'car', 'right', 'sister', 'dies', 'heat', 'ticket', 'hr', 'pool', 'drug', 'gf', 'car', 'apartment', 'surgery', 'friend', 'customer', 'amazon', 'coworkers', 'landlord', 'packages', 'coverage', 'nations', 'trouble', 'car', 'warrant', 'friend', 'possession', 'lastname', 'john', 'quit', 'weeks', 'brother', 'sister', 'broker', 'office', 'wife', 'cause', 'son', 'maryland', 'camera', 'car', 'father', 'check', 'point', 'hope', 'cps', 'tire', 'daughter', 'friend', 'property', 'interlock', 'home', 'woman', 'house', 'ex', 'check', 'somebody', 'department', 'mail', 'court', 'order', 'compost', 'murder', 'car', 'mosquitoes', 'dad', 'pay', 'oop', 'way', 'house', 'apartment', 'order', 'helmet', 'bathroom', 'police', 'employee', 'jury', 'dui', 'random', 'weekend', 'trust', 'car', 'jail', 'flu', 'misunderstanding', 'alarm', 'husband', 'loan', 'picture', 'homeownership', 'trade', 'colombia', 'death', 'company', 'drug', 'friend', 'want', 'custody', 'membership', 'cop', 'payment', 'mom', 'tax', 'ticket', 'stand', 'drugs', 'court', 'tv', 'work', 'police', 'lease', 'cousin', 'insurance', 'car', 'mom', 'nature', 'attorney', 'file', 'ask', 'car', 'rent', 'case', 'football', 'california', 'company', 'sues', 'sister', 'school', 'texas', 'litter', 'ways', 'vehicle', 'april', 'loans', 'women', 'event', 'ia', 'judge', 'baby', 'office', 'hotel', 'tax', 'apartment', 'pay', 'call', 'apartment', 'system', 'service', 'rear', 'neighbor', 'estate', 'cases', 'school', 'home', 'boss', 'weeks', 'door', 'house', 'paramedics', 'motion', 'apartment', 'edibles', 'sue', 'property', 'heat', 'case', 'neighbors', 'amazon', 'school', 'lighter', 'classes', 'cheque', 'car', 'car', 'pregnancy', 'car', 'boss', 'stove', 'ipad', 'car', 'officer', 'realtor', 'agreement', 'wife', 'paycheck', 'texas', 'tuition', 'girl', 'inheritance', 'father', 'quitclaim', 'sex', 'permits', 'girl', 'dog', 'home', 'email', 'firearm', 'questions', 'employees', 'apartment', 'police', 'shop', 'carry', 'person', 'ways', 'care', 'lease', 'home', 'jacket', 'need', 'track', 'parents', 'child', 'homeless', 'car', 'neighbor', 'door', 'translator', 'course', 'court', 'construction', 'car', 'states', 'insurance', 'court', 'pool', 'bank', 'home', 'hospital', 'juvenile', 'selfies', 'case', 'license', 'agreement', 'house', 'face', 'fault', 'chimney', 'house', 'customs', 'accident', 'train', 'amp', 'pool', 'board', 'sex', 'owner', 'kick', 'work', 'bills', 'car', 'house', 'market', 'mattress', 'house', 'home', 'friend', 'pass', 'lease', 'money', 'paternity', 'dad', 'abortion', 'lot', 'gas', 'car', 'things', 'visits', 'mom', 'alimony', 'hr', 'attorneys', 'amp', 'photos', 'pa', 'compensation', 'rape', 'camera', 'kim', 'support', 'landlord', 'notes', 'checks', 'man', 'girlfriend', 'jack', 'cat', 'amendment', 'parents', 'sex', 'university', 'cat', 'press', 'house', 'purchases', 'australia', 'work', 'tx', 'car', 'security', 'investigation', 'hand', 'food', 'guys', 'wife', 'ticket', 'jane', 'wife', 'boss', 'car', 'religions', 'kids', 'evict', 'associates', 'employee', 'camera', 'mortgage', 'sister', 'cat', 'repercussions', 'cancer', 'document', 'claims', 'debt', 'home', 'company', 'calls', 'parents', 'room', 'account', 'hoa', 'amp', 'contract', 'insurance', 'rent', 'apartment', 'mom', 'letter', 'support', 'car', 'rent', 'jane', 'car', 'crypto', 'gf', 'election', 'employees', 'support', 'restitution', 'weeks', 'company', 'custody', 'shareholders', 'parents', 'equity', 'town', 'line', 'person', 'beer', 'landfill', 'media', 'bill', 'church', 'job', 'doctor', 'attorney', 'company', 'seller', 'mom', 'election', 'dissolution', 'tint', 'school', 'number', 'school', 'son', 'price', 'director', 'guy', 'market', 'lease', 'report', 'security', 'kids', 'house', 'car', 'report', 'way', 'loan', 'custody', 'school', 'girlfriends', 'questions', 'call', 'refrigerator', 'insurance', 'exchange', 'anxiety', 'employer', 'lab', 'car', 'texas', 'machine', 'tasks', 'work', 'insurance', 'friend', 'sheets', 'guy', 'house', 'house', 'phone', 'amp', 'sex', 'information', 'dress', 'role', 'oil', 'officer', 'gift', 'dog', 'jury', 'tickets', 'advice', 'apartment', 'custody', 'lease', 'company', 'attorney', 'teacher', 'warrant', 'sis', 'house', 'employer', 'bathroom', 'today', 'family', 'rent', 'pa', 'hire', 'house', 'game', 'cart', 'oil', 'class', 'rent', 'shuttle', 'woman', 'copper', 'mail', 'posts', 'car', 'california', 'car', 'massage', 'car', 'officer', 'brother', 'man', 'google', 'cps', 'license', 'interest', 'job', 'idea', 'agreement', 'insurance', 'school', 'house', 'car', 'kids', 'tax', 'signature', 'roommate', 'j', 'post', 'happens', 'police', 'gas', 'room', 'issue', 'jack', 'chemist', 'pleas', 'termination', 'proof', 'dancer', 'school', 'wife', 'vulgar', 'dog', 'charge', 'shares', 'mail', 'quit', 'rate', 'house', 'accommodation', 'child', 'ex', 'restrictions', 'kids', 'gift', 'massachusetts', 'ks', 'home', 'song', 'signature', 'school', 'thanks', 'permission', 'camp', 'university', 'debt', 'university', 'insurance', 'rent', 'students', 'police', 'cleveland', 'stepdaughters', 'school', 'parents', 'work', 'ex', 'drugs', 'abortion', 'association', 'apartment', 'parents', 'money', 'rape', 'account', 'board', 'contract', 'gym', 'dad', 'case', 'contract', 'parents', 'gun', 'house', 'college', 'die', 'men', 'drug', 'lot', 'machine', 'earbuds', 'strippers', 'home', 'information', 'office', 'tenants', 'station', 'room', 'property', 'support', 'mom', 'sign', 'divorce', 'parents', 'roommate', 'cam', 'surgery', 'spot', 'server', 'child', 'kept', 'ticket', 'lot', 'college', 'los', 'motivation', 'bank', 'accommodation', 'stuff', 'unemployment', 'order', 'work', 'songs', 'life', 'house', 'hours', 'california', 'check', 'number', 'move', 'apartment', 'family', 'coworker', 'car', 'passenger', 'welfare', 'claim', 'move', 'credit', 'use', 'mph', 'pay', 'site', 'wife', 'name', 'fl', 'cat', 'fight', 'apartment', 'code', 'rent', 'surgery', 'school', 'house', 'photo', 'debt', 'wife', 'accommodation', 'car', 'dog', 'loans', 'home', 'florida', 'pictures', 'custody', 'pto', 'police', 'child', 'story', 'doctor', 'forms', 'custody', 'friend', 'pension', 'business', 'claim', 'school', 'charges', 'school', 'tickets', 'marijuana', 'williams', 'loan', 'methadone', 'dog', 'parents', 'transgender', 'closing', 'airport', 'sue', 'friend', 'dui', 'school', 'ticket', 'representative', 'night', 'work', 'sublet', 'lease', 'account', 'rent', 'depression', 'sister', 'vehicle', 'stuff', 'va', 'office', 'way', 'school', 'murderer', 'property', 'children', 'family', 'quit', 'passport', 'mother', 'car', 'disability', 'wife', 'server', 'lawsuit', 'car', 'laws', 'affair', 'cop', 'landlord', 'lease', 'mother', 'cc', 'substance', 'company', 'breakdown', 'today', 'police', 'witness', 'tube', 'times', 'gf', 'pictures', 'jim', 'offer', 'ticket', 'landlord', 'apartment', 'apartment', 'court', 'parents', 'lights', 'company', 'customer', 'mom', 'friend', 'manager', 'mom', 'thanks', 'hotel', 'pictures', 'hours', 'certificate', 'police', 'hours', 'name', 'custody', 'accident', 'baby', 'coywolf', 'amp', 'language', 'sales', 'subreddit', 'tn', 'fire', 'hotel', 'roommate', 'store', 'trouble', 'shelf', 'email', 'apartment', 'age', 'boyfriend', 'neighbor', 'termination', 'school', 'jewelry', 'court', 'vehicle', 'blood', 'bus', 'friend', 'bill', 'relationship', 'curriculum', 'house', 'parents', 'landlord', 'cat', 'orientation', 'ticket', 'accounts', 'texas', 'work', 'residents', 'bathroom', 'way', 'account', 'aunt', 'craigslist', 'dog', 'company', 'son', 'name', 'court', 'school', 'cigarettes', 'park', 'apartment', 'customer', 'judge', 'children', 'bank', 'fence', 'police', 'man', 'ccrs', 'manager', 'home', 'po', 'sale', 'bullet', 'receipt', 'contract', 'pet', 'eviction', 'il', 'court', 'mugshots', 'kids', 'dogs', 'copyright', 'officials', 'court', 'man', 'apartment', 'family', 'take', 'parents', 'trees', 'students', 'alcohol', 'surgeon', 'neighbor', 'guy', 'car', 'information', 'shifts', 'room', 'work', 'school', 'sticker', 'exposure', 'police', 'school', 'person', 'kids', 'eviction', 'company', 'gratuity', 'please', 'income', 'friend', 'line', 'phone', 'unit', 'restaurant', 'husband', 'car', 'judge', 'thanks', 'rights', 'managers', 'paternity', 'income', 'game', 'probation', 'repairs', 'apple', 'husband', 'need', 'wife', 'hospital', 'house', 'submissions', 'adult', 'coworker', 'dog', 'death', 'supervisor', 'sister', 'daughter', 'sex', 'job', 'book', 'company', 'daughter', 'way', 'money', 'money', 'doctor', 'isp', 'order', 'company', 'doctor', 'insurance', 'ideas', 'constitution', 'group', 'attorney', 'car', 'teacher', 'house', 'landlord', 'company', 'engine', 'tax', 'contract', 'gas', 'sue', 'online', 'information', 'city', 'name', 'water', 'coworker', 'hours', 'bank', 'service', 'car', 'william', 'husband', 'insurance', 'name', 'issues', 'event', 'racist', 'night', 'steam', 'apartment', 'paper', 'employees', 'dog', 'police', 'work', 'producers', 'amp', 'reddit', 'intoxication', 'bar', 'booby', 'hours', 'speed', 'judge', 'consent', 'credit', 'place', 'charges', 'client', 'scholarship', 'submit', 'dad', 'county', 'theres', 'insurance', 'plot', 'anyone', 'florida', 'police', 'step', 'apartment', 'showings', 'lease', 'work', 'dogs', 'hours', 'mother', 'school', 'testimonies', 'car', 'lawyers', 'er', 'reddit', 'work', 'disability', 'teacher', 'contract', 'leases', 'neighbor', 'job', 'trust', 'property', 'fiancé', 'car', 'york', 'fence', 'packages', 'hours', 'money', 'paperwork', 'ticket', 'codes', 'picture', 'city', 'show', 'husband', 'car', 'money', 'support', 'weeks', 'attorney', 'home', 'group', 'property', 'franchise', 'company', 'baby', 'canada', 'pay', 'roommate', 'phone', 'support', 'poop', 'property', 'friends', 'wife', 'deposit', 'account', 'estate', 'school', 'tos', 'customer', 'friend', 'boss', 'owner', 'guy', 'list', 'customers', 'neighbor', 'ran', 'offender', 'tank', 'paypal', 'brother', 'home', 'bar', 'police', 'pay', 'apology', 'house', 'employee', 'landlord', 'unit', 'il', 'child', 'bar', 'worker', 'landlord', 'gpa', 'restaurant', 'car', 'cyst', 'trouble', 'answers', 'police', 'tickets', 'ambulance', 'advice', 'attorneys', 'property', 'manager', 'twice', 'speed', 'permit', 'wi', 'man', 'photo', 'review', 'clinicals', 'boyfriend', 'rent', 'amazon', 'defendant', 'work', 'kids', 'call', 'dui', 'plastic', 'point', 'testimony', 'bears', 'house', 'account', 'car', 'paycheck', 'charges', 'husband', 'court', 'bills', 'case', 'offender', 'video', 'wife', 'business', 'package', 'peanut', 'tenant', 'issues', 'account', 'property', 'police', 'hi', 'license', 'mail', 'dad', 'warrant', 'sister', 'america', 'shift', 'force', 'brittany', 'phone', 'va', 'stuff', 'apple', 'pay', 'man', 'age', 'guy', 'way', 'pay', 'parents', 'legality', 'service', 'person', 'attorney', 'family', 'canada', 'child', 'dad', 'truck', 'rights', 'call', 'plate', 'walks', 'surgery', 'amazon', 'everything', 'name', 'house', 'road', 'laws', 'apartment', 'coworkers', 'loan', 'divorce', 'pa', 'pa', 'pictures', 'counsellor', 'places', 'partner', 'manager', 'pay', 'car', 'cats', 'phone', 'baby', 'mom', 'lease', 'parents', 'income', 'payment', 'car', 'check', 'company', 'vehicle', 'apartment', 'asbestos', 'unit', 'manager', 'bet', 'service', 'account', 'train', 'accident', 'apartment', 'grandmother', 'report', 'way', 'roommate', 'company', 'trouble', 'tickets', 'facebook', 'prison', 'makeup', 'meg', 'name', 'parents', 'report', 'cat', 'company', 'strip', 'attorney', 'company', 'attorney', 'deer', 'man', 'computer', 'home', 'mother', 'girlfriends', 'money', 'app', 'costs', 'unit', 'half', 'fraud', 'belligerent', 'trouble', 'audio', 'trust', 'site', 'information', 'assault', 'items', 'application', 'street', 'prescription', 'cat', 'officer', 'mold', 'car', 'child', 'position', 'ontario', 'group', 'custody', 'school', 'form', 'limits', 'mom', 'movie', 'pets', 'number', 'kim', 'school', 'phone', 'summons', 'search', 'child', 'paternity', 'cousin', 'dude', 'chain', 'cars', 'fire', 'phone', 'things', 'lanes', 'site', 'residency', 'prison', 'wife', 'parents', 'pornography', 'floor', 'car', 'cousin', 'lane', 'admit', 'california', 'money', 'episode', 'roommate', 'mother', 'manufacturer', 'ticket', 'marriage', 'lease', 'officer', 'attorney', 'son', 'gold', 'child', 'report', 'wife', 'company', 'rise', 'pay', 'claim', 'agreement', 'landlord', 'job', 'ticket', 'phone', 'housing', 'breaks', 'contract', 'legality', 'assets', 'work', 'tx', 'photo', 'vacation', 'crime', 'expenses', 'yelp', 'house', 'questions', 'neighbor', 'information', 'house', 'child', 'timeshare', 'mom', 'bill', 'account', 'buyer', 'neighbour', 'florida', 'streamers', 'kill', 'doctors', 'credit', 'company', 'rights', 'hold', 'costco', 'call', 'dog', 'claims', 'sister', 'forum', 'bank', 'mailbox', 'pharmacy', 'vehicle', 'papers', 'school', 'property', 'friend', 'agreement', 'lease', 'information', 'insurance', 'fireworks', 'police', 'meetings', 'gifts', 'land', 'car', 'police', 'harassment', 'proof', 'alabama', 'car', 'number', 'cops', 'office', 'life', 'children', 'living', 'company', 'school', 'housing', 'dad', 'order', 'apartment', 'drug', 'window', 'wife', 'landlord', 'work', 'type', 'money', 'person', 'doctor', 'baby', 'car', 'dents', 'dentists', 'employee', 'order', 'memory', 'jail', 'car', 'pictures', 'school', 'family', 'driveway', 'money', 'car', 'counsel', 'vehicle', 'evidence', 'brick', 'dui', 'hospital', 'order', 'employer', 'mother', 'mom', 'district', 'dog', 'rent', 'truck', 'shoes', 'credit', 'agent', 'facebook', 'garage', 'hi', 'blog', 'restaurant', 'builder', 'phone', 'medication', 'house', 'job', 'house', 'obama', 'tuition', 'form', 'parents', 'tips', 'letter', 'kids', 'immunity', 'court', 'wife', 'university', 'turn', 'tenant', 'blood', 'sell', 'house', 'city', 'train', 'work', 'money', 'dog', 'ticket', 'company', 'neighbor', 'trial', 'ticket', 'blew', 'case', 'car', 'facilities', 'heat', 'police', 'brothels', 'slander', 'president', 'estate', 'review', 'feathers', 'insurance', 'bar', 'brother', 'house', 'work', 'group', 'phone', 'employee', 'lsd', 'r', 'country', 'job', 'weeks', 'card', 'virginia', 'work', 'therapist', 'neighbor', 'advice', 'package', 'girl', 'manager', 'car', 'charges', 'papers', 'room', 'loan', 'juror', 'insurance', 'car', 'head', 'tampa', 'car', 'lease', 'lease', 'employment', 'keeps', 'toll', 'misdemeanor', 'key', 'photos', 'phone', 'custody', 'family', 'business', 'police', 'ticket', 'land', 'land', 'card', 'refund', 'birth', 'proof', 'neighbors', 'facing', 'practice', 'mail', 'ex', 'business', 'wife', 'car', 'water', 'girls', 'payment', 'landlord', 'car', 'dancer', 'mt', 'charge', 'attack', 'sell', 'broke', 'money', 'custody', 'school', 'job', 'car', 'daughter', 'everything', 'father', 'lease', 'confidentiality', 'ticket', 'contracts', 'rent', 'neighborhood', 'parents', 'car', 'credit', 'newspaper', 'garage', 'step', 'cameras', 'xanax', 'analyst', 'dad', 'court', 'vacation', 'food', 'work', 'sisters', 'way', 'area', 'order', 'homicide', 'car', 'company', 'girl', 'car', 'sex', 'support', 'property', 'jury', 'fence', 'weeks', 'house', 'hit', 'car', 'grandparents', 'apartment', 'evidence', 'clauses', 'school', 'employee', None, 'advice', 'aunt', 'check', 'sales', 'car', 'guns', 'government', 'scam', 'house', 'sister', 'cats', 'hello', 'house', 'insurance', 'trouble', 'group', 'stent', 'contest', 'neighbor', 'employee', 'grandmother', 'street', 'disney', 'university', 'videos', 'restaurant', 'kids', 'motorcycle', 'dui', 'doctor', 'custody', 'person', 'car', 'know', 'guy', 'drivers', 'flight', 'jack', 'delivery', 'firearm', 'company', 'kids', 'gas', 'dog', 'party', 'harassment', 'spot', 'sue', 'requirement', 'company', 'parents', 'mark', 'business', 'others', 'company', 'estate', 'claims', 'county', 'business', 'agreements', 'tolls', 'water', 'car', 'parents', 'job', 'gf', 'judges', 'parents', 'pictures', 'answer', 'parents', 'bread', 'phone', 'deposit', 'trouble', 'situation', 'kids', 'sister', 'dad', 'ticket', 'dog', 'check', 'wife', 'person', 'car', 'politics', 'hour', 'virginia', 'mi', 'grandparents', 'court', 'distress', 'husband', 'dad', 'girlfriend', 'dad', 'contract', 'court', 'park', 'estate', 'loan', 'kids', 'company', 'shifts', 'jeweler', 'family', 'account', 'company', 'dorms', 'car', 'county', 'herpes', 'girl', 'record', 'apartment', 'rent', 'edge', 'cat', 'owners', 'mold', 'eviction', 'way', 'damage', 'job', 'trade', 'wife', 'porch', 'sugar', 'card', 'message', 'insurance', 'baby', 'photos', 'cops', 'girlfriend', 'house', 'use', 'dog', 'wife', 'student', 'word', 'damage', 'probation', 'park', 'insurance', 'drug', 'email', 'supervisor', 'wife', 'miles', 'florida', 'drunk', 'police', 'husband', 'ex', 'rate', 'unit', 'car', 'school', 'police', 'car', 'pressure', 'consulate', 'children', 'trees', 'rail', 'blouse', 'santa', 'problems', 'bus', 'policy', 'package', 'mass', 'breaks', 'mom', 'test', 'friend', 'situation', 'insurance', 'wife', 'copy', 'cleveland', 'name', 'account', 'phone', 'pay', 'order', 'friend', 'business', 'jail', 'mother', 'operator', 'school', 'internet', 'support', 'loan', 'work', 'night', 'mom', 'company', 'store', 'scholarship', 'person', 'chimney', 'wife', 'cops', 'water', 'lease', 'job', 'court', 'sell', 'emulators', 'parents', 'package', 'ticket', 'deposit', 'room', 'boss', 'phone', 'twin', 'support', 'lawyers', 'report', 'name', 'mother', 'application', 'utilities', 'search', 'family', 'work', 'behavior', 'walk', 'brother', 'amendment', 'hours', 'home', 'roommate', 'night', 'google', 'roommate', 'district', 'children', 'employer', 'car', 'office', 'check', 'hospital', 'mom', 'chicken', 'victim', 'wifi', 'tenant', 'dog', 'store', 'mail', 'guy', 'violations', 'megathread', 'gun', 'lawyers', 'police', 'roommate', 'police', 'hours', 'cali', 'school', 'business', 'food', 'job', 'airport', 'dog', 'hours', 'debt', 'door', 'er', 'driver', 'ticket', 'son', 'mother', 'birth', 'johns', 'son', 'order', 'report', 'search', None, 'apartment', 'gift', 'rights', 'garage', 'insurance', 'court', 'name', 'fraud', 'dad', 'fence', 'pfa', 'company', 'court', 'driver', 'limitations', 'cameras', 'wife', 'transponder', 'insurance', 'friend', 'pot', 'case', 'face', 'think', 'taco', 'house', 'employees', 'car', 'cash', 'legality', 'support', 'employer', 'car', 'pain', 'mold', 'group', 'fence', 'door', 'school', 'police', 'water', 'assets', 'owner', 'food', 'work', 'pay', 'driver', 'student', 'car', 'parents', 'review', 'end', 'parents', 'contract', 'insurance', 'anyone', 'company', 'contract', 'phone', 'mom', 'hoa', 'lease', 'movie', 'assets', 'girl', 'spouse', 'vegas', 'gang', 'target', 'parents', 'credit', 'restaurant', 'access', 'pictures', 'name', 'status', 'pennsylvania', 'injury', 'company', 'land', 'felony', 'friends', 'car', 'bone', 'store', 'money', 'pills', 'knife', 'hours', 'speed', 'bar', 'dog', 'strip', 'pa', 'lube', 'insurance', 'tn', 'bill', 'job', 'family', 'tell', 'wv', 'dog', 'money', 'credit', 'move', 'ticket', 'son', 'rights', 'order', 'government', 'lifeguard', 'son', 'toddlers', 'release', 'roommate', 'couple', 'check', 'duck', 'person', 'friend', 'dog', 'water', 'landlord', 'hours', 'credit', 'work', 'brother', 'number', 'dui', 'rear', 'pictures', 'fraud', 'film', 'divorce', 'county', 'business', 'wood', 'j', 'work', 'house', 'sue', 'grandmother', 'rape', 'tips', 'sister', 'vacation', 'verdict', 'school', 'pay', 'sign', 'california', 'drug', 'wife', 'insurance', 'examples', 'work', 'caught', 'landlord', 'photos', 'car', 'citizen', 'rent', 'evidence', 'landlord', 'report', 'mother', 'wife', 'coat', 'car', 'city', 'payment', 'custody', 'daughter', 'town', 'film', 'fibromyalgia', 'hotel', 'colony', 'bra', 'unemployment', 'deposit', 'ring', 'house', 'family', 'insurance', 'painter', 'husband', 'birth', 'university', 'car', 'machine', 'insurance', 'rape', 'items', 'mexico', 'car', 'happens', 'letter', 'microchip', 'case', 'myeloma', 'accident', 'person', 'car', 'house', 'car', 'company', 'job', 'knife', 'mortgage', 'son', 'company', 'cats', 'co', 'ambulance', 'room', 'report', 'pain', 'invoice', 'gifts', 'pool', 'son', 'earplugs', 'check', 'let', 'reddit', 'room', 'hours', 'wetback', 'school', 'place', 'way', 'offer', 'work', 'tombstone', 'need', 'divorce', 'dealer', 'apartment', 'club', 'custody', 'half', 'purse', 'night', 'husband', 'family', 'guy', 'debt', 'power', 'child', 'town', 'house', 'friend', 'taxes', 'parents', 'driveway', 'schools', 'boss', 'tenants', 'landlord', 'job', 'account', 'mine', 'hospital', 'way', 'truck', 'states', 'agent', 'school', 'test', 'name', 'grandma', 'fight', 'officer', 'apartment', 'today', 'driver', 'daughter', 'area', 'deposit', 'job', 'tax', 'father', 'car', 'report', 'parking', 'fence', 'lease', 'mother', 'power', 'process', 'insurance', 'support', 'car', 'husband', 'employer', 'sell', 'firm', 'work', 'insurance', 'school', 'window', 'name', 'wells', 'contract', 'prescription', 'dogs', 'pain', 'defense', 'sister', 'apartment', 'family', 'iud', 'mother', 'company', 'role', 'university', 'husband', 'gt', 'bank', 'parents', 'witness', 'cellphone', 'ticket', 'school', 'rent', 'money', 'insurance', 'bartender', 'coworker', 'account', 'car', 'vote', 'hours', 'landlord', 'marijuana', 'availability', 'lump', 'grandfather', 'parents', 'car', 'alcohol', 'father', 'pictures', 'tells', 'security', 'daughter', 'dog', 'sister', 'class', 'emergency', 'wife', 'clock', 'manager', 'license', 'company', 'model', 'joe', 'savings', 'guardianship', 'delivery', 'part', 'storefront', 'kids', 'foia', 'file', 'van', 'insurance', 'money', 'id', 'bit', 'gift', 'wa', 'bill', 'employer', 'traffic', 'door', 'money', 'family', 'solution', 'loan', 'officer', 'work', 'suicide', 'evidence', 'home', 'patio', 'hotel', 'money', 'hooker', 'life', 'cash', 'pay', 'york', 'california', 'dog', 'manager', 'contractor', 'property', 'pay', 'tips', 'vehicle', 'diplomat', 'order', 'bill', 'attorney', 'neighbour', 'story', 'work', 'company', 'daughter', 'education', 'sorority', 'purchase', 'kitten', 'statements', 'daughter', 'deposit', 'hours', 'thanks', 'friends', 'oil', 'divorce', 'house', 'police', 'phone', 'tattoo', 'background', 'school', 'work', 'car', 'rent', 'child', 'cat', 'legionnaires', 'exemption', 'messages', 'mom', 'movie', 'house', 'car', 'breaks', 'la', 'home', 'roommate', 'medication', 'parents', 'flag', 'slope', 'tips', 'uncle', 'guy', 'privacy', 'store', 'servers', 'sex', 'property', 'mother', 'hair', 'job', 'house', 'name', 'l', 'court', 'son', 'cellphone', 'police', 'phone', 'house', 'scanlations', 'room', 'officer', 'files', 'mom', 'dealer', 'weeks', 'software', 'dui', 'equipment', 'doctor', 'mother', 'easement', 'car', 'brand', 'birth', 'florida', 'doctor', 'car', 'damage', 'employer', 'apartment', 'installer', 'way', 'fence', 'work', 'need', 'car', 'mortgage', 'neighbor', 'jury', 'truck', 'paternity', 'cd', 'fiancée', 'place', 'currency', 'mom', 'loan', 'security', 'mail', 'car', 'kennedys', 'birth', 'apartment', 'shoplifting', 'mail', 'employer', 'ability', 'water', 'truck', 'birth', 'house', 'school', 'court', 'money', 'child', 'life', 'heart', 'court', 'business', 'context', 'potassium', 'dogs', 'grandma', 'car', 'house', 'staff', 'brothers', 'women', 'death', 'mean', 'restroom', 'husbands', 'staff', 'police', 'package', 'house', 'wife', 'deed', 'pay', 'dashes', 'food', 'room', 'spot', 'items', 'rights', 'mail', 'mom', 'spouse', 'terrorism', 'al', 'work', 'airport', 'walk', 'situation', 'texas', 'lease', 'daughter', 'father', 'agency', 'drugs', 'traps', 'c', 'school', 'college', 'system', 'network', 'dad', 'employer', 'order', 'murder', 'sex', 'traffic', 'relationship', 'man', 'tetanus', 'officer', 'star', 'cats', 'house', 'oil', 'legality', 'vehicle', 'insurance', 'mistake', 'tx', 'property', 'land', 'check', 'rape', 'wife', 'issues', 'consultancy', 'firearm', 'house', 'interviewer', 'phones', 'things', 'car', 'work', 'cable', 'damage', 'beams', 'client', 'patio', 'landlord', 'work', 'body', 'legality', 'brother', 'mail', 'incompetent', 'officer', 'house', 'surgeon', 'canada', 'situation', 'workers', 'apartment', 'work', 'car', 'remainder', 'parent', 'lease', 'court', 'apartment', 'cops', 'police', 'microphone', 'cop', 'rent', 'house', 'daughter', 'money', 'claim', 'officer', 'dog', 'loop', 'coworker', 'company', 'school', 'york', 'drug', 'house', 'company', 'window', 'dog', 'charge', 'roommate', 'employer', 'sister', 'dog', 'dad', 'settlement', 'divorce', 'notice', 'director', 'questions', 'hr', 'amp', 'theft', 'court', 'ex', 'rooms', 'credit', 'car', 'brother', 'report', 'va', 'parents', 'husband', 'friend', 'child', 'friend', 'wife', 'manager', 'advice', 'car', 'cards', 'unit', 'felon', 'rent', 'landlord', 'life', 'position', 'change', 'tenant', 'fraud', 'ex', 'property', 'landlord', 'tips', 'conference', 'police', 'asbestos', 'truck', 'weeks', 'cards', 'car', 'company', 'shop', 'battery', 'image', 'house', 'car', 'aunt', 'car', 'shoes', 'tim', 'book', 'priceline', 'court', 'pharmacy', 'way', 'business', 'employment', 'police', 'spouse', 'work', 'graduate', 'kid', 'share', 'house', 'car', 'offer', 'child', 'punch', 'controller', 'florida', 'parents', 'rent', 'cousin', 'water', 'house', 'payment', 'bill', 'check', 'company', 'mom', 'chain', 'balcony', 'rent', 'insurance', 'driver', 'info', 'car', 'bills', 'mortgage', 'let', 'settlement', 'doc', 'bank', 'neighbor', 'ones', 'ray', 'family', 'interest', 'apartment', 'employment', 'coworker', 'police', 'wife', 'letter', 'claim', 'money', 'patient', 'police', 'dog', 'problem', 'samsung', 'check', 'company', 'court', 'test', 'truck', 'information', 'students', 'insurance', 'money', 'cats', 'passport', 'notice', 'car', 'fl', 'dad', 'gender', 'apartment', 'cat', 'dog', 'vehicle', 'license', 'tips', 'privacy', 'bat', 'ticket', 'job', 'money', 'blood', 'vandalism', 'appointments', 'age', 'money', 'person', 'job', 'headlock', 'point', 'threats', 'hours', 'farm', 'letter', 'wife', 'illinois', 'design', 'advice', 'rights', 'bag', 'bet', 'birthdate', 'community', 'debt', 'parents', 'work', 'job', 'start', 'rent', 'designs', 'fault', 'cops', 'auto', 'film', 'game', 'place', 'mom', 'discord', 'hate', 'talk', 'position', 'job', 'address', 'friend', 'cats', 'service', 'landlord', 'ticket', 'ontario', 'work', 'car', 'belittling', 'spot', 'ad', 'cash', 'data', 'name', 'watch', 'band', 'court', 'money', 'access', 'account', 'contract', 'neighbor', 'roommate', 'money', 'landlord', 'charges', 'baby', 'school', 'son', 'afford', 'custody', 'sister', 'ate', 'city', 'security', 'water', 'owner', 'shop', 'car', 'grandma', 'dog', 'health', 'builder', 'school', 'work', 'front', 'work', 'site', 'boats', 'rent', 'adult', 'community', 'school', 'cash', 'benefits', 'marriage', 'feel', 'understand', 'rent', 'case', 'tenants', 'mills', 'service', 'hippa', 'backpack', 'friend', 'money', 'line', 'card', 'moderator', 'car', 'crush', 'movers', 'fence', 'agreement', 'daughter', 'house', 'business', 'dogs', 'amp', 'reviews', 'hours', 'parents', 'rent', 'truck', 'landlord', 'india', 'paperwork', 'truck', 'pay', 'money', 'order', 'mothers', 'family', 'money', 'package', 'prescription', 'school', 'house', 'jane', 'husband', 'condo', 'garage', 'gun', 'car', 'security', 'dad', 'amount', 'work', 'investigation', 'delivery', 'insurance', 'dog', 'office', 'health', 'girlfriend', 'house', 'step', 'drug', 'beer', 'jury', 'rent', 'daughter', 'dui', 'position', 'son', 'care', 'investor', 'credit', 'hawaii', 'smoke', 'car', 'friend', 'credit', 'home', 'work', 'movie', 'unit', 'garage', 'pay', 'support', 'job', 'visitation', 'apartment', 'jena', 'hours', 'school', 'guy', 'loan', 'name', 'employer', 'landlord', 'name', 'phone', 'father', 'tags', 'lease', 'ticket', 'room', 'backers', 'document', 'location', 'letter', 'package', 'school', 'officer', 'tenant', 'counterfeit', 'injury', 'land', 'spots', 'pay', 'version', 'kids', 'il', 'camera', 'rape', 'father', 'car', 'id', 'company', 'receive', 'car', 'sex', 'room', 'draftkings', 'birth', 'lot', 'shipping', 'pa', 'insurance', 'employee', 'hardship', 'gun', 'phone', 'case', 'kids', 'work', 'home', 'college', 'job', 'power', 'landlord', 'pay', 'ride', 'accident', 'father', 'az', 'bitch', 'dog', 'house', 'case', 'glass', 'landlord', 'check', 'brother', 'parents', 'payment', 'hire', 'car', 'money', 'money', 'baby', 'mom', 'cps', 'drug', 'wait', 'store', 'tomorrow', 'custody', 'connor', 'fl', 'company', 'fire', 'subdivision', 'judgement', 'sword', 'supervisor', 'name', 'school', 'rehab', 'cop', 'landlord', 'wallgreens', 'jenny', 'felony', 'irs', 'duty', 'jerk', 'door', 'class', 'executor', 'company', 'landlord', 'aunt', 'balcony', 'number', 'grandparents', 'landlord', 'email', 'contract', 'neighbor', 'pennies', 'blood', 'car', 'product', 'name', 'power', 'punishment', 'police', 'family', 'guardianship', 'stepdaughter', 'wage', 'son', 'apartment', 'property', 'feel', 'job', 'rent', 'job', 'security', 'gt', 'refuses', 'post', 'amtrak', 'lease', 'job', 'mo', 'apartment', 'test', 'need', 'room', 'b', 'hours', 'gratuity', 'car', 'happens', 'summer', 'gate', 'chocolate', 'coworker', 'manager', 'customers', 'water', 'games', 'job', 'apartment', 'landlord', 'cats', 'contract', 'age', 'mother', 'grandparents', 'damage', 'hope', 'belongings', 'dont', 'mail', 'cop', 'support', 'jail', 'dash', 'pay', 'probation', 'sign', 'court', 'case', 'officer', 'jail', 'chastity', 'company', 'sue', 'drivers', 'neighbors', 'insurance', 'dad', 'mom', 'judge', 'insurance', 'target', 'streets', 'mother', 'notes', 'school', 'things', 'brother', 'pieces', 'name', 'slander', 'scale', 'hip', 'work', 'paychecks', 'refunds', 'film', 'violation', 'house', 'trial', 'mortgage', 'distance', None, 'seller', 'male', 'child', 'supervisor', 'association', 'action', 'dui', 'probation', 'money', 'debt', 'tax', 'car', 'mother', 'landlord', 'landlord', 'landlord', 'money', 'court', 'software', 'germany', 'brother', 'hes', 'boyfriend', 'grounds', 'insurance', 'parents', 'sites', 'car', 'health', 'son', 'consent', 'insurance', 'home', 'cousin', 'rape', 'mip', 'mother', 'images', 'relationship', 'prison', 'leaf', 'tenants', 'parents', 'store', 'housing', 'employees', 'discrimination', 'car', 'family', 'house', 'account', 'freind', 'patent', 'blah', 'event', 'collection', 'note', 'family', 'problems', 'wife', 'friend', 'name', 'crime', 'partner', 'support', 'money', 'dog', 'way', 'unit', 'ontario', 'house', 'meetings', 'income', 'computer', 'friend', 'thanks', 'house', 'credit', 'brace', 'person', 'media', 'school', 'bike', 'deal', 'union', 'california', 'account', 'hooker', 'disability', 'girlfriend', 'vehicle', 'child', 'custody', 'estate', 'things', 'sex', 'doctor', 'kids', 'inspection', 'pizza', 'things', 'application', 'breathalyzer', 'ne', 'illegal', 'job', 'car', 'insurance', 'hullo', 'number', 'dog', 'card', 'status', 'vehicle', 'bill', 'contract', 'address', 'credit', 'florida', 'son', 'parents', 'cat', 'car', 'company', 'house', 'carpet', 'manager', 'step', 'il', 'car', 'manager', 'agreement', 'appointment', 'use', 'scenario', 'mail', 'contract', 'warrant', 'dad', 'vasectomy', 'door', 'care', 'test', 'numbers', 'truck', 'landlord', 'money', 'management', 'ticket', 'partnership', 'roommate', 'rent', 'water', 'teeth', 'friend', 'tinder', 'landlord', 'guy', 'car', 'land', 'man', 'repercussions', 'inheritance', 'custody', 'child', 'bicyclist', 'police', 'hours', 'car', 'dog', 'code', 'hotel', 'dog', 'ticket', 'son', 'music', 'witness', 'list', 'community', 'summons', 'daughter', 'children', 'dad', 'night', 'weeks', 'meeting', 'employer', 'women', 'contract', 'roommate', 'police', 'school', 'pay', 'employee', 'window', 'family', 'work', 'car', 'benefits', 'contractors', 'house', 'alcohol', 'name', 'employee', 'case', 'ex', 'mom', 'felony', 'work', 'husband', 'contract', 'city', 'sale', 'bone', 'email', 'landlord', 'texas', 'mortgage', 'dog', 'country', 'court', 'court', 'payments', 'cars', 'angeles', 'sue', 'rent', 'male', 'wife', 'friend', 'baby', 'content', 'fees', 'consumption', 'mom', 'writer', 'bog', 'stucco', 'confinement', 'texts', 'landlord', 'room', 'assets', 'abrasions', 'counsellor', 'husband', 'lady', 'work', 'didnt', 'friend', 'contract', 'information', 'belongings', 'house', 'cop', 'management', 'ex', 'house', 'husband', 'pay', 'water', 'wells', 'work', 'son', 'kids', 'things', 'weeks', 'house', 'coworker', 'dc', 'accident', 'work', 'apartment', 'guardianship', 'pictures', 'pharmacy', 'review', 'court', 'bedroom', 'boyfriend', 'school', 'tickets', 'court', 'crime', 'home', 'car', 'dies', 'evidence', 'land', 'car', 'vacation', 'plates', 'dwi', 'anyone', 'account', 'report', 'ed', 'car', 'everyone', 'police', 'police', 'maintenance', 'post', 'data', 'school', 'money', 'point', 'dog', 'doctor', 'jail', 'sales', 'parents', 'neighbor', 'bank', 'rent', 'child', 'fl', 'birth', 'motion', 'machine', 'items', 'apartment', 'person', 'grandpa', 'airline', 'guy', 'car', 'hours', 'unemployment', 'ipad', 'think', 'cat', 'school', 'county', 'hours', 'caught', 'floor', 'anyone', 'internet', 'traffic', 'rent', 'turn', 'loss', 'box', 'work', 'garden', 'class', 'states', 'coworker', 'hours', 'wife', 'lease', 'friend', 'university', 'man', 'show', 'rock', 'family', 'rights', 'insurance', 'children', 'facebook', 'ramp', 'wife', 'debt', 'images', 'community', 'car', 'canada', 'credit', 'license', 'phone', 'county', 'employer', 'business', 'lease', 'judge', 'game', 'property', 'preschool', 'hair', 'work', 'brother', 'tn', 'husband', 'job', 'mattresses', 'amicus', 'ssn', 'deity', 'lease', 'attorney', 'husband', 'lymphoma', 'wife', 'job', 'call', 'birth', 'fence', 'brother', 'jury', 'saturn', 'side', 'head', 'desk', 'rights', 'stuff', 'driveway', 'kids', 'baby', 'job', 'check', 'internet', None, 'money', 'word', 'kids', 'room', 'backpack', 'md', 'finger', 'daughter', 'brother', 'coworker', 'electricity', 'results', 'weeks', 'location', 'signature', 'pc', 'bedrooms', 'work', 'indiana', 'kidnapping', 'property', 'dog', 'intersection', 'work', 'il', 'room', 'cameras', 'tim', 'body', 'school', 'night', 'powder', 'school', 'customs', 'paternity', 'bank', 'company', 'money', 'employer', 'insurance', 'workers', 'pictures', 'township', 'car', 'work', 'work', 'pay', 'mother', 'license', 'story', 'court', 'friend', 'roommate', 'citizen', 'report', 'pc', 'wa', 'test', 'mother', 'refuses', 'injection', 'check', 'smoking', 'wife', 'landlord', 'dog', 'mother', 'boss', 'stuff', 'credit', 'company', 'boots', 'vc', 'money', 'wage', 'shot', 'india', 'school', 'owner', 'ramifications', 'parents', 'flag', 'brother', 'room', 'rent', 'lien', 'house', 'male', 'career', 'officer', 'gun', 'check', 'class', 'women', 'abuse', 'person', 'house', 'foot', 'states', 'freestream', 'coworker', 'minutes', 'name', 'jeep', 'school', 'parking', 'student', 'l', 'resignation', 'mother', 'test', 'chase', 'salvation', 'doors', 'lease', 'noise', 'privacy', 'way', 'business', 'background', 'express', 'rumor', 'bill', 'order', 'trial', 'parents', 'prisons', 'home', 'money', 'food', 'program', 'steps', 'neighbor', 'health', 'insurance', 'dog', 'rent', 'insecurity', 'friend', 'leaks', 'defamation', 'pi', 'wife', 'charges', 'money', 'half', 'sue', 'myspace', 'arraignment', 'water', 'rent', 'money', 'family', 'photo', 'brother', 'visitation', 'dog', 'hand', 'wi', 'comcast', 'staff', 'father', 'company', 'sex', 'car', 'overtime', 'car', 'courts', 'school', 'room', 'work', 'police', 'unit', 'airport', 'parents', 'employer', 'work', 'drug', 'contract', 'name', 'lease', 'friend', 'bf', 'woman', 'company', 'money', 'business', 'dc', 'advice', 'incisions', 'concerns', 'probation', 'house', 'dog', 'children', 'allegations', 'gt', 'friends', 'money', 'cpa', 'company', 'kids', 'job', 'relationship', 'ramifications', 'boat', 'cops', 'lawn', 'cable', 'friend', 'health', 'ideation', 'lawyers', 'vehicle', 'jury', 'gun', 'contract', 'address', 'apartment', 'record', 'eye', 'ashes', 'employee', 'company', 'times', 'family', 'brother', 'jail', 'school', 'case', 'job', 'court', 'dad', 'wi', 'violation', 'girls', 'work', 'phone', 'blood', 'carpet', 'elevator', 'victim', 'insurance', 'california', 'tips', 'check', 'card', 'debt', 'fans', 'amp', 'cash', 'park', 'house', 'felon', 'seller', 'charges', 'start', 'kidnapper', 'jeep', 'police', 'money', 'property', 'property', 'book', 'job', 'past', 'feet', 'inch', 'documents', 'hands', 'rent', 'business', 'charge', 'life', 'appeal', 'car', 'pay', 'doctor', 'president', 'perjury', 'apartment', 'room', 'kyle', 'south', 'neighbors', 'manager', 'ferrari', 'california', 'work', 'jobs', 'job', 'house', 'shift', 'school', 'shop', 'jason', 'prescription', 'account', 'shift', 'girlfriend', 'car', 'virginia', 'insurance', 'hulk', 'card', 'friend', 'contract', 'son', 'deductions', 'wage', 'car', 'dealership', 'item', 'price', 'keeps', 'parents', 'friends', 'family', 'search', 'room', 'job', 'failure', 'tattoos', 'times', 'flags', 'court', 'county', 'amp', 'attorney', 'tennessee', 'name', 'school', 'pay', 'bank', 'shoulder', 'pay', 'contract', 'kids', 'phone', 'car', 'electricity', None, 'property', 'debt', 'home', 'shop', 'owner', 'debt', 'story', 'sex', 'car', 'money', 'parents', 'pond', 'skype', 'transaction', 'car', 'money', 'name', 'baby', 'mom', 'car', 'stuff', 'test', 'employer', 'questions', 'roommate', 'checks', 'driver', 'lease', 'videos', 'dollar', 'divorce', 'job', 'assault', 'contract', 'file', 'roommate', 'discord', 'prison', 'paraphernalia', 'idea', 'car', 'coma', 'company', 'manager', 'room', 'drug', 'birthday', 'skate', 'charges', 'moment', 'parents', 'group', 'consequences', 'character', 'car', 'twins', 'loans', 'freezer', 'pictures', 'bill', 'court', 'cousin', 'college', 'accident', 'accident', 'rash', 'cashless', 'apartment', 'shelf', 'neighbor', 'costs', 'town', 'interview', 'house', 'unit', 'gun', 'wife', 'grandmother', 'property', 'settings', 'case', 'lease', 'unit', 'manslaughter', 'brother', 'papers', 'lease', 'animals', 'paint', 'business', 'k', 'line', 'school', 'car', 'ticket', 'employees', 'sue', 'computer', 'cyclist', 'file', 'husbands', 'birthday', 'pokémon', 'price', 'mother', 'car', 'covid', 'rent', 'sidewalk', 'apartment', 'craigslist', 'work', 'vehicle', 'cohabitation', 'apartment', 'tinder', 'internship', 'video', 'harassment', 'police', 'security', 'garage', 'police', 'business', 'sell', 'workplace', 'asthma', 'murder', 'roommate', 'fault', 'manager', 'friends', 'pay', 'bar', 'car', 'chipotle', 'research', 'computer', 'security', 'debt', 'communications', 'entrance', 'work', 'wisdom', 'work', 'attorney', 'rapist', 'land', 'family', 'work', 'mom', 'home', 'name', 'sale', 'arm', 'ticket', 'organization', 'employer', 'missouri', 'phthalates', 'dog', 'work', 'number', 'court', 'administration', 'manager', 'police', 'court', 'brother', 'company', 'article', 'college', 'attendance', 'school', 'sex', 'horse', 'items', 'insurance', 'rent', 'ticket', 'cash', 'store', 'company', 'gas', 'car', 'hours', 'acres', 'footage', 'rent', 'dog', 'credit', 'school', 'lunch', 'mix', 'ticket', 'bank', 'brother', 'opinion', 'wife', 'wife', 'job', 'truck', 'situation', 'email', 'family', 'tenants', 'police', 'card', 'guardianship', 'sister', 'suspension', 'units', 'way', 'jury', 'children', 'roommate', 'porch', 'city', 'rv', 'mediator', 'dollars', 'az', 'mom', 'neighbor', 'website', 'divorce', 'child', 'package', 'home', 'fence', 'insurance', 'charges', 'end', 'appointment', 'job', 'harassment', 'parents', 'job', 'company', 'suitcase', 'job', 'amp', 'meetings', 'county', 'lease', 'island', 'money', 'city', 'birds', 'care', 'hoa', 'apartment', 'alcohol', 'employees', 'agreement', 'whats', 'conspiracy', 'radar', 'dog', 'wife', 'emails', 'comment', 'car', 'house', 'dog', 'ticket', 'pay', 'contract', 'wife', 'friend', 'building', 'power', 'canada', 'dog', 'car', 'work', 'service', 'brother', 'dog', 'father', 'itunes', 'guys', 'school', 'drive', 'pronouns', 'case', 'insurance', 'wife', 'car', 'neighbor', 'tx', 'car', 'registration', 'lease', 'grocery', 'court', 'check', 'car', 'manslaughter', 'benefits', 'university', 'brother', 'facebook', 'grade', 'florida', 'california', 'wife', 'copyright', 'son', 'friend', 'sunedison', 'police', 'place', 'employees', 'custody', 'phone', 'mother', 'play', 'governor', 'car', 'turn', 'ring', 'video', 'york', 'phone', 'results', 'house', 'car', 'check', 'photos', 'highschool', 'door', 'packages', 'mother', 'maintenance', 'company', 'car', 'company', 'kid', 'country', 'wife', 'plate', 'delivery', 'work', 'lease', 'phone', 'bar', 'statement', 'kids', 'questions', 'sex', 'ticket', 'girls', 'car', 'lease', 'dog', 'bar', 'work', 'john', 'woodstock', 'grandparents', 'way', 'post', 'friend', 'threat', 'amp', 'audio', 'breeder', 'apartment', 'hey', 'buying', 'daughter', 'water', 'conversation', 'person', 'car', 'sign', 'drug', 'spits', 'email', 'loans', 'medication', 'dorm', 'phone', 'school', 'happens', 'lot', 'landlord', 'amp', 'mother', 'relationship', 'cousin', 'hospital', 'agreement', 'car', 'attorney', 'apartment', 'money', 'drunk', 'account', 'college', 'house', 'things', 'street', 'car', 'child', 'boyfriend', 'step', 'light', 'head', 'employer', 'friend', 'students', 'evidence', 'victims', 'house', 'drug', 'worth', 'report', 'kids', 'insurance', 'sister', 'items', 'practice', 'charges', 'seatbelts', 'tags', 'books', 'goal', 'school', 'department', 'job', 'model', 'company', 'gd', 'oregon', 'franchise', 'mom', 'service', 'child', 'paint', 'daughter', 'reporters', 'car', 'income', 'officer', 'girlfriend', 'ebay', 'sublandlord', 'bill', 'friend', 'brother', 'company', 'house', 'business', 'claim', 'hours', None, 'support', 'arm', 'staff', 'mother', 'permit', 'stalker', 'work', 'employer', 'notice', 'money', 'alcohol', 'bitcoin', 'eye', 'cross', 'number', 'event', 'job', 'tenant', 'uncle', 'conventions', 'bail', 'name', 'truck', 'restaurant', 'power', 'mom', 'diem', 'boy', 'office', 'insurance', 'caterpillars', 'friend', 'customers', 'brother', 'pool', 'bouncer', 'car', 'loan', 'contracts', 'school', 'process', 'kids', 'tenet', 'mom', 'plan', 'meth', 'data', 'austria', 'kids', 'life', 'employee', 'karate', 'property', 'sprint', 'insurance', 'property', 'brothers', 'insurance', 'cancel', 'food', 'custody', 'rent', 'dog', 'woman', 'house', 'defense', 'child', 'prove', 'kids', 'property', 'pay', 'possession', 'blackmail', 'landlord', 'home', 'son', 'illinois', 'unit', 'tribe', 'list', 'agent', 'company', 'credit', 'county', 'name', 'al', 'wife', 'drunk', 'apartment', 'ex', 'work', 'magazine', 'oil', 'search', 'information', 'officer', 'trump', 'guys', 'country', 'kid', 'car', 'house', 'today', 'fiance', 'apartment', 'plea', 'landlord', 'r', 'charges', 'employee', 'accommodations', 'expectation', 'brother', 'contract', 'pay', 'car', 'baseball', 'smoke', 'support', 'marijuana', 'debt', 'client', 'job', 'suspension', 'son', 'business', 'debt', 'car', 'canada', 'list', 'conversation', 'call', 'trouble', 'pays', 'children', 'car', 'kids', 'states', 'insurance', 'company', 'record', 'police', 'place', 'tesla', 'keys', 'coupons', 'apartment', 'firearms', 'friend', 'ticket', 'board', 'misdemeanor', 'enforce', 'cab', 'floridians', 'work', 'divorce', 'grandparents', 'vendor', 'work', 'maple', 'place', 'officer', 'records', 'income', 'money', 'son', 'item', 'sanders', 'door', 'care', 'canada', 'money', 'lunch', 'road', 'road', 'questions', 'order', 'interview', 'home', 'wife', 'preschool', 'friend', 'family', 'father', 'company', 'information', 'pay', 'sex', 'person', 'school', 'flight', 'police', 'amount', 'things', 'ex', 'friend', 'son', 'agency', 'deposit', 'restaurant', 'wife', 'security', 'geico', 'prank', 'walmart', 'firm', 'family', 'subpoena', 'id', 'clients', 'roommate', 'gift', 'manager', 'hotel', 'pole', 'share', 'job', 'baby', 'account', 'evidence', 'garbage', 'money', 'apartments', 'payment', 'car', 'air', 'attorney', 'work', 'cigarette', 'rent', 'take', 'lawn', 'prank', 'deposit', 'phone', 'name', 'ticket', 'bbb', 'locker', 'course', 'car', 'exile', 'car', 'girl', 'tx', 'house', 'court', 'dog', 'drug', 'money', 'car', 'picture', 'bill', 'car', 'gloves', 'friend', 'children', 'cost', 'pay', 'bank', 'plasma', 'custody', 'tenancy', 'hoa', 'license', 'car', 'wage', 'property', 'name', 'age', 'sitter', 'notice', 'computer', 'age', 'letter', 'questions', 'daughter', 'employer', 'court', 'buyer', 'girlfriend', 'officer', 'work', 'owner', 'child', 'landlord', 'roommate', 'storage', 'cousin', 'letter', 'roommate', 'salon', 'mother', 'recruiter', 'apartment', 'car', 'rights', 'stitches', 'products', 'woman', 'company', 'amp', 'minnesota', 'maintenance', 'collections', 'office', 'school', 'fence', 'hostage', 'carolina', 'refund', 'payments', 'business', 'therapist', 'parents', 'landlord', 'baby', 'company', 'school', 'family', 'fight', 'kids', 'lot', 'refund', 'payroll', 'relationship', 'tires', 'son', 'order', 'unit', 'parents', 'rights', 'appearance', 'lane', 'ex', 'tourist', 'song', 'income', 'roommates', 'arbitration', 'mike', 'school', 'family', 'family', 'fiance', 'uncle', 'application', 'dog', 'catch', 'husband', 'rape', 'police', 'birth', 'probation', 'food', 'ferry', 'landlord', 'phone', 'dog', 'sd', 'window', 'goods', 'food', 'school', 'bot', 'things', 'lease', 'living', 'workers', 'victims', 'bikes', 'heat', 'guy', 'loan', 'company', 'investigation', 'attorney', 'rights', 'story', 'brother', 'house', 'grandfather', 'job', 'lease', 'vehicle', 'landlord', 'mom', 'company', 'sue', 'car', 'parents', 'substance', 'marriage', 'dog', 'increase', 'car', 'work', 'john', 'company', 'eviction', 'owner', 'person', 'car', 'money', 'friend', 'house', 'hospital', 'conversation', 'car', 'utilities', 'war', 'friend', 'employer', 'agency', 'home', 'car', 'school', 'car', 'school', 'property', 'mother', 'unemployment', 'lawsuit', 'support', 'mortgage', 'knife', 'everyone', 'flight', 'stuff', 'crime', 'town', 'owner', 'alarms', 'car', 'seller', 'missouri', 'ia', 'dog', 'alcohol', 'officer', 'passport', 'agreement', 'wife', 'medallion', 'company', 'plate', 'college', 'internet', 'school', 'collector', 'requirements', 'message', 'child', 'housing', 'john', 'court', 'bike', 'mom', 'lot', 'pay', 'home', 'conversation', 'money', 'market', 'lease', 'dog', 'truck', 'employee', 'mother', 'jail', 'minors', 'name', 'debts', 'wife', 'avoid', 'severance', 'landlord', 'parents', 'neighbor', 'ottawa', 'food', 'probation', 'threat', 'home', 'ties', 'care', 'video', 'girlfriend', 'hair', 'house', 'house', 'court', 'insurance', 'bedroom', 'loan', 'mo', 'hours', 'number', 'phone', 'money', 'apartment', 'everything', 'debt', 'requirement', 'driver', 'school', 'kindergartners', 'discrimination', 'act', 'house', 'flight', 'landlord', 'officer', 'laws', 'teacher', 'bank', 'son', 'bicycle', 'trial', 'property', 'car', 'apartment', 'mushrooms', 'witness', 'amp', 'parents', 'agreement', 'school', 'student', 'dog', 'floor', 'manager', 'house', 'drivers', 'things', 'probation', 'company', 'truck', 'hospital', 'bathroom', 'accident', 'relationship', 'documents', 'company', 'landlord', 'place', 'chances', 'cakes', 'bittrex', 'mail', 'wife', 'work', 'court', 'piercings', 'life', 'afternoon', 'work', 'money', 'car', 'media', 'hand', 'rights', 'house', 'deposit', 'gas', 'security', 'job', 'gf', 'friend', 'unit', 'child', 'pay', 'car', 'car', 'trouble', 'unit', 'company', 'sent', 'road', 'note', 'family', 'advance', 'search', 'judges', 'debt', 'account', 'canada', 'fiance', 'floor', 'price', 'job', 'child', 'form', 'gpa', 'house', 'custody', 'marriage', 'company', 'hours', 'ticket', 'kids', 'school', 'debt', 'building', 'job', 'water', 'situation', 'car', 'court', 'mom', 'work', 'provider', 'gun', 'gas', 'car', 'lawsuit', 'parents', 'car', 'mmj', 'residence', 'business', 'press', 'jail', 'insurance', 'florida', 'privacy', 'jane', 'marriage', 'death', 'mother', 'neighbor', 'jury', 'job', 'customer', 'roommate', 'wilma', 'roof', 'place', 'lease', 'report', 'boss', 'mom', 'company', 'road', 'car', 'lease', 'work', 'house', 'car', 'canada', 'accommodations', 'work', 'injunction', 'card', 'shoppers', 'money', 'professor', 'son', 'police', 'parents', 'cousin', 'celebrity', 'dog', 'wife', 'security', 'attorney', 'bus', 'autism', 'loan', 'car', 'condo', 'landlord', 'information', 'salvador', 'support', 'phone', 'baby', 'family', 'girlfriend', 'hours', 'daughter', 'arrest', 'hours', 'contract', 'website', 'festival', 'remains', 'party', 'loan', 'carolina', 'tyler', 'town', 'police', 'wife', 'house', 'gf', 'card', 'wife', 'mistress', 'school', 'gym', 'lease', 'wife', 'education', 'fl', 'apartment', 'pa', 'guy', 'care', 'cop', 'employee', 'thermostat', 'company', 'resort', 'age', 'son', 'case', 'co', 'jane', 'offender', 'stay', 'employer', 'food', 'buy', 'neighbor', 'car', 'landlord', 'work', 'showerthought', 'account', 'lip', 'university', 'stores', 'car', 'tattoo', 'loans', 'lot', 'city', 'company', 'sex', 'person', 'money', 'dude', 'things', 'insurance', 'topic', 'phones', 'text', 'neighbors', 'officer', 'meeting', 'amp', 'want', 'neighbors', 'use', 'camry', 'security', 'pedophile', 'bank', 'mark', 'mail', 'custody', 'ticket', 'cases', 'house', 'pa', 'hours', 'money', 'hoa', 'mushrooms', 'sister', 'money', 'insurance', 'grandmother', 'college', 'company', 'scholarship', 'property', 'car', 'dog', 'arms', 'divorce', 'home', 'pay', 'son', 'brother', 'zone', 'job', 'community', 'security', 'winnings', 'custody', 'car', 'boston', 'rights', 'food', 'tx', 'house', 'illinois', 'property', 'taxes', 'child', 'house', 'parent', 'water', 'balcony', 'job', 'boyfriend', 'care', 'money', 'wife', 'surgery', 'posts', 'dairy', 'rights', 'accidents', 'warranty', 'house', 'railgun', 'disaster', 'meat', 'wife', 'fence', 'rifle', 'leaks', 'lee', 'complaint', 'card', 'film', 'issue', 'person', 'company', 'son', 'moratorium', 'crime', 'media', 'replacement', 'residents', 'employer', 'signing', 'employer', 'job', 'agreement', 'interview', 'bag', 'drug', 'spray', 'home', 'brother', 'bar', 'review', 'unemployment', 'profile', 'company', 'hospital', 'baby', 'pay', 'machine', 'product', 'court', 'tenant', 'church', 'mortage', 'ticket', 'money', 'fraud', 'package', 'work', 'uncle', 'attorney', 'sue', 'phone', 'shareholder', 'girl', 'charge', 'work', 'rights', 'truck', 'doctor', 'test', 'car', 'room', 'rehab', 'divorce', 'police', 'utilities', 'mother', 'interpreter', 'headstone', 'trade', 'camera', 'parents', 'fl', 'records', 'husband', 'officer', 'dog', 'test', 'broker', 'sex', 'car', 'news', 'ebay', 'doctor', 'night', 'illinois', 'car', 'employee', 'grandparents', 'department', 'number', 'b', 'card', 'sister', 'student', 'security', 'lane', 'husband', 'college', 'things', 'court', 'claims', 'dad', 'son', 'divorce', 'daycare', 'sports', 'police', 'va', 'internet', 'il', 'information', 'water', 'didnt', 'friends', 'child', 'child', 'school', 'boyfriend', 'horse', 'credit', 'woman', 'bank', 'dealership', 'candidates', 'baby', 'work', 'work', 'car', 'wife', 'credit', 'https', 'job', 'man', 'child', 'girlfriend', 'bill', 'woman', 'harassment', 'boxes', 'money', 'wife', 'support', 'hours', 'blah', 'life', 'executor', 'server', 'lease', 'court', 'notice', 'job', 'police', 'union', 'license', 'support', 'ticket', 'bridge', 'medication', 'point', 'park', 'person', 'amount', 'house', 'pictures', 'house', 'property', 'order', 'pennsylvania', 'company', 'parents', 'documents', 'background', 'program', 'manager', 'customer', 'court', 'land', 'trust', 'jail', 'rights', 'funds', 'tinder', 'manager', 'gt', 'michigan', 'gym', 'woman', 'landlord', 'sue', 'drive', 'fees', 'car', 'employer', 'store', 'wife', 'account', 'caught', 'bar', 'car', 'neighbor', None, 'buildings', 'balcony', 'letter', 'bank', 'property', 'police', None, 'gift', 'gun', 'contracts', 'school', 'az', 'bus', 'cat', 'way', 'shot', 'driver', 'water', 'business', 'delivery', 'realtors', 'country', 'credit', 'water', 'rv', 'tenant', 'hospital', 'tips', 'work', 'vehicle', 'id', 'manager', 'store', 'car', 'pics', 'program', 'car', 'volunteer', 'arraignment', 'clinton', 'rent', 'box', 'friend', 'mom', 'reason', 'forgot', 'friend', 'advice', 'bank', 'property', 'cops', 'child', 'costs', 'officer', 'mn', 'miles', 'pizza', 'kids', 'investigation', 'car', 'office', 'neighbor', 'cable', 'email', 'apartment', 'job', 'dog', 'ryan', 'unemployment', 'knife', 'name', 'son', 'card', 'student', 'pay', 'support', 'responsibility', 'son', 'school', 'revenge', 'charge', 'phone', 'bus', 'order', 'classes', 'property', 'support', 'alienation', 'card', 'bathroom', 'sell', 'mail', 'waivers', 'job', 'security', 'credit', 'company', 'card', 'bar', 'mom', 'waivers', 'posts', 'transcripts', 'son', 'lease', 'place', 'wife', 'ticket', 'garage', 'tx', 'custody', 'home', 'company', 'po', 'resident', 'child', 'lyng', 'money', 'cross', 'work', 'dog', 'sites', 'company', 'tsa', 'passport', 'legality', 'tv', 'guy', 'plan', 'school', 'job', 'discrimination', 'school', 'suit', 'number', 'tx', 'house', 'cat', 'supervisor', 'college', 'blood', 'son', 'incompetency', 'water', 'rent', 'kids', 'court', 'florida', 'breed', 'change', 'anybody', 'home', 'store', 'security', 'position', 'rules', 'bill', 'proof', 'age', 'work', 'emergency', 'spot', 'car', 'truck', 'bank', 'war', 'officer', 'lease', 'landlord', 'internet', 'costs', 'company', 'things', 'policy', 'apartments', 'home', 'company', 'son', 'wa', 'pay', 'claims', 'money', 'consent', 'assault', 'unemployment', 'worth', 'vehicle', 'surgery', 'car', 'work', 'dog', 'sue', 'car', 'pay', 'photos', 'show', 'son', 'need', 'marijuana', 'room', 'tickets', 'employer', 'car', 'court', 'products', 'materials', 'post', 'paperless', 'number', 'record', 'card', 'ambulance', 'neighbors', 'weeks', 'citation', 'work', 'doc', 'cats', 'movie', 'ristoril', 'family', 'charges', 'isp', 'car', 'rules', 'court', 'debt', 'rules', 'views', None, 'brother', 'shop', 'landlord', 'dad', 'insurance', 'business', 'support', 'house', 'order', 'deposition', 'mail', 'price', 'cle', 'boss', 'japan', 'hole', 'company', 'car', 'drug', 'seller', 'doctor', 'domain', 'ticket', 'brother', 'apartment', 'company', 'florida', 'son', 'insurance', 'ears', 'money', 'covenants', 'man', 'custody', 'party', 'payroll', 'housing', 'police', 'party', 'dog', 'animals', 'intent', 'guy', 'home', 'father', 'woman', 'web', 'sub', 'unit', 'garage', 'guy', 'job', 'insurance', 'apartment', 'mom', 'jail', 'landlord', 'states', 'warrants', 'employer', 'landlord', 'work', 'door', 'orientation', 'neighbor', 'comments', 'vacation', 'life', 'rent', 'pistol', 'medications', 'california', 'lease', 'paint', 'hours', 'money', 'things', 'school', 'court', 'brother', 'company', 'package', 'brother', 'charges', 'order', 'police', 'files', 'business', 'friend', 'tx', 'hypothetical', 'apartment', 'door', 'drug', 'apartment', 'lot', 'house', 'obligation', 'apartment', 'wife', 'brother', 'job', 'child', 'school', 'mom', 'house', 'venue', 'lot', 'offer', 'insurance', 'license', 'custody', 'apartment', 'work', 'school', 'son', 'receipt', 'neighbor', 'recall', 'garbage', 'job', 'job', 'rights', 'nebraska', 'support', 'employer', 'unit', 'car', 'daughter', 'mil', 'information', 'report', 'uncle', 'business', 'friend', 'license', 'insurance', 'tire', 'school', 'husband', 'insurance', 'sue', 'liscence', 'insurance', 'city', 'advice', 'california', 'union', 'reddit', 'dad', 'wife', 'costs', 'work', 'friends', 'id', 'church', 'truck', 'book', 'school', 'phone', 'tn', 'plan', 'house', 'school', 'tenant', 'divorce', 'parents', 'petition', 'security', 'boss', 'sil', 'father', 'lease', 'park', 'hospital', 'fees', 'case', 'items', 'car', 'loan', 'water', 'employer', 'money', 'union', 'landlord', 'house', 'company', 'boss', 'car', 'insurance', 'picture', 'father', 'cat', 'office', 'basement', 'attorney', 'drugs', 'land', 'car', 'car', 'student', 'gas', 'person', 'jail', 'need', 'university', 'spray', 'doctor', 'emancipation', 'water', 'card', 'money', 'payments', 'person', 'drugs', 'ticket', 'jail', 'work', 'shop', 'job', 'work', 'threats', 'dui', 'money', 'hammocks', 'house', 'class', 'plans', 'work', 'divorce', 'evidence', 'support', 'mail', 'court', 'fence', 'work', 'policy', 'client', 'maps', 'home', 'friend', 'son', 'paychecks', 'attorney', 'wife', 'job', 'boy', 'texas', 'risk', 'speech', 'car', 'house', 'school', 'california', 'wellness', 'home', 'deals', 'water', 'mph', 'unit', 'drugs', 'history', 'court', 'water', 'family', 'identity', 'houston', 'company', 'roommates', 'school', 'beer', 'music', 'bar', 'accounts', 'information', 'car', 'company', 'employee', 'work', 'side', 'insurance', 'wife', 'church', 'home', 'job', 'company', 'school', 'police', 'unit', 'chicago', 'hours', 'son', 'friend', 'pornography', 'classroom', 'car', 'door', 'clause', 'mail', 'neighbors', 'girlfriend', 'piqua', 'ex', 'discrimination', 'disability', 'emancipation', 'court', 'food', 'property', 'delivery', 'coverage', 'property', 'glass', 'car', 'hours', 'job', 'school', 'bank', 'car', 'business', 'alaska', 'possibilities', 'food', 'house', 'expectations', 'building', 'weeks', 'order', 'guy', 'tn', 'family', 'lunch', 'withholdings', 'customers', 'university', 'hold', 'room', 'hours', 'part', 'lot', 'fence', 'tickets', 'owner', 'kid', 'quit', 'landlord', 'company', 'work', 'microchip', 'contractors', 'dui', 'wife', 'michigan', 'drug', 'limit', 'baby', 'policy', 'board', 'car', 'gym', 'money', 'construction', 'area', 'seizure', 'helicopter', 'officer', 'girlfriend', 'arrest', 'officer', 'toddlers', 'family', 'case', 'wage', 'house', 'hours', 'work', 'parents', 'college', 'brother', 'card', 'defense', 'sister', 'friend', 'drawn', 'gate', 'basketball', 'president', 'friend', 'mailbox', 'amazon', 'performance', 'credit', 'advice', 'work', 'work', 'capitol', 'backlog', 'device', 'car', 'food', 'rent', 'california', 'feet', 'rent', 'church', 'apple', 'room', 'jewelry', 'apartment', 'everything', 'vehicle', 'turn', 'police', 'teachers', 'mother', 'fact', 'agent', 'post', 'knowledge', 'documents', 'matches', 'landlord', 'credit', 'car', 'property', 'house', 'county', 'phone', 'jersey', 'dogs', 'worrying', 'insurance', 'house', 'word', 'information', 'precedent', 'pay', 'order', 'information', 'headphones', 'police', 'plan', 'work', 'hour', 'dog', 'house', 'police', 'house', 'coworker', 'dog', 'water', 'malpractice', 'atm', 'messages', 'conversation', 'name', 'ticket', 'webpage', 'irs', 'half', 'office', 'dentist', 'pa', 'bank', 'florida', 'company', 'dad', 'professor', 'meetings', 'company', 'job', 'garage', 'work', 'work', 'laws', 'coworker', 'dermatologist', 'parent', 'friend', 'work', 'im', 'test', 'car', 'property', 'person', 'car', 'music', 'sister', 'pictures', 'items', 'son', 'lease', 'everything', 'insurance', 'income', 'dogs', 'work', 'machines', 'baby', 'officer', 'agreements', 'reason', 'attorney', 'garage', 'move', 'test', 'infringement', 'steps', 'car', 'job', 'reddit', 'marriage', 'employees', 'car', 'govt', 'theory', 'blood', 'job', 'authority', 'dad', 'benefits', 'alcohol', 'paper', 'items', 'ambulance', 'cancer', 'chickens', 'support', 'car', 'army', 'truck', 'record', 'room', 'car', 'car', 'post', 'friend', 'home', 'gun', 'happens', 'facebook', 'subreddit', 'wreckage', 'money', 'subreddit', 'police', 'money', 'divorce', 'mil', 'lease', 'property', 'children', 'beer', 'commit', 'income', 'car', 'tsa', None, 'company', 'car', 'friend', 'car', 'intersection', 'manage', 'boyfriend', 'car', 'tips', 'mom', 'land', 'deposit', 'proof', 'cop', 'notes', 'car', 'dog', 'glyphosate', 'hospital', 'case', 'class', 'blog', 'friend', 'stencil', 'manager', 'indiana', 'group', 'test', 'management', 'membership', 'child', 'kids', 'rooster', 'campus', 'purse', 'joe', 'mortgage', 'landlord', 'tickets', 'park', 'weeks', 'parties', 'truck', 'hospital', 'dealership', 'music', 'name', 'farmers', 'report', 'house', 'possession', 'cousin', 'damages', 'name', 'manager', 'lease', 'pregnancy', 'home', 'luggage', 'report', 'aunt', 'insurance', 'make', 'contract', 'support', 'subscription', 'wife', 'rent', 'camera', 'dog', 'justice', 'apartment', 'hours', 'university', 'home', 'office', 'wife', 'child', 'police', 'school', 'life', 'party', 'car', 'car', 'room', 'custody', 'note', 'woman', 'monkey', 'doctor', 'court', 'contract', 'call', 'car', 'stalker', 'church', 'cousin', 'service', 'arrest', 'parents', 'debt', 'credit', 'living', 'airbnb', 'party', 'neighbor', 'hardship', 'cashiers', 'work', 'paper', 'kids', 'court', 'test', 'job', 'doctor', 'information', 'case', 'hospital', 'school', 'glass', 'background', 'history', 'parents', 'door', 'mother', 'model', 'apartment', 'cameras', 'stuff', 'photo', 'dollars', 'jacket', 'work', 'child', 'bank', 'game', 'surgery', 'apartment', 'tort', 'price', 'pictures', 'dog', 'store', 'realtor', 'friend', 'line', 'car', 'apartment', 'car', 'company', 'https', 'maintenance', 'company', 'kids', 'tips', 'felony', 'car', 'husband', 'gas', 'daughters', 'vehicle', 'prison', 'hours', 'ticket', 'bride', 'photos', 'package', 'camera', 'gift', 'facebook', 'car', 'employee', 'dog', 'child', None, 'laws', 'spot', 'facebook', 'company', 'food', 'husband', 'times', 'sub', 'business', 'school', 'report', 'camp', 'boy', 'family', 'son', 'company', 'ex', 'house', 'situation', 'cops', 'apartment', 'credit', 'mom', 'canada', 'attacker', 'conditions', 'mall', 'phone', 'support', 'house', 'building', 'party', 'charge', 'loans', 'apartment', 'court', 'disability', 'unit', 'court', 'policy', 'bank', 'family', 'neighbor', 'park', 'mother', 'credit', 'lot', 'corporation', 'work', 'friend', 'carpet', 'victims', 'company', 'suicide', 'deductions', 'charges', 'brother', 'parents', 'appointments', 'deposit', 'case', 'opossum', 'view', 'company', 'company', 'paycheck', 'apartment', 'phone', 'pa', 'voting', 'perfumes', 'company', 'car', 'son', 'job', 'night', 'company', 'laila', 'government', 'street', 'weeks', 'kids', 'mother', 'house', 'aid', 'dad', 'dad', 'pines', 'landlord', 'gun', 'neighbor', 'cash', 'custody', 'apartment', 'friend', 'car', 'mother', 'court', 'name', 'abuse', 'college', 'york', 'therapist', 'customer', 'husband', 'georgia', 'boss', 'pass', 'degree', 'texas', 'logo', 'baby', 'wife', 'address', 'dog', 'defamation', 'work', 'money', 'scott', 'custody', 'data', 'employee', 'retirement', 'california', 'license', 'ticket', 'man', 'kaiser', 'site', 'media', 'order', 'aunt', 'bil', 'today', 'equipment', 'statement', 'company', 'child', 'company', 'lease', 'car', 'house', 'price', 'police', 'manager', 'lease', 'unemployment', 'school', 'parcel', 'hold', 'teenager', 'cat', 'man', 'husband', 'pay', 'car', 'content', 'doctor', 'police', 'custody', 'wife', 'delivery', 'landlord', 'friend', 'requests', 'job', 'house', 'quarters', 'idaho', 'gentleman', 'business', 'trip', 'issue', 'support', 'parents', 'custody', 'account', 'statement', 'apartment', 'picture', 'credit', 'wife', 'colleges', 'defense', 'sister', 'manager', 'citizens', 'share', 'need', 'mom', 'hours', 'car', 'parents', 'deposit', 'job', 'sister', 'al', 'college', 'son', 'moviepass', 'name', 'house', 'name', 'friend', 'items', 'rent', 'males', 'attorny', 'legality', 'school', 'motorcycle', 'tracks', 'hospitality', 'home', 'car', 'court', 'grandads', 'idea', 'wife', 'police', 'sister', 'probation', 'judgment', 'car', 'boss', 'deputy', 'property', 'neighbor', 'pay', 'litter', 'job', 'order', 'dog', 'owner', 'cum', 'need', 'couple', 'neighbor', 'heroin', 'arbitration', 'cards', 'drug', 'bank', 'flight', 'jail', 'attorney', 'friend', 'prenups', 'im', 'power', 'lease', 'court', 'claims', 'dresses', 'divorce', 'evidence', 'job', 'tn', 'name', 'company', 'police', 'dog', 'orthodontist', 'father', 'md', 'kids', 'husband', 'rent', 'course', 'clock', 'things', 'phone', 'food', 'landlord', 'access', 'boss', 'apartment', 'please', 'name', 'sex', 'power', 'box', 'job', 'helicopter', 'woman', 'ceo', 'photos', 'charges', 'contractor', 'documentation', 'rent', 'idea', 'world', 'text', 'dumpster', 'son', 'sister', 'bottle', 'warrant', 'image', 'hospital', 'ask', 'car', 'apartment', 'car', 'wife', 'charger', 'fines', 'pardons', 'event', 'waste', 'desk', 'employer', 'train', 'lease', 'knife', 'service', 'property', 'contractor', 'tablet', 'ticket', 'way', 'york', 'school', 'friends', 'damage', 'owner', 'smoker', 'hospital', 'emancipate', 'extortion', 'security', 'drinking', 'bill', 'country', 'insurance', 'identity', 'sister', 'store', 'project', 'canada', 'vines', 'gay', 'girlfriend', 'today', 'friend', 'pay', 'loan', 'traffic', 'home', 'brother', 'mom', 'doctor', 'dui', 'apartment', 'daycare', 'cousin', 'link', 'place', 'car', 'insurance', 'property', 'house', 'apartment', 'jail', 'possession', 'grandfather', 'boyfriend', 'brother', 'parents', 'license', 'rent', 'wife', 'work', 'work', 'post', 'check', 'driver', 'landlord', 'car', 'ticket', 'car', 'girlfriend', 'hour', 'police', 'productivity', 'friend', 'cameras', 'mold', 'maintenance', 'dog', 'family', 'work', 'pa', 'equipment', 'pay', 'medicine', 'students', 'store', 'application', 'crime', 'child', 'package', 'contracts', 'call', 'information', 'adoption', 'employee', 'ex', 'parking', 'rescue', 'owner', 'mom', 'estate', 'therapist', 'pay', 'letter', 'dog', 'lock', 'friends', 'friend', 'family', 'officer', 'room', 'dad', 'rights', 'girl', 'school', 'bill', 'job', 'jane', 'texas', 'employer', 'dog', 'car', 'vehicle', 'house', 'client', 'parents', 'sword', 'apartment', 'staples', 'property', 'request', 'property', 'school', 'custody', 'waters', 'ct', 'facebook', 'job', 'hotel', 'car', 'inheritance', 'claim', 'hours', 'landlord', 'friend', 'name', 'money', 'officers', 'cousin', 'painting', 'wife', 'car', 'shotgun', 'house', 'fire', 'backpack', 'plea', 'room', 'card', 'job', 'car', 'wife', 'tip', 'curfew', 'drive', 'judge', 'window', 'colorado', 'engine', 'oregon', 'dog', 'bag', 'report', 'fence', 'fiance', 'police', 'fire', 'birth', 'tennessee', 'reddit', 'photo', 'student', 'person', 'job', 'plan', 'county', 'car', 'cease', 'call', 'mess', 'timeshare', 'insurance', 'downstairs', 'california', 'property', 'school', 'manager', 'pay', 'half', 'record', 'money', 'parking', 'wine', 'guy', 'schedule', 'birth', 'quit', 'oil', 'car', 'car', 'company', 'landlord', 'virginia', 'lot', 'minors', 'officer', 'wells', 'rape', 'dog', 'ticket', 'trust', 'way', 'police', 'test', 'rent', 'teacher', 'player', 'person', 'tx', 'read', 'ticket', 'card', 'change', 'land', 'house', 'name', 'phone', 'lease', 'interview', 'share', 'courts', 'claim', 'media', 'hours', 'insurance', 'access', 'film', 'baby', 'phone', 'prenup', 'jury', 'lunch', 'family', 'client', 'purse', 'insurance', 'brother', 'insurance', 'area', 'booby', 'daughter', 'mother', 'neighbor', 'temps', 'drivers', 'school', 'case', 'claims', 'fee', 'house', 'car', 'car', 'missouri', 'cousin', 'city', 'son', 'contract', 'estate', 'husband', 'post', 'contract', 'police', 'unit', 'daycare', 'trial', 'lease', 'friend', 'drugs', 'part', 'dad', 'anybody', 'sister', 'girl', 'charge', 'dog', 'insurance', 'girl', 'flight', 'house', 'extradition', 'quit', 'police', 'rape', 'restaurant', 'friend', 'contest', 'government', 'ticket', 'letter', 'custody', 'city', 'order', 'friend', 'house', 'wear', 'bill', 'hoa', 'sundays', 'way', 'account', 'school', 'trouble', 'card', 'speaker', 'neighbor', 'driver', 'rent', 'car', 'phone', 'breaks', 'spot', 'landlord', 'report', 'park', 'bathrooms', 'daughter', 'work', 'offer', 'co', 'husband', 'car', 'car', 'site', 'employer', 'jury', 'fiancé', 'friend', 'manager', 'company', 'government', 'deposit', 'police', 'bestof', 'mother', 'landlord', 'bonus', 'advice', 'school', 'buyer', 'video', 'apartment', 'family', 'felony', 'car', 'work', 'car', 'letter', 'court', 'payments', 'parents', 'wife', 'officer', 'bitcoin', 'columbia', 'work', 'price', 'md', 'coworker', 'driver', 'douchebag', 'university', 'bank', 'employer', 'hours', 'construction', 'dog', 'truck', 'pictures', 'siblings', 'school', 'fact', 'cameras', 'car', 'contact', 'wife', 'director', 'truck', 'room', 'buyer', 'house', 'friend', 'ny', 'family', 'mother', 'college', 'bike', 'apartment', 'divorce', 'nyc', 'officers', 'trouble', 'comment', 'car', 'cops', 'food', 'lasers', 'bar', 'trouble', 'plasma', 'pay', 'letter', 'kitchen', 'pain', 'brother', 'boyfriend', 'mars', 'ct', 'parents', 'man', 'boss', 'joe', 'youth', 'landlord', 'vote', 'credit', 'tv', 'order', 'brother', 'roommate', 'car', 'cousin', 'math', 'picture', 'hours', 'ohio', 'belongings', 'work', 'child', 'company', 'car', 'details', 'husband', 'guy', 'life', 'school', 'things', 'laws', 'apartment', 'loans', 'mom', 'test', 'pay', 'ticket', 'property', 'police', 'deposit', 'stories', 'mom', 'police', 'lease', 'son', 'please', 'brother', 'game', 'ks', 'car', 'contact', 'sex', 'car', 'story', 'security', 'lots', 'inheritance', 'apartment', 'money', 'marijuana', 'house', 'blood', 'car', 'amount', 'statement', 'notice', 'company', 'deposit', 'staff', 'school', 'prescription', 'insurance', 'appointments', 'page', 'support', 'donate', 'car', 'position', 'apartment', 'part', 'felony', 'paternity', 'police', 'cigarettes', 'footage', 'keys', 'amp', 'advice', 'signature', 'school', 'home', 'parents', 'blah', 'checks', 'friend', 'property', 'custody', 'evolution', 'canada', 'wife', 'ks', 'card', 'package', 'bmw', 'friend', 'insurance', 'drone', 'breakers', 'parents', 'business', 'partner', 'insurance', 'contact', 'space', 'car', 'car', 'reference', 'eat', 'nyc', 'mortgage', 'letters', 'candidate', 'court', 'work', 'paternity', 'life', 'pool', 'house', 'sister', 'bathroom', 'baby', 'information', 'advice', 'letter', 'mother', 'work', 'drunk', 'bank', 'probation', 'case', 'service', 'apartment', 'flies', 'money', 'lease', 'turn', 'trouble', 'room', 'hotel', 'passenger', 'assessment', 'boss', 'house', 'arkansas', 'money', 'mom', 'procreate', 'man', 'insurance', 'trouble', 'charges', 'lease', 'support', 'car', 'business', 'glass', 'car', 'abortion', 'company', 'car', 'harassment', 'children', 'fl', 'checks', 'car', 'refuse', 'garbage', 'hey', 'son', 'packages', 'rent', 'apartment', 'prison', 'sorority', 'school', 'number', 'god', 'mother', 'lanes', 'customer', 'situation', 'client', 'ticket', 'answer', 'gifts', 'ipas', 'home', 'school', 'orientation', 'union', 'husband', 'insurance', 'name', 'court', 'detainment', 'apartment', 'car', 'girlfriend', 'cash', 'cousin', 'mail', 'school', 'person', 'md', 'custody', 'hours', 'item', 'eviction', 'hours', 'imposter', 'predators', 'mail', 'parents', 'school', 'support', 'advice', 'kids', 'identity', 'leg', 'bill', 'child', 'things', 'school', 'dog', 'canada', 'loan', 'order', 'lease', 'hospital', 'county', 'flight', 'http', 'man', 'tenant', 'house', 'police', 'vacate', 'son', 'property', 'email', 'strangers', 'rabies', 'hour', 'son', 'schedule', 'bra', 'office', 'playstation', 'brother', 'friend', 'system', 'company', 'family', 'event', 'house', 'building', 'sign', 'scam', 'dad', 'sale', 'md', 'voicemail', 'dealership', 'landlord', 'post', 'friend', 'advice', 'child', 'city', 'wife', 'md', 'ge', 'bulbs', 'kids', 'dui', 'cosigner', 'pills', 'house', 'bil', 'weeks', 'business', 'call', 'plots', 'tablet', 'job', 'landlord', 'men', 'car', 'amp', 'case', 'son', 'weekend', 'dad', 'home', 'project', 'candice', 'eye', 'wife', 'fence', 'home', 'md', 'brother', 'partners', 'sugar', 'house', 'herpes', 'itunes', 'colombia', 'restaurant', 'children', 'dad', 'debt', 'product', 'dad', 'school', 'passport', 'address', 'neighbor', 'insurance', 'president', 'presentation', 'person', 'business', 'orders', 'employer', 'partner', 'package', 'money', 'charges', 'loan', 'refund', 'yesterday', 'child', 'lot', 'gym', 'contract', 'insurance', 'hoa', 'dad', 'trip', 'wife', 'nans', 'everything', 'custody', 'pto', 'signals', 'property', 'advice', 'friend', 'minecraft', 'ex', 'pain', 'child', 'crimes', 'coworker', 'work', 'kiss', 'internet', 'police', 'jury', 'bedroom', 'divorce', 'warrant', 'custody', 'patches', 'cable', 'violation', 'wage', 'pictures', 'mod', 'lease', 'kids', 'costs', 'cancer', 'boss', 'dog', 'husband', 'birth', 'video', 'vehicle', 'trial', 'lawsuits', 'pregnancy', 'guy', 'cops', 'landlord', 'cut', 'car', 'house', 'charges', 'brain', 'amp', 'rules', 'car', 'california', 'mom', 'value', 'guest', 'mom', 'car', 'car', 'wife', 'probation', 'justice', 'job', 'account', 'portfolio', 'grandma', 'music', 'ambulance', 'foods', 'firm', 'genius', 'college', 'tenant', 'house', 'subreddits', 'neighbors', 'insurance', 'job', 'money', 'reception', 'officer', 'house', 'labor', 'landlord', 'ticket', 'car', 'dog', 'school', 'things', 'vehicle', 'job', 'court', 'landlord', 'scene', 'money', 'light', 'students', 'space', 'ponytail', 'friend', 'file', 'employer', 'report', 'muslim', 'sex', 'trip', 'boss', 'mph', 'family', 'samsung', 'brothers', 'parents', 'breaks', 'florida', 'unemployment', 'sex', 'school', 'virginia', 'job', 'work', 'court', 'amp', 'passes', 'work', 'coupon', 'money', 'lease', 'mouth', 'sublet', 'apartment', 'pictures', 'school', 'life', 'lot', 'son', 'daycare', 'husband', 'person', 'employee', 'property', 'motors', 'dui', 'work', 'migraines', 'gf', 'daughter', 'credit', 'service', 'ticket', 'husband', 'side', 'money', 'possession', 'gender', 'apartment', 'uncle', 'kids', 'dc', 'dog', 'money', 'car', 'charges', 'profiles', 'ticket', 'work', 'home', 'insurance', 'son', 'truck', 'heels', 'slip', 'school', 'mickey', 'life', 'wife', 'answer', 'accident', 'manager', 'surgery', 'employee', 'support', 'kid', 'apartment', 'please', 'house', 'boat', 'aunt', 'car', 'drug', 'manager', 'roommate', 'person', 'lemon', 'divorce', 'job', 'mom', 'car', 'others', 'landlord', 'company', 'insurance', 'landlord', 'place', 'points', 'maintenance', 'company', 'registration', 'pay', 'settle', 'job', 'hope', 'dmv', 'paint', 'health', 'school', 'know', 'work', 'interview', 'hours', 'fact', 'home', 'au', 'hospital', 'self', 'car', 'traffic', 'store', 'half', 'car', 'employees', 'girlfriend', 'girlfriend', 'fence', 'contraband', 'staples', 'release', 'party', 'use', 'dog', 'mom', 'age', 'fire', 'mom', 'car', 'sex', 'son', 'school', None, 'charges', 'case', 'event', 'canada', 'support', 'woman', 'student', 'amazon', 'checks', 'work', 'friend', 'calls', 'wife', 'police', 'bar', 'woman', 'company', 'hours', 'charge', 'party', 'person', 'work', 'curiosity', 'property', 'parents', 'fb', 'job', 'fmla', 'summons', 'apartment', 'ticket', 'mo', 'student', 'home', 'name', 'money', 'rent', 'father', 'issues', 'cats', 'warrant', 'accident', 'pound', 'abandonment', 'roommate', 'rate', 'group', 'vacation', 'amount', 'friend', 'work', 'caught', 'rats', 'cancer', 'rent', 'system', 'restaurant', 'flyer', 'hey', 'park', 'kids', 'bathroom', 'system', 'road', 'school', 'jones', 'mario', 'bail', 'charges', 'university', 'health', 'employer', 'son', 'judge', 'picture', 'company', 'ticket', 'insurance', 'support', 'crime', 'marijuana', 'work', 'roommate', 'property', 'family', 'car', 'pictures', 'fbi', 'health', 'assault', 'police', 'pay', 'phone', 'replacement', 'school', 'tickets', 'legality', 'insurance', 'school', 'house', 'game', 'documents', 'girlfriend', 'co', 'accident', 'car', 'duties', 'job', 'car', 'lease', 'tracker', 'miami', 'house', 'control', 'landlord', 'life', 'dad', 'resort', 'house', 'work', 'interview', 'income', 'pot', 'company', 'woman', 'custody', 'ipod', 'idea', 'brother', 'scooter', 'oil', 'company', 'apartment', 'june', 'picture', 'sue', 'phone', 'name', 'work', 'bathroom', 'steal', 'apartment', 'fence', 'maryland', 'police', 'deposit', 'drug', 'parents', 'tips', 'officer', 'emails', 'trouble', 'information', 'family', 'drinks', 'insurance', 'idea', 'deposit', 'support', 'phone', 'signs', 'consent', 'family', 'owners', 'delivery', 'dad', 'students', 'company', 'work', 'ceo', 'company', 'gym', 'checks', 'records', 'need', 'hit', 'jail', 'ranger', 'father', 'sister', 'dress', 'location', 'deck', 'dealership', 'tenant', 'irs', 'housing', 'cannabis', 'money', 'letters', 'medication', 'car', 'car', 'roommate', 'parents', 'order', 'policy', 'divorce', 'taxes', 'family', 'check', 'car', 'arm', 'keypad', 'tenant', 'canada', 'car', 'studio', 'bring', 'landlord', 'dui', 'uncle', 'promotion', 'traps', 'pay', 'commission', 'work', 'child', 'employer', 'colorado', 'road', 'roommate', 'friend', 'contract', 'trial', 'pa', 'dog', 'weeks', 'court', 'google', 'car', 'fight', 'boat', 'parents', 'plasma', 'job', 'work', 'fence', 'family', 'contract', 'business', 'father', 'daycare', 'person', 'phone', 'wife', 'minuets', 'things', 'bugs', 'mom', 'conversation', 'dog', 'class', 'neighbors', 'lane', 'neighbor', 'accident', 'pet', 'phone', 'order', 'car', 'family', 'car', 'car', 'amazon', 'california', 'mother', 'daughter', 'florida', 'phone', 'work', 'receipt', 'parents', 'name', 'friend', 'things', 'car', 'property', 'daughter', 'student', 'number', 'job', 'children', 'car', 'sign', 'lease', 'man', 'school', 'support', 'daughter', 'nieces', 'husband', 'water', 'works', 'cat', 'defamation', 'car', 'times', 'room', 'http', 'company', 'hours', 'maintenance', 'transfer', 'husband', 'brother', 'car', 'daughter', 'modifications', 'topic', 'test', 'properties', 'event', 'car', 'university', 'musicians', 'brother', 'court', 'friend', 'car', 'housing', 'dont', 'police', 'house', 'edit', 'ticket', 'lease', 'fiancé', 'vents', 'defense', 'employees', 'baby', 'money', 'child', 'school', 'award', 'number', 'breeder', 'fraternity', 'wife', 'head', 'jury', 'gun', 'city', 'victim', 'cat', 'profiling', 'apartment', 'pay', 'need', 'car', 'case', 'lawsuit', 'school', 'house', 'police', 'company', 'work', 'pay', 'lease', 'brother', 'car', 'dogs', 'house', 'roommate', 'necklace', 'bills', 'gun', 'call', 'company', 'friends', 'car', 'weeks', 'yesterday', 'passengers', 'inheritance', 'cat', 'rights', 'friends', 'bald', 'custody', 'downstairs', 'internship', 'friends', 'home', 'cancer', 'paperwork', 'bike', 'door', 'letter', 'korea', 'surgery', 'employer', 'attorney', 'company', 'police', 'loan', 'phoenix', 'brother', 'child', 'statuses', 'lights', 'apartment', 'cops', 'kids', 'paper', 'websites', 'fedex', 'child', 'money', 'baby', 'manager', 'office', 'business', 'sue', 'work', 'car', 'tenants', 'house', 'pets', 'mom', 'money', 'apartment', 'motorcycle', 'books', 'insurance', 'photos', 'house', 'school', 'school', 'brother', 'hours', 'report', 'contact', 'secretary', 'troll', 'california', 'school', 'roommate', 'kid', 'drug', 'name', 'mom', 'computer', 'charge', 'money', 'car', 'purchase', 'tv', 'check', 'probation', 'wife', 'son', 'instrument', 'cat', 'school', 'mother', 'life', 'house', 'cheat', 'id', 'pedophiles', 'boss', 'number', 'person', 'room', 'line', 'road', 'work', 'office', 'image', 'water', 'work', 'parents', 'detective', 'relationship', 'rent', 'colleague', 'car', 'house', 'age', 'train', 'violence', 'easement', 'boyfriends', 'way', 'house', 'paperwork', 'renter', 'code', 'apartment', 'jaywalker', 'footage', 'ex', 'fire', 'crime', 'lunch', 'project', 'finger', 'tickets', 'father', 'dog', 'rally', 'jail', 'technicality', 'family', 'search', 'park', 'cruise', 'car', 'beam', 'citizen', 'medication', 'advice', 'friends', 'throw', 'lease', 'pills', 'spouse', 'aunt', 'friend', 'mcdonald', 'jury', 'kids', 'guy', 'neighbor', 'breaks', 'car', 'paternity', 'notation', 'landlord', 'app', 'damages', 'tv', 'naturopath', 'dog', 'christmas', 'quit', 'issues', 'scooter', 'photos', 'son', 'house', 'landlord', 'car', 'record', 'serials', 'name', 'friends', 'college', 'house', 'friend', 'border', 'house', 'credit', 'road', 'car', 'coworker', 'starbucks', 'case', 'father', 'shares', 'sex', 'car', 'refund', 'jail', 'landlord', 'property', 'rights', 'company', 'dog', 'record', 'house', 'officer', 'bail', 'bank', 'photos', 'employees', 'restaurant', 'card', 'amp', 'name', 'father', 'mom', 'name', 'roommate', 'machines', 'dad', 'family', 'records', 'card', 'women', 'lease', 'declare', 'company', 'work', 'eviction', 'hours', 'alimony', 'money', 'landlord', 'lula', 'company', 'car', 'court', 'gift', 'gun', 'rent', 'school', 'dog', 'consent', 'copy', 'boys', 'commit', 'business', 'renters', 'apartment', 'information', 'car', 'fireworks', 'bill', 'store', 'job', 'food', 'lease', 'mil', 'name', 'apartment', 'board', 'daughter', 'girlfriend', 'case', 'amount', 'estate', 'colorado', 'card', 'phone', 'aunt', 'divorce', 'work', 'tokens', 'hospital', 'kid', 'car', 'probation', 'company', 'witchcraft', 'wife', 'mother', 'person', 'boss', 'miles', 'lease', 'advice', 'felon', 'truck', 'parents', 'ramifications', 'property', 'wheeler', 'racist', 'jury', 'guy', 'cement', 'tenants', 'game', 'travel', 'takeover', 'daughter', 'google', 'phone', 'police', 'coins', 'id', 'spy', 'children', 'order', 'felony', 'mo', 'states', 'amount', 'junkie', 'paycheck', 'cameras', 'campus', 'product', 'dog', 'card', 'cameras', 'custody', 'lease', 'court', 'uncle', 'owner', 'company', 'apartment', 'friend', 'assault', 'roommate', 'pay', 'kids', 'home', 'money', 'cameras', 'request', 'letter', 'change', 'home', 'mother', 'hotel', None, 'mom', 'mom', 'husband', 'mom', 'tsa', 'landlord', 'beer', 'copy', 'complaint', 'game', 'purchase', 'job', 'property', 'intoxication', 'apartment', 'relation', 'car', 'ticket', 'airbnb', 'wife', 'girlfriend', 'glasses', 'condo', 'gas', 'company', 'person', 'shelter', 'dogs', 'accident', 'job', 'security', 'lease', 'home', 'gate', 'drugs', 'eviction', 'internet', 'dealer', 'questions', 'check', 'rent', 'friend', 'brother', 'parents', 'company', 'daughter', 'house', 'parents', 'ks', 'family', 'car', 'car', 'tape', 'trailer', 'photo', 'ks', 'pto', 'mother', 'injury', 'judge', 'probation', 'dm', 'woman', 'possession', 'security', 'police', 'oil', 'passport', 'soap', 'mosquito', 'death', 'landlord', 'delivery', 'checks', 'sue', 'car', 'court', 'theft', 'studio', 'fanfiction', 'amp', 'water', 'mother', 'name', 'police', 'son', 'apartment', 'tells', 'school', 'money', 'husband', 'bc', 'dog', 'mother', 'lease', 'card', 'police', 'siblings', 'daughter', 'money', 'job', 'chances', 'work', 'coworker', 'car', 'son', 'amp', 'reason', 'property', 'place', 'balcony', 'place', 'watch', 'charges', 'dr', 'car', 'children', 'kids', 'guests', 'carts', 'car', 'manager', 'city', 'employer', 'child', 'wife', 'lease', 'job', 'home', 'letter', 'passenger', 'documents', 'support', 'lease', 'manager', 'esea', 'citizen', 'oil', 'move', 'brother', 'manager', 'property', 'house', 'questions', 'business', 'mexico', 'university', 'account', 'wife', 'construction', 'university', 'dog', 'hearing', 'precedent', 'resolution', 'record', 'anxiety', 'court', 'custody', 'pizza', 'son', 'friend', 'hypothetical', 'site', 'child', 'school', 'insurance', 'dishes', 'options', 'food', 'scents', 'property', 'rights', 'access', 'hs', 'family', 'police', 'girlfriend', 'judgement', 'school', 'contractor', 'student', 'lady', 'church', 'friend', 'tv', 'minutes', 'work', 'mortgage', 'fire', 'student', 'dogs', 'exchange', 'data', 'adoption', 'house', 'house', 'baker', 'interpol', 'oil', 'claims', 'medications', 'family', 'work', 'son', 'legality', 'story', 'fmla', 'apartment', 'update', 'neighbors', 'game', 'association', 'son', 'taxes', 'wife', 'im', 'company', 'parents', 'custody', 'water', 'son', 'insurance', 'hours', 'restaurant', 'hours', 'bike', 'police', 'room', 'child', 'weeks', 'guitar', 'neighbors', 'post', 'neighbor', 'cut', 'amp', 'agency', 'room', 'airbag', 'lease', 'insurance', 'man', 'talk', 'things', 'insurance', 'truck', 'brother', 'insurance', 'house', 'court', 'family', 'lawsuit', 'dog', 'idea', 'experience', 'gift', 'dog', 'accident', 'girlfriend', 'uncle', 'custody', 'house', 'canada', 'work', 'insurance', 'tinder', 'home', 'tell', 'ticket', 'manager', 'dogs', 'money', 'computer', 'pay', 'house', 'bonus', 'bus', 'service', 'payments', 'cop', 'place', 'house', 'system', 'estate', 'ceiling', 'pet', 'apartment', 'background', 'agent', 'form', 'backpack', 'laws', 'friend', 'wife', 'school', 'ticket', 'school', 'county', 'trust', 'transgender', 'daughter', 'insurance', 'parent', 'way', 'notice', 'site', 'virginia', 'gf', 'lot', 'landlord', 'bf', 'video', 'work', 'hotel', 'job', 'condoms', 'plane', 'code', 'house', 'trees', 'insurance', 'father', 'threats', 'mom', 'cameras', 'biomom', 'family', 'home', 'consent', 'terms', 'felonies', 'chairs', 'friend', 'sue', 'student', 'massachusetts', 'uncle', 'cases', 'bathroom', 'computer', 'instructor', 'burger', 'house', 'lot', 'vt', 'dogs', 'sprint', 'mother', 'court', 'parents', 'son', 'autism', 'things', 'phone', 'mother', 'property', 'truck', 'home', 'product', 'money', 'driver', 'name', 'government', 'court', 'company', 'gf', 'school', 'company', 'health', 'house', 'kid', 'cause', 'disability', 'allowance', 'pa', 'friend', 'manager', 'car', 'house', 'company', 'press', 'defender', 'son', 'rate', 'work', 'surgery', 'car', 'ticket', 'heroin', 'police', 'refund', 'tenants', 'house', 'mom', 'orders', 'trees', 'dog', 'mother', 'wife', 'dog', 'house', 'brain', 'roomate', 'contact', 'indiana', 'agreement', 'organization', 'lease', 'carpet', 'record', 'careless', 'family', 'vaccinate', 'house', 'county', 'school', 'software', 'sign', 'car', 'hour', 'tell', 'mistakes', 'work', 'aid', 'school', 'work', 'video', 'employer', 'coat', 'form', 'cash', 'girlfriend', 'position', 'money', 'dog', 'tip', 'vacation', 'product', 'check', 'debt', 'dog', 'fire', 'work', 'home', 'bankruptcy', 'move', 'side', 'jim', 'place', 'michigan', 'person', 'house', 'master', 'plates', 'husband', 'workman', 'let', 'agreement', 'bar', 'house', 'children', 'friend', 'cash', 'number', 'company', 'saber', 'money', 'prescription', 'crosswalk', 'severance', 'package', 'apartment', 'drunk', 'car', 'check', 'dog', 'gun', 'parents', 'person', 'property', 'car', 'pets', 'case', 'deposit', 'california', 'business', 'insurance', 'computer', 'things', 'massage', 'company', 'insurance', 'email', 'car', 'sense', 'water', 'office', 'rent', 'nutella', 'doctor', 'pardon', 'mony', 'wage', 'school', 'death', 'money', 'order', 'money', 'husband', 'gun', 'marry', 'apartment', 'influence', 'mom', 'government', 'condoms', 'coworker', 'mother', 'arrears', 'dog', 'insurance', 'rent', 'school', 'shorts', 'hours', 'airline', 'money', 'building', 'letter', 'cross', 'money', 'students', 'home', 'cat', 'bonus', 'marijuana', 'ticket', 'town', 'business', 'unemployment', 'school', 'case', 'friend', 'possession', 'weekend', 'gift', 'robitussin', 'wiscousin', 'units', 'questions', 'wife', 'passport', 'belongings', 'loan', 'hospital', 'room', 'dog', 'game', 'house', 'employees', 'insurance', 'college', 'weeks', 'family', 'medicine', 'oregon', 'court', 'hr', 'things', 'security', 'charges', 'nephews', 'parents', 'sale', 'data', 'agreement', 'house', 'security', 'id', 'grandparents', 'company', 'parent', 'mri', 'head', 'work', 'custody', 'home', 'lease', 'fl', 'cost', 'patent', 'loan', 'weeks', 'children', 'event', 'friend', 'car', 'fraud', 'roommate', 'j', 'ex', 'home', 'police', 'university', 'friend', 'nudes', 'company', 'money', 'letter', 'friend', 'accounts', 'dog', 'hoa', 'friend', 'test', 'work', 'class', 'sister', 'nurses', 'cp', 'trust', 'nerve', 'junction', 'head', 'house', 'im', 'guy', 'property', 'emergency', 'blah', 'questions', 'climb', 'child', 'car', 'fathers', 'spent', 'car', 'house', 'friend', 'support', 'age', 'mail', 'texas', 'girl', 'money', 'statement', 'pitbull', 'position', 'interview', 'consultation', 'paternity', 'case', 'person', 'interest', 'jacksonville', 'doctor', 'truck', 'money', 'house', 'jack', 'blood', 'payment', 'attorney', 'call', 'cramp', 'home', 'car', 'trailer', 'case', 'girls', 'shelter', 'vehicle', 'sue', 'bf', 'threatens', 'fault', 'bar', 'nerve', 'curfew', 'account', 'cps', 'work', 'studio', 'boyfriend', 'assurance', 'store', 'insurance', 'bills', 'credit', 'support', 'dea', 'rent', 'im', 'court', 'mother', 'property', 'phone', 'info', 'wife', 'alcohol', 'language', 'case', 'briefs', 'fedex', 'parents', 'call', 'employee', 'fire', 'dog', 'owner', 'landlord', 'cameras', 'tor', 'parents', 'underage', 'insurance', 'larceny', 'work', 'job', 'registration', 'shop', 'footage', 'insurance', 'residency', 'employer', 'articles', 'name', 'school', 'tx', 'debt', 'discord', 'land', 'amp', 'utilities', 'university', 'maryland', 'mom', 'maine', 'coworker', 'cat', 'man', 'son', 'vote', 'account', 'cop', 'car', 'vehicle', 'cowcatcher', 'friend', 'pistol', 'pay', 'ordinance', 'access', 'canada', 'pay', 'student', 'marriage', 'hand', 'apartment', 'pass', 'phone', 'parents', 'car', 'brother', 'information', 'landlord', 'loans', 'massachusetts', 'care', 'phone', 'company', 'check', 'iceland', 'stitches', 'account', 'house', 'agreement', 'hire', 'mine', 'need', 'wi', 'purchase', 'resume', 'apartment', 'building', 'parents', 'matt', 'ask', 'speeds', 'parents', 'siblings', 'money', 'landlord', 'settlement', 'lot', 'fees', 'john', 'hoa', 'exterminator', 'landlord', 'music', 'trial', 'times', 'life', 'bank', 'night', 'son', 'gun', 'assault', 'marriage', 'girl', 'pregnancy', 'security', 'hand', 'friend', 'petitions', 'office', 'send', 'image', 'brother', 'vehicle', 'work', 'safety', 'woman', 'store', 'chips', 'car', 'house', 'work', 'store', 'company', 'deposit', 'house', 'surgeon', 'letter', 'lease', 'lease', 'house', 'adult', 'nudes', 'child', 'story', 'canada', 'hours', 'car', 'job', 'video', 'property', 'questions', 'phone', 'house', 'point', 'im', 'condo', 'debt', 'choke', 'man', 'tomorrow', 'home', 'neighbors', 'car', 'rent', 'college', 'seller', 'job', 'money', 'car', 'work', 'medication', 'work', 'women', 'office', 'fire', 'oil', 'lease', 'letter', 'gun', 'alcohol', 'content', 'company', 'judge', 'dogs', 'oldcompany', 'jail', 'watch', 'street', 'amp', 'disability', 'news', None, 'point', 'contract', 'rights', 'lease', 'things', 'jane', 'ptsd', 'doctors', 'owner', 'trial', 'everyone', 'company', 'parents', 'chickens', 'grandpa', 'cage', 'child', 'bonuses', 'son', 'payment', 'pay', 'order', 'mom', 'mother', 'oil', 'grandparents', 'night', 'print', 'demand', 'car', 'father', 'doctor', 'il', 'commute', 'wall', 'advice', 'options', 'training', 'lot', 'cat', 'va', 'plan', 'hours', 'company', 'settlement', 'custody', 'work', 'car', 'dad', 'murder', 'car', 'phone', 'sue', 'morning', 'work', 'property', 'dad', 'house', 'wait', 'laws', 'seller', 'ticket', 'canada', 'dog', 'maryland', 'insurance', 'vehicle', 'deposit', 'money', 'lease', 'partner', 'insurance', 'posts', 'jury', 'car', 'hire', 'company', 'substance', 'hospital', 'board', 'california', 'lease', 'judge', 'police', 'buyers', 'legaladvice', 'pharmacy', 'ways', 'infidelity', 'staff', 'workers', 'school', 'dad', 'case', 'receive', 'friend', 'parents', 'insulation', 'camera', 'support', 'cop', 'landlord', 'report', 'house', 'court', 'license', 'food', 'exterminator', 'states', 'dog', 'video', 'tv', 'support', 'lease', 'charge', 'daycare', 'kill', 'flag', 'executor', 'check', 'deposit', 'landlord', 'car', 'car', 'freelance', 'lot', 'heroin', 'fathers', 'company', 'articles', 'officer', 'lawyers', 'wage', None, 'irs', 'friend', 'purchase', 'buyer', 'student', 'child', 'letters', 'medication', 'community', 'flight', 'dog', 'apartment', 'gas', 'girlfriends', 'school', 'house', 'life', 'defender', 'uncle', 'pants', 'house', 'fake', 'property', 'gt', 'company', 'house', 'mother', 'trouble', 'house', 'court', 'money', 'program', 'google', 'super', 'car', 'rent', 'program', 'custody', 'man', 'card', 'family', 'knife', 'labor', 'bank', 'tell', 'friend', 'attorney', 'car', 'plants', 'hoa', 'custody', 'girlfriend', 'order', 'parents', 'wife', 'accommodations', 'energy', 'game', 'friend', 'court', 'hours', 'arkansas', 'walgreens', 'lease', 'school', 'items', 'case', 'gofundme', 'warrant', 'place', 'move', 'fee', 'service', 'job', 'unit', 'insurance', 'police', 'tax', 'oklahoma', 'son', 'dog', 'baby', 'doctor', 'income', 'pitchers', 'college', 'divorce', 'plates', 'money', 'business', 'wife', 'name', None, 'car', 'principle', 'pump', 'game', 'underage', 'husband', 'money', 'car', 'rights', 'sites', 'truck', 'points', 'way', 'difference', 'work', 'cars', 'serve', 'somebody', 'water', 'marijuana', 'bank', 'job', 'wife', 'canada', 'mike', 'decision', 'sue', 'mom', 'property', 'mom']\n"
          ]
        },
        {
          "output_type": "display_data",
          "data": {
            "text/plain": [
              "<Figure size 1000x500 with 1 Axes>"
            ],
            "image/png": "[encoded data removed]"
          },
          "metadata": {}
        }
      ]
    },
    {
      "cell_type": "code",
      "source": [
        "import pandas as pd\n",
        "\n",
        "# Convert dataset to pandas DataFrame\n",
        "df = pd.DataFrame(dataset)\n",
        "\n",
        "# Display the first few rows of the DataFrame\n",
        "print(df.head())\n",
        "\n",
        "# Get a summary of statistics for numerical columns (if any)\n",
        "print(df.describe())\n",
        "\n",
        "# Get information about the DataFrame (e.g., column types, non-null counts)\n",
        "print(df.info())"
      ],
      "metadata": {
        "colab": {
          "base_uri": "https://localhost:8080/"
        },
        "id": "oNVj-d3v6pu7",
        "outputId": "5c0c6431-735f-43a4-802b-5758669de323"
      },
      "execution_count": null,
      "outputs": [
        {
          "output_type": "stream",
          "name": "stdout",
          "text": [
            "                                                text created_timestamp  \\\n",
            "0  Title: Landlord broke lease agreement, what ar...        10-25-2016   \n",
            "1  Title: I think someone is breaking into my car...        11-03-2018   \n",
            "2  Title: MA - Just found out I might not be able...        08-25-2017   \n",
            "3  Title: I adopted a dog. They said they gave me...        04-24-2019   \n",
            "4  Title: (New Jersey) Denied haircut at a Barber...        10-27-2018   \n",
            "\n",
            "  downloaded_timestamp                                                url  \n",
            "0           11-09-2021  https://www.reddit.com/r/legaladvice/comments/...  \n",
            "1           09-28-2021  https://www.reddit.com/r/legaladvice/comments/...  \n",
            "2           10-02-2021  https://www.reddit.com/r/legaladvice/comments/...  \n",
            "3           09-27-2021  https://www.reddit.com/r/legaladvice/comments/...  \n",
            "4           09-28-2021  https://www.reddit.com/r/legaladvice/comments/...  \n",
            "                                                     text created_timestamp  \\\n",
            "count                                               10000             10000   \n",
            "unique                                              10000              1964   \n",
            "top     Title: Please help us help my father. Arrested...        01-22-2019   \n",
            "freq                                                    1                17   \n",
            "\n",
            "       downloaded_timestamp                                                url  \n",
            "count                 10000                                              10000  \n",
            "unique                   16                                              10000  \n",
            "top              11-10-2021  http://www.reddit.com/r/legaladvice/comments/2...  \n",
            "freq                   1558                                                  1  \n",
            "<class 'pandas.core.frame.DataFrame'>\n",
            "RangeIndex: 10000 entries, 0 to 9999\n",
            "Data columns (total 4 columns):\n",
            " #   Column                Non-Null Count  Dtype \n",
            "---  ------                --------------  ----- \n",
            " 0   text                  10000 non-null  object\n",
            " 1   created_timestamp     10000 non-null  object\n",
            " 2   downloaded_timestamp  10000 non-null  object\n",
            " 3   url                   10000 non-null  object\n",
            "dtypes: object(4)\n",
            "memory usage: 312.6+ KB\n",
            "None\n"
          ]
        }
      ]
    },
    {
      "cell_type": "code",
      "source": [
        "!pip install geotext\n",
        "!pip install numpy"
      ],
      "metadata": {
        "colab": {
          "base_uri": "https://localhost:8080/"
        },
        "id": "v2g3Wy1Tvn90",
        "outputId": "50270146-f5dd-43eb-f41d-84eb219d46df"
      },
      "execution_count": null,
      "outputs": [
        {
          "output_type": "stream",
          "name": "stdout",
          "text": [
            "Requirement already satisfied: geotext in /usr/local/lib/python3.11/dist-packages (0.4.0)\n",
            "Requirement already satisfied: numpy in /usr/local/lib/python3.11/dist-packages (2.0.2)\n"
          ]
        }
      ]
    },
    {
      "cell_type": "code",
      "source": [
        "from geotext import GeoText\n",
        "\n",
        "def extract_location_geotext(text):\n",
        "    places = GeoText(text)\n",
        "    return places.cities  # Returns detected city names\n",
        "\n",
        "# Example usage\n",
        "text = \"I visited New York and then went to Los Angeles.\"\n",
        "print(extract_location_geotext(text))  # Output: ['New York', 'Los Angeles']\n"
      ],
      "metadata": {
        "colab": {
          "base_uri": "https://localhost:8080/"
        },
        "id": "VZnVru_Sva5z",
        "outputId": "a2fa4fd6-5176-4c8b-e3f0-8116e2e718fb"
      },
      "execution_count": null,
      "outputs": [
        {
          "output_type": "stream",
          "name": "stdout",
          "text": [
            "['New York', 'Los Angeles']\n"
          ]
        }
      ]
    },
    {
      "cell_type": "code",
      "source": [
        "# We need to format the dataset to fit our prompt training style\n",
        "EOS_TOKEN = tokenizer.eos_token  # Define EOS_TOKEN which the model when to stop generating text during training\n",
        "EOS_TOKEN"
      ],
      "metadata": {
        "colab": {
          "base_uri": "https://localhost:8080/",
          "height": 35
        },
        "id": "02M7o2x-zFPa",
        "outputId": "7ff63f31-7c19-449c-df71-0131455ecf14"
      },
      "execution_count": null,
      "outputs": [
        {
          "output_type": "execute_result",
          "data": {
            "text/plain": [
              "'<｜end▁of▁sentence｜>'"
            ],
            "application/vnd.google.colaboratory.intrinsic+json": {
              "type": "string"
            }
          },
          "metadata": {},
          "execution_count": 9
        }
      ]
    },
    {
      "cell_type": "code",
      "source": [
        "import re\n",
        "\n",
        "# Define formatting prompt function\n",
        "def formatting_prompts_func(example):  # Takes a batch of dataset examples as input\n",
        "    parsed = []  # Initializes an empty list to store the formatted prompts\n",
        "\n",
        "    for text in example['text']:\n",
        "      question_match = re.search(r\"Question:(.+?)Answer #1:\", text, re.DOTALL)\n",
        "      question = question_match.group(1).strip() if question_match else None\n",
        "\n",
        "      # Extract first answer\n",
        "      answer_match = re.search(r\"Answer #1:(.+)\", text, re.DOTALL)\n",
        "      answer = answer_match.group(1).strip() if answer_match else None\n",
        "\n",
        "      text = train_prompt_style.format(question, answer) + EOS_TOKEN  # Insert values into prompt template & append EOS token\n",
        "      parsed.append(text)  # Add the formatted text to the list\n",
        "\n",
        "    return {\n",
        "        \"text\": parsed,  # Return the newly formatted dataset with a \"text\" column containing structured prompts\n",
        "    }"
      ],
      "metadata": {
        "id": "HrdJnhVP06Lm"
      },
      "execution_count": null,
      "outputs": []
    },
    {
      "cell_type": "code",
      "source": [
        "# Update dataset formatting\n",
        "dataset_finetune = dataset.map(formatting_prompts_func, batched = True)\n",
        "dataset_finetune[\"text\"][0]"
      ],
      "metadata": {
        "colab": {
          "base_uri": "https://localhost:8080/",
          "height": 191,
          "referenced_widgets": [
            "bd682fa36cfe48f3a4f2c85dd0cf366b",
            "9f9b716814874ce6b336dbaa49ac82af",
            "503e79287eb24eb09fef27f423ece72c",
            "51a52c657fc24c1fad3726b62bbf738d",
            "473334fddd6e4084b2bcb10f66b36f6b",
            "949606ac579041769e121125dd4c72b1",
            "b2c4e4e363f14198bf7db7f729670491",
            "791f424586e344809d884c248db8b7f7",
            "1ad20243459e4015a26f5c6fbbcf3cb0",
            "2965d1ba31ac4cb7917d49e6f35c7380",
            "5f99e5ba6af34ec69c606c80238bb065"
          ]
        },
        "id": "gNm09MXE1wYY",
        "outputId": "7c3847e5-a9c2-4876-dff1-40b44458e53c"
      },
      "execution_count": null,
      "outputs": [
        {
          "output_type": "display_data",
          "data": {
            "text/plain": [
              "Map:   0%|          | 0/500 [00:00<?, ? examples/s]"
            ],
            "application/vnd.jupyter.widget-view+json": {
              "version_major": 2,
              "version_minor": 0,
              "model_id": "bd682fa36cfe48f3a4f2c85dd0cf366b"
            }
          },
          "metadata": {}
        },
        {
          "output_type": "stream",
          "name": "stderr",
          "text": [
            "Caching processed dataset at /root/.cache/huggingface/datasets/pile-of-law___pile-of-law/r_legaladvice/0.0.0/c1090502f95031ebfad49ede680394da5532909fa46b7a0452be8cddecc9fa60/cache-8836de5bb822b3b0.arrow\n",
            "INFO:datasets.arrow_dataset:Caching processed dataset at /root/.cache/huggingface/datasets/pile-of-law___pile-of-law/r_legaladvice/0.0.0/c1090502f95031ebfad49ede680394da5532909fa46b7a0452be8cddecc9fa60/cache-8836de5bb822b3b0.arrow\n"
          ]
        },
        {
          "output_type": "execute_result",
          "data": {
            "text/plain": [
              "\"Below is an instruction that describes a task, paired with an input that provides further context.\\nWrite a response that appropriately completes the request.\\nBefore answering, think carefully about the question and create a step-by-step chain of thoughts to ensure a logical and accurate response.\\n\\n### Instruction:\\nYou are a legal expert. Read the tenant's legal question and provide an answer based on applicable laws.\\nBe specific about which laws or legal principles apply.\\nExplain the tenant's rights, cite the relevant statute(s), and give a clear legal opinion.\\nWhen unsure, advise consulting a qualified attorney.\\n\\n### Question:\\nOur landlord has been promising us a washer/dryer unit since we moved in (July 2015). When we resigned the lease August 2016, we wrote into the lease that an in-unit washer and dryer would be installed by September 30th 2016.\\n\\nSince September 30th, there have been continuous delays in getting the W/D installed. Since it has now been almost a month past the date the W/D was supposed to be installed, I am wondering what types of rights as a tenant I have? \\n\\nThanks ahead of time for any and all advice given.\\n\\n### Response:\\n<think>You can let your landlord know in writing that he is in default under the current lease agreement and give him a reasonable timeframe to cure his default.  \\n\\nIf he fails to correct the default, you can likely end your lease and move.<｜end▁of▁sentence｜>\""
            ],
            "application/vnd.google.colaboratory.intrinsic+json": {
              "type": "string"
            }
          },
          "metadata": {},
          "execution_count": 11
        }
      ]
    },
    {
      "cell_type": "code",
      "source": [
        "# Apply LoRA (Low-Rank Adaptation) fine-tuning to the model\n",
        "model_lora = FastLanguageModel.get_peft_model(\n",
        "    model,\n",
        "    r=16,  # LoRA rank: Determines the size of the trainable adapters (higher = more parameters, lower = more efficiency)\n",
        "    target_modules=[  # List of transformer layers where LoRA adapters will be applied\n",
        "        \"q_proj\",   # Query projection in the self-attention mechanism\n",
        "        \"k_proj\",   # Key projection in the self-attention mechanism\n",
        "        \"v_proj\",   # Value projection in the self-attention mechanism\n",
        "        \"o_proj\",   # Output projection from the attention layer\n",
        "        \"gate_proj\",  # Used in feed-forward layers (MLP)\n",
        "        \"up_proj\",    # Part of the transformer’s feed-forward network (FFN)\n",
        "        \"down_proj\",  # Another part of the transformer’s FFN\n",
        "    ],\n",
        "    lora_alpha=16,  # Scaling factor for LoRA updates (higher values allow more influence from LoRA layers)\n",
        "    lora_dropout=0,  # Dropout rate for LoRA layers (0 means no dropout, full retention of information)\n",
        "    bias=\"none\",  # Specifies whether LoRA layers should learn bias terms (setting to \"none\" saves memory)\n",
        "    use_gradient_checkpointing=\"unsloth\",  # Saves memory by recomputing activations instead of storing them (recommended for long-context fine-tuning)\n",
        "    random_state=3407,  # Sets a seed for reproducibility, ensuring the same fine-tuning behavior across runs\n",
        "    use_rslora=False,  # Whether to use Rank-Stabilized LoRA (disabled here, meaning fixed-rank LoRA is used)\n",
        "    loftq_config=None,  # Low-bit Fine-Tuning Quantization (LoFTQ) is disabled in this configuration\n",
        ")"
      ],
      "metadata": {
        "id": "VIR9H0mw4TFc",
        "colab": {
          "base_uri": "https://localhost:8080/"
        },
        "outputId": "2cb571f1-2e7b-4fb5-e447-5582ad745117"
      },
      "execution_count": null,
      "outputs": [
        {
          "output_type": "stream",
          "name": "stderr",
          "text": [
            "Unsloth 2025.3.18 patched 32 layers with 32 QKV layers, 32 O layers and 32 MLP layers.\n"
          ]
        }
      ]
    },
    {
      "cell_type": "code",
      "source": [
        "# Initialize the fine-tuning trainer — Imported using from trl import SFTTrainer\n",
        "trainer = SFTTrainer(\n",
        "    model=model_lora,  # The model to be fine-tuned\n",
        "    tokenizer=tokenizer,  # Tokenizer to process text inputs\n",
        "    train_dataset=dataset_finetune,  # Dataset used for training\n",
        "    dataset_text_field=\"text\",  # Specifies which field in the dataset contains training text\n",
        "    max_seq_length=max_seq_length,  # Defines the maximum sequence length for inputs\n",
        "    dataset_num_proc=2,  # Uses 2 CPU threads to speed up data preprocessing\n",
        "\n",
        "    # Define training arguments\n",
        "    args=TrainingArguments(\n",
        "        per_device_train_batch_size=2,  # Number of examples processed per device (GPU) at a time\n",
        "        gradient_accumulation_steps=4,  # Accumulate gradients over 4 steps before updating weights\n",
        "        num_train_epochs=1, # Full fine-tuning run\n",
        "        warmup_steps=5,  # Gradually increases learning rate for the first 5 steps\n",
        "        max_steps=60,  # Limits training to 60 steps (useful for debugging; increase for full fine-tuning)\n",
        "        learning_rate=2e-4,  # Learning rate for weight updates (tuned for LoRA fine-tuning)\n",
        "        fp16=not is_bfloat16_supported(),  # Use FP16 (if BF16 is not supported) to speed up training\n",
        "        bf16=is_bfloat16_supported(),  # Use BF16 if supported (better numerical stability on newer GPUs)\n",
        "        logging_steps=10,  # Logs training progress every 10 steps\n",
        "        optim=\"adamw_8bit\",  # Uses memory-efficient AdamW optimizer in 8-bit mode\n",
        "        weight_decay=0.01,  # Regularization to prevent overfitting\n",
        "        lr_scheduler_type=\"linear\",  # Uses a linear learning rate schedule\n",
        "        seed=3407,  # Sets a fixed seed for reproducibility\n",
        "        output_dir=\"outputs\",  # Directory where fine-tuned model checkpoints will be saved\n",
        "    ),\n",
        ")\n"
      ],
      "metadata": {
        "id": "hbtjUVEL45Je",
        "colab": {
          "base_uri": "https://localhost:8080/",
          "height": 277,
          "referenced_widgets": [
            "0cc156d142ff4da2be6afcf1e157aeac",
            "e4e9baa6357d4024a558ee736ef4c6c7",
            "4a59b3c38cb447469de62ba4e8d2e136",
            "388102bfe7c64400818ae88aeb979927",
            "d5b472dd9e7248d68854605df85b5f88",
            "b54118c67d3447b5b8553d0e34535764",
            "a112d5a24af64b68859dd0d58dfa79e8",
            "6e56b449f9fe43fbbec780e8fed1f2c5",
            "e68d61e0f48847d1a266cd55f91673af",
            "1f996a93832143089d2d46a598941697",
            "abad7bf050dc4aeba2636ecf6d3d6953"
          ]
        },
        "outputId": "9428dc7a-4c25-4c1d-ae17-a6b9f67543a2"
      },
      "execution_count": null,
      "outputs": [
        {
          "output_type": "stream",
          "name": "stderr",
          "text": [
            "Process #0 will write at /root/.cache/huggingface/datasets/pile-of-law___pile-of-law/r_legaladvice/0.0.0/c1090502f95031ebfad49ede680394da5532909fa46b7a0452be8cddecc9fa60/cache-273ca6206758bceb_00000_of_00002.arrow\n",
            "INFO:datasets.arrow_dataset:Process #0 will write at /root/.cache/huggingface/datasets/pile-of-law___pile-of-law/r_legaladvice/0.0.0/c1090502f95031ebfad49ede680394da5532909fa46b7a0452be8cddecc9fa60/cache-273ca6206758bceb_00000_of_00002.arrow\n",
            "Process #1 will write at /root/.cache/huggingface/datasets/pile-of-law___pile-of-law/r_legaladvice/0.0.0/c1090502f95031ebfad49ede680394da5532909fa46b7a0452be8cddecc9fa60/cache-273ca6206758bceb_00001_of_00002.arrow\n",
            "INFO:datasets.arrow_dataset:Process #1 will write at /root/.cache/huggingface/datasets/pile-of-law___pile-of-law/r_legaladvice/0.0.0/c1090502f95031ebfad49ede680394da5532909fa46b7a0452be8cddecc9fa60/cache-273ca6206758bceb_00001_of_00002.arrow\n",
            "Spawning 2 processes\n",
            "INFO:datasets.arrow_dataset:Spawning 2 processes\n"
          ]
        },
        {
          "output_type": "display_data",
          "data": {
            "text/plain": [
              "Unsloth: Tokenizing [\"text\"] (num_proc=2):   0%|          | 0/500 [00:00<?, ? examples/s]"
            ],
            "application/vnd.jupyter.widget-view+json": {
              "version_major": 2,
              "version_minor": 0,
              "model_id": "0cc156d142ff4da2be6afcf1e157aeac"
            }
          },
          "metadata": {}
        },
        {
          "output_type": "stream",
          "name": "stderr",
          "text": [
            "Caching processed dataset at /root/.cache/huggingface/datasets/pile-of-law___pile-of-law/r_legaladvice/0.0.0/c1090502f95031ebfad49ede680394da5532909fa46b7a0452be8cddecc9fa60/cache-273ca6206758bceb_00000_of_00002.arrow\n",
            "INFO:datasets.arrow_dataset:Caching processed dataset at /root/.cache/huggingface/datasets/pile-of-law___pile-of-law/r_legaladvice/0.0.0/c1090502f95031ebfad49ede680394da5532909fa46b7a0452be8cddecc9fa60/cache-273ca6206758bceb_00000_of_00002.arrow\n",
            "Caching processed dataset at /root/.cache/huggingface/datasets/pile-of-law___pile-of-law/r_legaladvice/0.0.0/c1090502f95031ebfad49ede680394da5532909fa46b7a0452be8cddecc9fa60/cache-273ca6206758bceb_00001_of_00002.arrow\n",
            "INFO:datasets.arrow_dataset:Caching processed dataset at /root/.cache/huggingface/datasets/pile-of-law___pile-of-law/r_legaladvice/0.0.0/c1090502f95031ebfad49ede680394da5532909fa46b7a0452be8cddecc9fa60/cache-273ca6206758bceb_00001_of_00002.arrow\n",
            "Concatenating 2 shards\n",
            "INFO:datasets.arrow_dataset:Concatenating 2 shards\n"
          ]
        }
      ]
    },
    {
      "cell_type": "code",
      "source": [
        "# Start the fine-tuning process\n",
        "trainer_stats = trainer.train()"
      ],
      "metadata": {
        "id": "TiRXATks460v",
        "colab": {
          "base_uri": "https://localhost:8080/",
          "height": 665
        },
        "outputId": "63178cd2-587c-4ff6-f978-7ae36d3391da"
      },
      "execution_count": null,
      "outputs": [
        {
          "output_type": "stream",
          "name": "stderr",
          "text": [
            "==((====))==  Unsloth - 2x faster free finetuning | Num GPUs used = 1\n",
            "   \\\\   /|    Num examples = 500 | Num Epochs = 1 | Total steps = 60\n",
            "O^O/ \\_/ \\    Batch size per device = 2 | Gradient accumulation steps = 4\n",
            "\\        /    Data Parallel GPUs = 1 | Total batch size (2 x 4 x 1) = 8\n",
            " \"-____-\"     Trainable parameters = 41,943,040/8,000,000,000 (0.52% trained)\n",
            "\u001b[34m\u001b[1mwandb\u001b[0m: \u001b[33mWARNING\u001b[0m The `run_name` is currently set to the same value as `TrainingArguments.output_dir`. If this was not intended, please specify a different run name by setting the `TrainingArguments.run_name` parameter.\n",
            "\u001b[34m\u001b[1mwandb\u001b[0m: Using wandb-core as the SDK backend.  Please refer to https://wandb.me/wandb-core for more information.\n"
          ]
        },
        {
          "output_type": "display_data",
          "data": {
            "text/plain": [
              "<IPython.core.display.Javascript object>"
            ],
            "application/javascript": [
              "\n",
              "        window._wandbApiKey = new Promise((resolve, reject) => {\n",
              "            function loadScript(url) {\n",
              "            return new Promise(function(resolve, reject) {\n",
              "                let newScript = document.createElement(\"script\");\n",
              "                newScript.onerror = reject;\n",
              "                newScript.onload = resolve;\n",
              "                document.body.appendChild(newScript);\n",
              "                newScript.src = url;\n",
              "            });\n",
              "            }\n",
              "            loadScript(\"https://cdn.jsdelivr.net/npm/postmate/build/postmate.min.js\").then(() => {\n",
              "            const iframe = document.createElement('iframe')\n",
              "            iframe.style.cssText = \"width:0;height:0;border:none\"\n",
              "            document.body.appendChild(iframe)\n",
              "            const handshake = new Postmate({\n",
              "                container: iframe,\n",
              "                url: 'https://wandb.ai/authorize'\n",
              "            });\n",
              "            const timeout = setTimeout(() => reject(\"Couldn't auto authenticate\"), 5000)\n",
              "            handshake.then(function(child) {\n",
              "                child.on('authorize', data => {\n",
              "                    clearTimeout(timeout)\n",
              "                    resolve(data)\n",
              "                });\n",
              "            });\n",
              "            })\n",
              "        });\n",
              "    "
            ]
          },
          "metadata": {}
        },
        {
          "output_type": "stream",
          "name": "stderr",
          "text": [
            "\u001b[34m\u001b[1mwandb\u001b[0m: Logging into wandb.ai. (Learn how to deploy a W&B server locally: https://wandb.me/wandb-server)\n",
            "\u001b[34m\u001b[1mwandb\u001b[0m: You can find your API key in your browser here: https://wandb.ai/authorize\n",
            "wandb: Paste an API key from your profile and hit enter:"
          ]
        },
        {
          "name": "stdout",
          "output_type": "stream",
          "text": [
            " ··········\n"
          ]
        },
        {
          "output_type": "stream",
          "name": "stderr",
          "text": [
            "\u001b[34m\u001b[1mwandb\u001b[0m: \u001b[33mWARNING\u001b[0m If you're specifying your api key in code, ensure this code is not shared publicly.\n",
            "\u001b[34m\u001b[1mwandb\u001b[0m: \u001b[33mWARNING\u001b[0m Consider setting the WANDB_API_KEY environment variable, or running `wandb login` from the command line.\n",
            "\u001b[34m\u001b[1mwandb\u001b[0m: No netrc file found, creating one.\n",
            "\u001b[34m\u001b[1mwandb\u001b[0m: Appending key for api.wandb.ai to your netrc file: /root/.netrc\n",
            "\u001b[34m\u001b[1mwandb\u001b[0m: Currently logged in as: \u001b[33madityapmogare\u001b[0m (\u001b[33madityapmogare-a-self-guru\u001b[0m) to \u001b[32mhttps://api.wandb.ai\u001b[0m. Use \u001b[1m`wandb login --relogin`\u001b[0m to force relogin\n"
          ]
        },
        {
          "output_type": "display_data",
          "data": {
            "text/plain": [
              "<IPython.core.display.HTML object>"
            ],
            "text/html": [
              "Tracking run with wandb version 0.19.8"
            ]
          },
          "metadata": {}
        },
        {
          "output_type": "display_data",
          "data": {
            "text/plain": [
              "<IPython.core.display.HTML object>"
            ],
            "text/html": [
              "Run data is saved locally in <code>/content/wandb/run-20250325_194802-0yydhjd3</code>"
            ]
          },
          "metadata": {}
        },
        {
          "output_type": "display_data",
          "data": {
            "text/plain": [
              "<IPython.core.display.HTML object>"
            ],
            "text/html": [
              "Syncing run <strong><a href='https://wandb.ai/adityapmogare-a-self-guru/huggingface/runs/0yydhjd3' target=\"_blank\">outputs</a></strong> to <a href='https://wandb.ai/adityapmogare-a-self-guru/huggingface' target=\"_blank\">Weights & Biases</a> (<a href='https://wandb.me/developer-guide' target=\"_blank\">docs</a>)<br>"
            ]
          },
          "metadata": {}
        },
        {
          "output_type": "display_data",
          "data": {
            "text/plain": [
              "<IPython.core.display.HTML object>"
            ],
            "text/html": [
              " View project at <a href='https://wandb.ai/adityapmogare-a-self-guru/huggingface' target=\"_blank\">https://wandb.ai/adityapmogare-a-self-guru/huggingface</a>"
            ]
          },
          "metadata": {}
        },
        {
          "output_type": "display_data",
          "data": {
            "text/plain": [
              "<IPython.core.display.HTML object>"
            ],
            "text/html": [
              " View run at <a href='https://wandb.ai/adityapmogare-a-self-guru/huggingface/runs/0yydhjd3' target=\"_blank\">https://wandb.ai/adityapmogare-a-self-guru/huggingface/runs/0yydhjd3</a>"
            ]
          },
          "metadata": {}
        },
        {
          "output_type": "stream",
          "name": "stdout",
          "text": [
            "Unsloth: Will smartly offload gradients to save VRAM!\n"
          ]
        },
        {
          "output_type": "display_data",
          "data": {
            "text/plain": [
              "<IPython.core.display.HTML object>"
            ],
            "text/html": [
              "\n",
              "    <div>\n",
              "      \n",
              "      <progress value='60' max='60' style='width:300px; height:20px; vertical-align: middle;'></progress>\n",
              "      [60/60 16:21, Epoch 0/1]\n",
              "    </div>\n",
              "    <table border=\"1\" class=\"dataframe\">\n",
              "  <thead>\n",
              " <tr style=\"text-align: left;\">\n",
              "      <th>Step</th>\n",
              "      <th>Training Loss</th>\n",
              "    </tr>\n",
              "  </thead>\n",
              "  <tbody>\n",
              "    <tr>\n",
              "      <td>10</td>\n",
              "      <td>2.889200</td>\n",
              "    </tr>\n",
              "    <tr>\n",
              "      <td>20</td>\n",
              "      <td>2.129700</td>\n",
              "    </tr>\n",
              "    <tr>\n",
              "      <td>30</td>\n",
              "      <td>2.034400</td>\n",
              "    </tr>\n",
              "    <tr>\n",
              "      <td>40</td>\n",
              "      <td>2.010100</td>\n",
              "    </tr>\n",
              "    <tr>\n",
              "      <td>50</td>\n",
              "      <td>1.958800</td>\n",
              "    </tr>\n",
              "    <tr>\n",
              "      <td>60</td>\n",
              "      <td>2.019100</td>\n",
              "    </tr>\n",
              "  </tbody>\n",
              "</table><p>"
            ]
          },
          "metadata": {}
        }
      ]
    },
    {
      "cell_type": "code",
      "source": [
        "question = \"\"\"Our landlord has been promising us a washer/dryer unit since we moved in (July 2015). When we resigned the lease August 2016,\n",
        "we wrote into the lease that an in-unit washer and dryer would be installed by September 30th 2016.Since September 30th, there have been continuous\n",
        "delays in getting the W/D installed. Since it has now been almost a month past the date the W/D was supposed to be installed, I am wondering what\n",
        "types of rights as a tenant I have? Thanks ahead of time for any and all advice given.\"\"\"\n",
        "\n",
        "# Load the inference model using FastLanguageModel (Unsloth optimizes for speed)\n",
        "FastLanguageModel.for_inference(model_lora)  # Unsloth has 2x faster inference!\n",
        "\n",
        "# Tokenize the input question with a specific prompt format and move it to the GPU\n",
        "inputs = tokenizer([prompt_style.format(question, \"\")], return_tensors=\"pt\").to(\"cuda\")\n",
        "\n",
        "# Generate a response using LoRA fine-tuned model with specific parameters\n",
        "outputs = model_lora.generate(\n",
        "    input_ids=inputs.input_ids,          # Tokenized input IDs\n",
        "    attention_mask=inputs.attention_mask, # Attention mask for padding handling\n",
        "    max_new_tokens=1200,                  # Maximum length for generated response\n",
        "    use_cache=True,                        # Enable cache for efficient generation\n",
        ")\n",
        "\n",
        "# Decode the generated response from tokenized format to readable text\n",
        "response = tokenizer.batch_decode(outputs)\n",
        "\n",
        "# Extract and print only the model's response part after \"### Response:\"\n",
        "print(response[0].split(\"### Response:\")[1])"
      ],
      "metadata": {
        "id": "PcLXr77R49Yu",
        "colab": {
          "base_uri": "https://localhost:8080/"
        },
        "outputId": "0491e786-4d83-49ae-c8f7-7a52c089e14b"
      },
      "execution_count": null,
      "outputs": [
        {
          "output_type": "stream",
          "name": "stdout",
          "text": [
            "\n",
            "<think>&gt;When we resigned the lease August 2016, we wrote into the lease that an in-unit washer and dryer would be installed by September 30th 2016.\n",
            "\n",
            "&gt;Since September 30th, there have been continuous delays in getting the W/D installed.\n",
            "\n",
            "&gt;Since it has now been almost a month past the date the W/D was supposed to be installed, I am wondering what types of rights as a tenant I have?\n",
            "\n",
            "You can sue your landlord for breach of contract.  Your lease is a contract and your landlord has not fulfilled their obligations.  The lease should also specify the consequences of not fulfilling obligations, such as eviction or financial penalties.<｜end▁of▁sentence｜>\n"
          ]
        }
      ]
    },
    {
      "cell_type": "code",
      "source": [
        "model.save_pretrained(\"legal_deepseek_model_01\")  # Local saving\n",
        "tokenizer.save_pretrained(\"legal_deepseek_model_tokenizer\")"
      ],
      "metadata": {
        "id": "AvrtqQ83Sd_J",
        "colab": {
          "base_uri": "https://localhost:8080/"
        },
        "outputId": "8eb8734e-9a71-458b-ab1d-06087244acaf"
      },
      "execution_count": null,
      "outputs": [
        {
          "output_type": "execute_result",
          "data": {
            "text/plain": [
              "('legal_deepseek_model_tokenizer/tokenizer_config.json',\n",
              " 'legal_deepseek_model_tokenizer/special_tokens_map.json',\n",
              " 'legal_deepseek_model_tokenizer/tokenizer.json')"
            ]
          },
          "metadata": {},
          "execution_count": 17
        }
      ]
    },
    {
      "cell_type": "code",
      "source": [],
      "metadata": {
        "id": "l5lQbi7c75qx"
      },
      "execution_count": null,
      "outputs": []
    }
  ]
}